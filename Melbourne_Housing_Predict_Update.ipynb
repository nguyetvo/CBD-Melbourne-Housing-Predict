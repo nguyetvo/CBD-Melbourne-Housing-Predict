{
  "nbformat": 4,
  "nbformat_minor": 0,
  "metadata": {
    "colab": {
      "name": "Melbourne Housing Predict_Update.ipynb",
      "provenance": [],
      "collapsed_sections": [],
      "machine_shape": "hm",
      "authorship_tag": "ABX9TyN2ondkStd+jC9FHkqU+cTX",
      "include_colab_link": true
    },
    "kernelspec": {
      "name": "python3",
      "display_name": "Python 3"
    }
  },
  "cells": [
    {
      "cell_type": "markdown",
      "metadata": {
        "id": "view-in-github",
        "colab_type": "text"
      },
      "source": [
        "<a href=\"https://colab.research.google.com/github/nguyetvo/CBD-Melbourne-Housing-Predict/blob/master/Melbourne_Housing_Predict_Update.ipynb\" target=\"_parent\"><img src=\"https://colab.research.google.com/assets/colab-badge.svg\" alt=\"Open In Colab\"/></a>"
      ]
    },
    {
      "cell_type": "code",
      "metadata": {
        "id": "TwLbrGym219P",
        "colab_type": "code",
        "colab": {}
      },
      "source": [
        "import pandas as pd\n",
        "import numpy as np\n",
        "from pandas import read_csv, DataFrame"
      ],
      "execution_count": 0,
      "outputs": []
    },
    {
      "cell_type": "code",
      "metadata": {
        "id": "psXE3dp728j2",
        "colab_type": "code",
        "outputId": "9ec14723-0145-4303-d1c9-4c48ce60eb90",
        "colab": {
          "base_uri": "https://localhost:8080/",
          "height": 118
        }
      },
      "source": [
        "from google.colab import drive\n",
        "drive.mount('/content/drive')"
      ],
      "execution_count": 2,
      "outputs": [
        {
          "output_type": "stream",
          "text": [
            "Go to this URL in a browser: https://accounts.google.com/o/oauth2/auth?client_id=947318989803-6bn6qk8qdgf4n4g3pfee6491hc0brc4i.apps.googleusercontent.com&redirect_uri=urn%3aietf%3awg%3aoauth%3a2.0%3aoob&response_type=code&scope=email%20https%3a%2f%2fwww.googleapis.com%2fauth%2fdocs.test%20https%3a%2f%2fwww.googleapis.com%2fauth%2fdrive%20https%3a%2f%2fwww.googleapis.com%2fauth%2fdrive.photos.readonly%20https%3a%2f%2fwww.googleapis.com%2fauth%2fpeopleapi.readonly\n",
            "\n",
            "Enter your authorization code:\n",
            "··········\n",
            "Mounted at /content/drive\n"
          ],
          "name": "stdout"
        }
      ]
    },
    {
      "cell_type": "code",
      "metadata": {
        "id": "09d0CJfN2-NL",
        "colab_type": "code",
        "colab": {}
      },
      "source": [
        "data =  pd.read_csv('/content/drive/My Drive/Melbourne Housing Predict/Melbourne_housing_FULL.csv')"
      ],
      "execution_count": 0,
      "outputs": []
    },
    {
      "cell_type": "code",
      "metadata": {
        "id": "2cxsvLiM3GtQ",
        "colab_type": "code",
        "outputId": "56ba30e1-af21-458b-c4c0-537425aea937",
        "colab": {
          "base_uri": "https://localhost:8080/",
          "height": 477
        }
      },
      "source": [
        "data.info()"
      ],
      "execution_count": 4,
      "outputs": [
        {
          "output_type": "stream",
          "text": [
            "<class 'pandas.core.frame.DataFrame'>\n",
            "RangeIndex: 34857 entries, 0 to 34856\n",
            "Data columns (total 21 columns):\n",
            " #   Column         Non-Null Count  Dtype  \n",
            "---  ------         --------------  -----  \n",
            " 0   Suburb         34857 non-null  object \n",
            " 1   Address        34857 non-null  object \n",
            " 2   Rooms          34857 non-null  int64  \n",
            " 3   Type           34857 non-null  object \n",
            " 4   Price          27247 non-null  float64\n",
            " 5   Method         34857 non-null  object \n",
            " 6   SellerG        34857 non-null  object \n",
            " 7   Date           34857 non-null  object \n",
            " 8   Distance       34856 non-null  float64\n",
            " 9   Postcode       34856 non-null  float64\n",
            " 10  Bedroom2       26640 non-null  float64\n",
            " 11  Bathroom       26631 non-null  float64\n",
            " 12  Car            26129 non-null  float64\n",
            " 13  Landsize       23047 non-null  float64\n",
            " 14  BuildingArea   13742 non-null  float64\n",
            " 15  YearBuilt      15551 non-null  float64\n",
            " 16  CouncilArea    34854 non-null  object \n",
            " 17  Lattitude      26881 non-null  float64\n",
            " 18  Longtitude     26881 non-null  float64\n",
            " 19  Regionname     34854 non-null  object \n",
            " 20  Propertycount  34854 non-null  float64\n",
            "dtypes: float64(12), int64(1), object(8)\n",
            "memory usage: 5.6+ MB\n"
          ],
          "name": "stdout"
        }
      ]
    },
    {
      "cell_type": "code",
      "metadata": {
        "id": "zdh0EolK3kT7",
        "colab_type": "code",
        "colab": {}
      },
      "source": [
        "#change Postcode\n",
        "data['Postcode']= data['Postcode'].astype('object')\n",
        "#change Bathroom and car to integer. Before the transformation I need to convert all the missing values to 0. \n",
        "#lastly, change Propertycount to category\n",
        "data['Propertycount']= data['Propertycount'].astype('object')"
      ],
      "execution_count": 0,
      "outputs": []
    },
    {
      "cell_type": "code",
      "metadata": {
        "id": "B9ayYPqn3OY8",
        "colab_type": "code",
        "colab": {}
      },
      "source": [
        "#replace outlier building area\n",
        "data['BuildingArea'].replace(44515.0, 445, inplace=True)"
      ],
      "execution_count": 0,
      "outputs": []
    },
    {
      "cell_type": "code",
      "metadata": {
        "id": "nET_1RNb4GIW",
        "colab_type": "code",
        "outputId": "beafc9d8-de65-4c9f-adcc-b29b803769b7",
        "colab": {
          "base_uri": "https://localhost:8080/",
          "height": 65
        }
      },
      "source": [
        "# check YearBuilt > 2018\n",
        "print(data['YearBuilt'].loc[data.YearBuilt>2018])\n",
        "#replace 2106 with 2016 and 2019 with 2018\n",
        "data['YearBuilt'].replace([2106, 2019], [2016, 2018], inplace=True)"
      ],
      "execution_count": 7,
      "outputs": [
        {
          "output_type": "stream",
          "text": [
            "2453     2106.0\n",
            "33033    2019.0\n",
            "Name: YearBuilt, dtype: float64\n"
          ],
          "name": "stdout"
        }
      ]
    },
    {
      "cell_type": "code",
      "metadata": {
        "id": "jNIf2Wq54N5b",
        "colab_type": "code",
        "colab": {}
      },
      "source": [
        "# We will save the \"cured\" data columns in variables\n",
        "#first with the mean\n",
        "priceWithMean = data['Price'].fillna(data['Price'].mean())\n",
        "BAWithMean = data['BuildingArea'].fillna(data['BuildingArea'].mean())\n",
        "\n",
        "#now with the median\n",
        "priceMedian = data['Price'].fillna(data['Price'].median())\n",
        "BAMedian = data['BuildingArea'].fillna(data['BuildingArea'].median())"
      ],
      "execution_count": 0,
      "outputs": []
    },
    {
      "cell_type": "code",
      "metadata": {
        "id": "cgQsa3d94eKP",
        "colab_type": "code",
        "outputId": "767f0150-f430-47f7-f0d7-8547d595a1d7",
        "colab": {
          "base_uri": "https://localhost:8080/",
          "height": 378
        }
      },
      "source": [
        "data['Price']= data['Price'].fillna(data['Price'].median())\n",
        "data['Landsize']= data['Landsize'].fillna(data['Landsize'].median())\n",
        "#Similarly, fill the only missing value of  all the other numeric values\n",
        "data['Distance'] = data['Distance'].fillna(data['Distance'].median())\n",
        "data['BuildingArea']= data['BuildingArea'].fillna(data['BuildingArea'].median())\n",
        "data['Lattitude']= data['Lattitude'].fillna(data['Lattitude'].median())\n",
        "data['Longtitude']= data['Longtitude'].fillna(data['Longtitude'].median())\n",
        "data['YearBuilt']= data['YearBuilt'].fillna(data['YearBuilt'].median())\n",
        "data.isnull().sum()"
      ],
      "execution_count": 9,
      "outputs": [
        {
          "output_type": "execute_result",
          "data": {
            "text/plain": [
              "Suburb              0\n",
              "Address             0\n",
              "Rooms               0\n",
              "Type                0\n",
              "Price               0\n",
              "Method              0\n",
              "SellerG             0\n",
              "Date                0\n",
              "Distance            0\n",
              "Postcode            1\n",
              "Bedroom2         8217\n",
              "Bathroom         8226\n",
              "Car              8728\n",
              "Landsize            0\n",
              "BuildingArea        0\n",
              "YearBuilt           0\n",
              "CouncilArea         3\n",
              "Lattitude           0\n",
              "Longtitude          0\n",
              "Regionname          3\n",
              "Propertycount       3\n",
              "dtype: int64"
            ]
          },
          "metadata": {
            "tags": []
          },
          "execution_count": 9
        }
      ]
    },
    {
      "cell_type": "code",
      "metadata": {
        "id": "SFiiofpy5EFM",
        "colab_type": "code",
        "outputId": "7c294239-0e28-45f5-8e24-63ca14e8a80a",
        "colab": {
          "base_uri": "https://localhost:8080/",
          "height": 378
        }
      },
      "source": [
        "data['Bathroom']= data['Bathroom'].fillna(data['Bathroom'].mode()[0])\n",
        "data['Bedroom2']= data['Bedroom2'].fillna(data['Bedroom2'].mode()[0])\n",
        "data['Car']= data['Car'].fillna(data['Car'].mode()[0])\n",
        "data['CouncilArea']= data['CouncilArea'].fillna(data['CouncilArea'].mode()[0])\n",
        "data['Regionname']= data['Regionname'].fillna(data['Regionname'].mode()[0])\n",
        "data['Propertycount']= data['Propertycount'].fillna(data['Propertycount'].mode()[0])\n",
        "data['Postcode']= data['Postcode'].fillna(data['Postcode'].mode()[0])\n",
        "data.isnull().sum()"
      ],
      "execution_count": 10,
      "outputs": [
        {
          "output_type": "execute_result",
          "data": {
            "text/plain": [
              "Suburb           0\n",
              "Address          0\n",
              "Rooms            0\n",
              "Type             0\n",
              "Price            0\n",
              "Method           0\n",
              "SellerG          0\n",
              "Date             0\n",
              "Distance         0\n",
              "Postcode         0\n",
              "Bedroom2         0\n",
              "Bathroom         0\n",
              "Car              0\n",
              "Landsize         0\n",
              "BuildingArea     0\n",
              "YearBuilt        0\n",
              "CouncilArea      0\n",
              "Lattitude        0\n",
              "Longtitude       0\n",
              "Regionname       0\n",
              "Propertycount    0\n",
              "dtype: int64"
            ]
          },
          "metadata": {
            "tags": []
          },
          "execution_count": 10
        }
      ]
    },
    {
      "cell_type": "markdown",
      "metadata": {
        "id": "B5cmKiPyshEw",
        "colab_type": "text"
      },
      "source": [
        "# **Hypothesis Testing**"
      ]
    },
    {
      "cell_type": "markdown",
      "metadata": {
        "id": "5ZLhf4Misy9y",
        "colab_type": "text"
      },
      "source": [
        "**Testing Correlation between landsize and Price of houses**\n",
        "- Null Hypothesis: **There is no significant difference between landsize and Price of houses i.e. there is no correlation between the two variable.**\n",
        "- Alternative Hypothesis: **There is a significant difference between landsize and price and they are correlated.**\n",
        "\n",
        "Using the Pearson’s Correlation test:"
      ]
    },
    {
      "cell_type": "code",
      "metadata": {
        "id": "oRwg75yVtXYk",
        "colab_type": "code",
        "colab": {}
      },
      "source": [
        "!pip install --upgrade pingouin\n",
        "import pingouin as pg \n",
        "from scipy import stats \n",
        "import scipy "
      ],
      "execution_count": 0,
      "outputs": []
    },
    {
      "cell_type": "code",
      "metadata": {
        "id": "_VQ2B8lEsxCb",
        "colab_type": "code",
        "colab": {
          "base_uri": "https://localhost:8080/",
          "height": 78
        },
        "outputId": "e768d53c-04c0-4f43-d301-a44b264b9d8e"
      },
      "source": [
        "pg.corr(x=data['Price'], y=data['Landsize'])\n",
        "#r,p = scipy.stats.pearsonr(data.Price, data.Landsize)"
      ],
      "execution_count": 12,
      "outputs": [
        {
          "output_type": "execute_result",
          "data": {
            "text/html": [
              "<div>\n",
              "<style scoped>\n",
              "    .dataframe tbody tr th:only-of-type {\n",
              "        vertical-align: middle;\n",
              "    }\n",
              "\n",
              "    .dataframe tbody tr th {\n",
              "        vertical-align: top;\n",
              "    }\n",
              "\n",
              "    .dataframe thead th {\n",
              "        text-align: right;\n",
              "    }\n",
              "</style>\n",
              "<table border=\"1\" class=\"dataframe\">\n",
              "  <thead>\n",
              "    <tr style=\"text-align: right;\">\n",
              "      <th></th>\n",
              "      <th>n</th>\n",
              "      <th>r</th>\n",
              "      <th>CI95%</th>\n",
              "      <th>r2</th>\n",
              "      <th>adj_r2</th>\n",
              "      <th>p-val</th>\n",
              "      <th>BF10</th>\n",
              "      <th>power</th>\n",
              "    </tr>\n",
              "  </thead>\n",
              "  <tbody>\n",
              "    <tr>\n",
              "      <th>pearson</th>\n",
              "      <td>34857</td>\n",
              "      <td>0.027</td>\n",
              "      <td>[0.02, 0.04]</td>\n",
              "      <td>0.001</td>\n",
              "      <td>0.001</td>\n",
              "      <td>3.419611e-07</td>\n",
              "      <td>2963.672</td>\n",
              "      <td>0.999</td>\n",
              "    </tr>\n",
              "  </tbody>\n",
              "</table>\n",
              "</div>"
            ],
            "text/plain": [
              "             n      r         CI95%  ...         p-val      BF10  power\n",
              "pearson  34857  0.027  [0.02, 0.04]  ...  3.419611e-07  2963.672  0.999\n",
              "\n",
              "[1 rows x 8 columns]"
            ]
          },
          "metadata": {
            "tags": []
          },
          "execution_count": 12
        }
      ]
    },
    {
      "cell_type": "markdown",
      "metadata": {
        "id": "RW8lMZZVtthQ",
        "colab_type": "text"
      },
      "source": [
        "I have a significant p-value here (3.419611e-07 << 0.05) and thus I reject the null hypothesis. I conclude there is indeed a correlation between Landsize and Price."
      ]
    },
    {
      "cell_type": "markdown",
      "metadata": {
        "id": "5NNM8fHWtxwh",
        "colab_type": "text"
      },
      "source": [
        "**Testing Correlation between no. of rooms and Price of houses**\n",
        "- Null Hypothesis: **There is no significant difference between No. of rooms and Price of houses i.e. there is no correlation between the two variable.**\n",
        "- Alternative Hypothesis: **There is a significant difference between No. of rooms and price and they are correlated.**\n",
        "\n",
        "Using the Pearson’s Correlation test:"
      ]
    },
    {
      "cell_type": "code",
      "metadata": {
        "id": "wMRdZ4mBt-Ea",
        "colab_type": "code",
        "colab": {
          "base_uri": "https://localhost:8080/",
          "height": 78
        },
        "outputId": "75950df8-069f-4750-a251-abe73d08a596"
      },
      "source": [
        "pg.corr(x=data['Price'], y=data['Rooms'])"
      ],
      "execution_count": 13,
      "outputs": [
        {
          "output_type": "execute_result",
          "data": {
            "text/html": [
              "<div>\n",
              "<style scoped>\n",
              "    .dataframe tbody tr th:only-of-type {\n",
              "        vertical-align: middle;\n",
              "    }\n",
              "\n",
              "    .dataframe tbody tr th {\n",
              "        vertical-align: top;\n",
              "    }\n",
              "\n",
              "    .dataframe thead th {\n",
              "        text-align: right;\n",
              "    }\n",
              "</style>\n",
              "<table border=\"1\" class=\"dataframe\">\n",
              "  <thead>\n",
              "    <tr style=\"text-align: right;\">\n",
              "      <th></th>\n",
              "      <th>n</th>\n",
              "      <th>r</th>\n",
              "      <th>CI95%</th>\n",
              "      <th>r2</th>\n",
              "      <th>adj_r2</th>\n",
              "      <th>p-val</th>\n",
              "      <th>BF10</th>\n",
              "      <th>power</th>\n",
              "    </tr>\n",
              "  </thead>\n",
              "  <tbody>\n",
              "    <tr>\n",
              "      <th>pearson</th>\n",
              "      <td>34857</td>\n",
              "      <td>0.392</td>\n",
              "      <td>[0.38, 0.4]</td>\n",
              "      <td>0.153</td>\n",
              "      <td>0.153</td>\n",
              "      <td>0.0</td>\n",
              "      <td>inf</td>\n",
              "      <td>1.0</td>\n",
              "    </tr>\n",
              "  </tbody>\n",
              "</table>\n",
              "</div>"
            ],
            "text/plain": [
              "             n      r        CI95%     r2  adj_r2  p-val BF10  power\n",
              "pearson  34857  0.392  [0.38, 0.4]  0.153   0.153    0.0  inf    1.0"
            ]
          },
          "metadata": {
            "tags": []
          },
          "execution_count": 13
        }
      ]
    },
    {
      "cell_type": "markdown",
      "metadata": {
        "id": "KaZfEjQ2uC7m",
        "colab_type": "text"
      },
      "source": [
        "Here again I have a significant p-value here (0.0 << 0.05) and thus I reject the null hypothesis. I conclude there is indeed a correlation between No. of rooms and price."
      ]
    },
    {
      "cell_type": "markdown",
      "metadata": {
        "id": "XbEIbw2quGHW",
        "colab_type": "text"
      },
      "source": [
        "**Testing Correlation between Distance from CBD and Price of houses**\n",
        "- Null Hypothesis: **There is no significant difference between Distance from CBD and Price of houses i.e. there is no correlation between the two variable.**\n",
        "-  Alternative Hypothesis: **There is a significant difference between Distance from CBD and price and they are correlated.**\n",
        "\n",
        "Using the Pearson’s Correlation test:"
      ]
    },
    {
      "cell_type": "code",
      "metadata": {
        "id": "NCAUQX94uY8w",
        "colab_type": "code",
        "colab": {
          "base_uri": "https://localhost:8080/",
          "height": 78
        },
        "outputId": "387d71d7-bbbf-4181-a288-9184c25231d1"
      },
      "source": [
        "pg.corr(x=data['Price'], y=data['Distance'])"
      ],
      "execution_count": 14,
      "outputs": [
        {
          "output_type": "execute_result",
          "data": {
            "text/html": [
              "<div>\n",
              "<style scoped>\n",
              "    .dataframe tbody tr th:only-of-type {\n",
              "        vertical-align: middle;\n",
              "    }\n",
              "\n",
              "    .dataframe tbody tr th {\n",
              "        vertical-align: top;\n",
              "    }\n",
              "\n",
              "    .dataframe thead th {\n",
              "        text-align: right;\n",
              "    }\n",
              "</style>\n",
              "<table border=\"1\" class=\"dataframe\">\n",
              "  <thead>\n",
              "    <tr style=\"text-align: right;\">\n",
              "      <th></th>\n",
              "      <th>n</th>\n",
              "      <th>r</th>\n",
              "      <th>CI95%</th>\n",
              "      <th>r2</th>\n",
              "      <th>adj_r2</th>\n",
              "      <th>p-val</th>\n",
              "      <th>BF10</th>\n",
              "      <th>power</th>\n",
              "    </tr>\n",
              "  </thead>\n",
              "  <tbody>\n",
              "    <tr>\n",
              "      <th>pearson</th>\n",
              "      <td>34857</td>\n",
              "      <td>-0.182</td>\n",
              "      <td>[-0.19, -0.17]</td>\n",
              "      <td>0.033</td>\n",
              "      <td>0.033</td>\n",
              "      <td>9.858216e-257</td>\n",
              "      <td>1.547e+252</td>\n",
              "      <td>1.0</td>\n",
              "    </tr>\n",
              "  </tbody>\n",
              "</table>\n",
              "</div>"
            ],
            "text/plain": [
              "             n      r           CI95%  ...          p-val        BF10  power\n",
              "pearson  34857 -0.182  [-0.19, -0.17]  ...  9.858216e-257  1.547e+252    1.0\n",
              "\n",
              "[1 rows x 8 columns]"
            ]
          },
          "metadata": {
            "tags": []
          },
          "execution_count": 14
        }
      ]
    },
    {
      "cell_type": "markdown",
      "metadata": {
        "id": "NeXOtFJTucFB",
        "colab_type": "text"
      },
      "source": [
        "I have a significant p-value here (9.858216e-257 << 0.05) and thus I reject the null hypothesis. I conclude there is indeed a correlation between distance from CBD and price."
      ]
    },
    {
      "cell_type": "code",
      "metadata": {
        "id": "A8cIUROlufHV",
        "colab_type": "code",
        "colab": {}
      },
      "source": [
        "target = \"Price\"\n",
        "features = [d for d in data.columns if (d != target) & (len(data[d].unique()) > 1)]\n",
        "data = data[data[target].notnull()]\n",
        "\n",
        "def get_dtype_lists(data,features):\n",
        "    output = {}\n",
        "    for f in features:\n",
        "        dtype = str(data[f].dtype)\n",
        "        if dtype not in output.keys(): output[dtype] = [f]\n",
        "        else: output[dtype] += [f]\n",
        "    return output\n",
        "\n",
        "def show_uniques(data,features):\n",
        "    for f in features:\n",
        "        if len(data[f].unique()) < 30:\n",
        "            print(\"%s: %s\" % (f,data[f].unique()))\n",
        "        else:\n",
        "            print(\"%s: count(%s) %s\" % (f,len(data[f].unique()),data[f].unique()[0:10]))\n",
        "\n",
        "def show_all_uniques(data,features):\n",
        "    dtypes = get_dtype_lists(data,features)\n",
        "    for key in dtypes.keys():\n",
        "        print(key + \"\\n\")\n",
        "        show_uniques(data,dtypes[key])\n",
        "        print()\n",
        "\n",
        "dtype_lists = get_dtype_lists(data,features)\n",
        "\n",
        "to_be_transformed = [\"Date\", \"Address\", \"YearBuilt\"]\n",
        "categories = [c for c in dtype_lists[\"object\"] if c not in to_be_transformed]\n",
        "categories += [\"Postcode\"]\n",
        "counts = [\"Rooms\", \"Bedroom2\", \"Bathroom\", \"Car\"]\n",
        "numerics = [i for i in dtype_lists[\"float64\"] if i not in categories + to_be_transformed]\n",
        "\n",
        "dtype_lists = get_dtype_lists(data,features)\n",
        "\n",
        "to_be_transformed = [\"Date\", \"Address\", \"YearBuilt\"]\n",
        "categories = [c for c in dtype_lists[\"object\"] if c not in to_be_transformed]\n",
        "categories += [\"Postcode\"]\n",
        "counts = [\"Rooms\", \"Bedroom2\", \"Bathroom\", \"Car\"]\n",
        "numerics = [i for i in dtype_lists[\"float64\"] if i not in categories + to_be_transformed]"
      ],
      "execution_count": 0,
      "outputs": []
    },
    {
      "cell_type": "code",
      "metadata": {
        "id": "x8VvU5-Oui5h",
        "colab_type": "code",
        "colab": {
          "base_uri": "https://localhost:8080/",
          "height": 657
        },
        "outputId": "d4158a36-b5c3-4222-da44-1a1bb1f306b8"
      },
      "source": [
        "from scipy.stats import chisquare\n",
        "\n",
        "temp = {}\n",
        "\n",
        "for c in features:\n",
        "    unit = data.groupby(c).count()[\"Price\"]\n",
        "    temp[c] = chisquare(unit)\n",
        "    \n",
        "chisquare_dataframe = DataFrame(data=temp, index=[\"chi-square test statistic\", \"p-value\"])\n",
        "chisquare_dataframe.round(2).T"
      ],
      "execution_count": 16,
      "outputs": [
        {
          "output_type": "execute_result",
          "data": {
            "text/html": [
              "<div>\n",
              "<style scoped>\n",
              "    .dataframe tbody tr th:only-of-type {\n",
              "        vertical-align: middle;\n",
              "    }\n",
              "\n",
              "    .dataframe tbody tr th {\n",
              "        vertical-align: top;\n",
              "    }\n",
              "\n",
              "    .dataframe thead th {\n",
              "        text-align: right;\n",
              "    }\n",
              "</style>\n",
              "<table border=\"1\" class=\"dataframe\">\n",
              "  <thead>\n",
              "    <tr style=\"text-align: right;\">\n",
              "      <th></th>\n",
              "      <th>chi-square test statistic</th>\n",
              "      <th>p-value</th>\n",
              "    </tr>\n",
              "  </thead>\n",
              "  <tbody>\n",
              "    <tr>\n",
              "      <th>Suburb</th>\n",
              "      <td>51167.95</td>\n",
              "      <td>0.0</td>\n",
              "    </tr>\n",
              "    <tr>\n",
              "      <th>Address</th>\n",
              "      <td>898.45</td>\n",
              "      <td>1.0</td>\n",
              "    </tr>\n",
              "    <tr>\n",
              "      <th>Rooms</th>\n",
              "      <td>90969.63</td>\n",
              "      <td>0.0</td>\n",
              "    </tr>\n",
              "    <tr>\n",
              "      <th>Type</th>\n",
              "      <td>20320.12</td>\n",
              "      <td>0.0</td>\n",
              "    </tr>\n",
              "    <tr>\n",
              "      <th>Method</th>\n",
              "      <td>81558.80</td>\n",
              "      <td>0.0</td>\n",
              "    </tr>\n",
              "    <tr>\n",
              "      <th>SellerG</th>\n",
              "      <td>597180.82</td>\n",
              "      <td>0.0</td>\n",
              "    </tr>\n",
              "    <tr>\n",
              "      <th>Date</th>\n",
              "      <td>10631.11</td>\n",
              "      <td>0.0</td>\n",
              "    </tr>\n",
              "    <tr>\n",
              "      <th>Distance</th>\n",
              "      <td>40861.15</td>\n",
              "      <td>0.0</td>\n",
              "    </tr>\n",
              "    <tr>\n",
              "      <th>Postcode</th>\n",
              "      <td>33948.95</td>\n",
              "      <td>0.0</td>\n",
              "    </tr>\n",
              "    <tr>\n",
              "      <th>Bedroom2</th>\n",
              "      <td>171959.23</td>\n",
              "      <td>0.0</td>\n",
              "    </tr>\n",
              "    <tr>\n",
              "      <th>Bathroom</th>\n",
              "      <td>147064.95</td>\n",
              "      <td>0.0</td>\n",
              "    </tr>\n",
              "    <tr>\n",
              "      <th>Car</th>\n",
              "      <td>192863.62</td>\n",
              "      <td>0.0</td>\n",
              "    </tr>\n",
              "    <tr>\n",
              "      <th>Landsize</th>\n",
              "      <td>7041324.09</td>\n",
              "      <td>0.0</td>\n",
              "    </tr>\n",
              "    <tr>\n",
              "      <th>BuildingArea</th>\n",
              "      <td>9509138.21</td>\n",
              "      <td>0.0</td>\n",
              "    </tr>\n",
              "    <tr>\n",
              "      <th>YearBuilt</th>\n",
              "      <td>1955192.25</td>\n",
              "      <td>0.0</td>\n",
              "    </tr>\n",
              "    <tr>\n",
              "      <th>CouncilArea</th>\n",
              "      <td>23963.43</td>\n",
              "      <td>0.0</td>\n",
              "    </tr>\n",
              "    <tr>\n",
              "      <th>Lattitude</th>\n",
              "      <td>24507091.71</td>\n",
              "      <td>0.0</td>\n",
              "    </tr>\n",
              "    <tr>\n",
              "      <th>Longtitude</th>\n",
              "      <td>26568573.84</td>\n",
              "      <td>0.0</td>\n",
              "    </tr>\n",
              "    <tr>\n",
              "      <th>Regionname</th>\n",
              "      <td>33998.78</td>\n",
              "      <td>0.0</td>\n",
              "    </tr>\n",
              "    <tr>\n",
              "      <th>Propertycount</th>\n",
              "      <td>51870.92</td>\n",
              "      <td>0.0</td>\n",
              "    </tr>\n",
              "  </tbody>\n",
              "</table>\n",
              "</div>"
            ],
            "text/plain": [
              "               chi-square test statistic  p-value\n",
              "Suburb                          51167.95      0.0\n",
              "Address                           898.45      1.0\n",
              "Rooms                           90969.63      0.0\n",
              "Type                            20320.12      0.0\n",
              "Method                          81558.80      0.0\n",
              "SellerG                        597180.82      0.0\n",
              "Date                            10631.11      0.0\n",
              "Distance                        40861.15      0.0\n",
              "Postcode                        33948.95      0.0\n",
              "Bedroom2                       171959.23      0.0\n",
              "Bathroom                       147064.95      0.0\n",
              "Car                            192863.62      0.0\n",
              "Landsize                      7041324.09      0.0\n",
              "BuildingArea                  9509138.21      0.0\n",
              "YearBuilt                     1955192.25      0.0\n",
              "CouncilArea                     23963.43      0.0\n",
              "Lattitude                    24507091.71      0.0\n",
              "Longtitude                   26568573.84      0.0\n",
              "Regionname                      33998.78      0.0\n",
              "Propertycount                   51870.92      0.0"
            ]
          },
          "metadata": {
            "tags": []
          },
          "execution_count": 16
        }
      ]
    },
    {
      "cell_type": "code",
      "metadata": {
        "id": "4bul_lP1usSg",
        "colab_type": "code",
        "colab": {}
      },
      "source": [
        "#A Table of p-values from Chi-square Two Way Tests\n",
        "p_value_table = DataFrame(index = features, columns = features)\n",
        "\n",
        "from scipy.stats import chi2_contingency\n",
        "from pandas import crosstab\n",
        "\n",
        "def is_statistically_significant(p):\n",
        "        \n",
        "    if p < 0.05:\n",
        "        return 1\n",
        "    else:\n",
        "        return 0\n",
        "\n",
        "duplicate = []\n",
        "for c in features:\n",
        "    \n",
        "    duplicate.append(c)\n",
        "    \n",
        "    for cc in features:\n",
        "        if not c == cc: # and cc not in duplicate:\n",
        "            crosstable = crosstab(data[c], data[cc])\n",
        "            chi2, p, dof, expected = chi2_contingency(crosstable)\n",
        "            p_value_table[c][cc] = is_statistically_significant(p)"
      ],
      "execution_count": 0,
      "outputs": []
    },
    {
      "cell_type": "code",
      "metadata": {
        "id": "TXa88eXnuvAX",
        "colab_type": "code",
        "colab": {
          "base_uri": "https://localhost:8080/",
          "height": 677
        },
        "outputId": "19f8eb97-7991-4aeb-fe99-6619d70c82ac"
      },
      "source": [
        "p_value_table\n",
        "#1 means statistically significant (p < 0.05)\n",
        "#0 means non-significant (p >= 0.05)"
      ],
      "execution_count": 18,
      "outputs": [
        {
          "output_type": "execute_result",
          "data": {
            "text/html": [
              "<div>\n",
              "<style scoped>\n",
              "    .dataframe tbody tr th:only-of-type {\n",
              "        vertical-align: middle;\n",
              "    }\n",
              "\n",
              "    .dataframe tbody tr th {\n",
              "        vertical-align: top;\n",
              "    }\n",
              "\n",
              "    .dataframe thead th {\n",
              "        text-align: right;\n",
              "    }\n",
              "</style>\n",
              "<table border=\"1\" class=\"dataframe\">\n",
              "  <thead>\n",
              "    <tr style=\"text-align: right;\">\n",
              "      <th></th>\n",
              "      <th>Suburb</th>\n",
              "      <th>Address</th>\n",
              "      <th>Rooms</th>\n",
              "      <th>Type</th>\n",
              "      <th>Method</th>\n",
              "      <th>SellerG</th>\n",
              "      <th>Date</th>\n",
              "      <th>Distance</th>\n",
              "      <th>Postcode</th>\n",
              "      <th>Bedroom2</th>\n",
              "      <th>Bathroom</th>\n",
              "      <th>Car</th>\n",
              "      <th>Landsize</th>\n",
              "      <th>BuildingArea</th>\n",
              "      <th>YearBuilt</th>\n",
              "      <th>CouncilArea</th>\n",
              "      <th>Lattitude</th>\n",
              "      <th>Longtitude</th>\n",
              "      <th>Regionname</th>\n",
              "      <th>Propertycount</th>\n",
              "    </tr>\n",
              "  </thead>\n",
              "  <tbody>\n",
              "    <tr>\n",
              "      <th>Suburb</th>\n",
              "      <td>NaN</td>\n",
              "      <td>1</td>\n",
              "      <td>1</td>\n",
              "      <td>1</td>\n",
              "      <td>1</td>\n",
              "      <td>1</td>\n",
              "      <td>1</td>\n",
              "      <td>1</td>\n",
              "      <td>1</td>\n",
              "      <td>1</td>\n",
              "      <td>1</td>\n",
              "      <td>1</td>\n",
              "      <td>1</td>\n",
              "      <td>1</td>\n",
              "      <td>1</td>\n",
              "      <td>1</td>\n",
              "      <td>1</td>\n",
              "      <td>1</td>\n",
              "      <td>1</td>\n",
              "      <td>1</td>\n",
              "    </tr>\n",
              "    <tr>\n",
              "      <th>Address</th>\n",
              "      <td>1</td>\n",
              "      <td>NaN</td>\n",
              "      <td>0</td>\n",
              "      <td>1</td>\n",
              "      <td>0</td>\n",
              "      <td>0</td>\n",
              "      <td>0</td>\n",
              "      <td>1</td>\n",
              "      <td>1</td>\n",
              "      <td>1</td>\n",
              "      <td>0</td>\n",
              "      <td>0</td>\n",
              "      <td>1</td>\n",
              "      <td>1</td>\n",
              "      <td>1</td>\n",
              "      <td>1</td>\n",
              "      <td>1</td>\n",
              "      <td>1</td>\n",
              "      <td>1</td>\n",
              "      <td>1</td>\n",
              "    </tr>\n",
              "    <tr>\n",
              "      <th>Rooms</th>\n",
              "      <td>1</td>\n",
              "      <td>0</td>\n",
              "      <td>NaN</td>\n",
              "      <td>1</td>\n",
              "      <td>1</td>\n",
              "      <td>1</td>\n",
              "      <td>1</td>\n",
              "      <td>1</td>\n",
              "      <td>1</td>\n",
              "      <td>1</td>\n",
              "      <td>1</td>\n",
              "      <td>1</td>\n",
              "      <td>1</td>\n",
              "      <td>1</td>\n",
              "      <td>1</td>\n",
              "      <td>1</td>\n",
              "      <td>1</td>\n",
              "      <td>1</td>\n",
              "      <td>1</td>\n",
              "      <td>1</td>\n",
              "    </tr>\n",
              "    <tr>\n",
              "      <th>Type</th>\n",
              "      <td>1</td>\n",
              "      <td>1</td>\n",
              "      <td>1</td>\n",
              "      <td>NaN</td>\n",
              "      <td>1</td>\n",
              "      <td>1</td>\n",
              "      <td>1</td>\n",
              "      <td>1</td>\n",
              "      <td>1</td>\n",
              "      <td>1</td>\n",
              "      <td>1</td>\n",
              "      <td>1</td>\n",
              "      <td>1</td>\n",
              "      <td>1</td>\n",
              "      <td>1</td>\n",
              "      <td>1</td>\n",
              "      <td>0</td>\n",
              "      <td>0</td>\n",
              "      <td>1</td>\n",
              "      <td>1</td>\n",
              "    </tr>\n",
              "    <tr>\n",
              "      <th>Method</th>\n",
              "      <td>1</td>\n",
              "      <td>0</td>\n",
              "      <td>1</td>\n",
              "      <td>1</td>\n",
              "      <td>NaN</td>\n",
              "      <td>1</td>\n",
              "      <td>1</td>\n",
              "      <td>1</td>\n",
              "      <td>1</td>\n",
              "      <td>1</td>\n",
              "      <td>1</td>\n",
              "      <td>1</td>\n",
              "      <td>1</td>\n",
              "      <td>1</td>\n",
              "      <td>1</td>\n",
              "      <td>1</td>\n",
              "      <td>1</td>\n",
              "      <td>1</td>\n",
              "      <td>1</td>\n",
              "      <td>1</td>\n",
              "    </tr>\n",
              "    <tr>\n",
              "      <th>SellerG</th>\n",
              "      <td>1</td>\n",
              "      <td>0</td>\n",
              "      <td>1</td>\n",
              "      <td>1</td>\n",
              "      <td>1</td>\n",
              "      <td>NaN</td>\n",
              "      <td>1</td>\n",
              "      <td>1</td>\n",
              "      <td>1</td>\n",
              "      <td>1</td>\n",
              "      <td>1</td>\n",
              "      <td>1</td>\n",
              "      <td>1</td>\n",
              "      <td>1</td>\n",
              "      <td>0</td>\n",
              "      <td>1</td>\n",
              "      <td>1</td>\n",
              "      <td>1</td>\n",
              "      <td>1</td>\n",
              "      <td>1</td>\n",
              "    </tr>\n",
              "    <tr>\n",
              "      <th>Date</th>\n",
              "      <td>1</td>\n",
              "      <td>0</td>\n",
              "      <td>1</td>\n",
              "      <td>1</td>\n",
              "      <td>1</td>\n",
              "      <td>1</td>\n",
              "      <td>NaN</td>\n",
              "      <td>1</td>\n",
              "      <td>1</td>\n",
              "      <td>1</td>\n",
              "      <td>1</td>\n",
              "      <td>1</td>\n",
              "      <td>1</td>\n",
              "      <td>0</td>\n",
              "      <td>1</td>\n",
              "      <td>1</td>\n",
              "      <td>0</td>\n",
              "      <td>0</td>\n",
              "      <td>1</td>\n",
              "      <td>1</td>\n",
              "    </tr>\n",
              "    <tr>\n",
              "      <th>Distance</th>\n",
              "      <td>1</td>\n",
              "      <td>1</td>\n",
              "      <td>1</td>\n",
              "      <td>1</td>\n",
              "      <td>1</td>\n",
              "      <td>1</td>\n",
              "      <td>1</td>\n",
              "      <td>NaN</td>\n",
              "      <td>1</td>\n",
              "      <td>1</td>\n",
              "      <td>1</td>\n",
              "      <td>1</td>\n",
              "      <td>1</td>\n",
              "      <td>1</td>\n",
              "      <td>1</td>\n",
              "      <td>1</td>\n",
              "      <td>1</td>\n",
              "      <td>1</td>\n",
              "      <td>1</td>\n",
              "      <td>1</td>\n",
              "    </tr>\n",
              "    <tr>\n",
              "      <th>Postcode</th>\n",
              "      <td>1</td>\n",
              "      <td>1</td>\n",
              "      <td>1</td>\n",
              "      <td>1</td>\n",
              "      <td>1</td>\n",
              "      <td>1</td>\n",
              "      <td>1</td>\n",
              "      <td>1</td>\n",
              "      <td>NaN</td>\n",
              "      <td>1</td>\n",
              "      <td>1</td>\n",
              "      <td>1</td>\n",
              "      <td>1</td>\n",
              "      <td>1</td>\n",
              "      <td>1</td>\n",
              "      <td>1</td>\n",
              "      <td>1</td>\n",
              "      <td>1</td>\n",
              "      <td>1</td>\n",
              "      <td>1</td>\n",
              "    </tr>\n",
              "    <tr>\n",
              "      <th>Bedroom2</th>\n",
              "      <td>1</td>\n",
              "      <td>1</td>\n",
              "      <td>1</td>\n",
              "      <td>1</td>\n",
              "      <td>1</td>\n",
              "      <td>1</td>\n",
              "      <td>1</td>\n",
              "      <td>1</td>\n",
              "      <td>1</td>\n",
              "      <td>NaN</td>\n",
              "      <td>1</td>\n",
              "      <td>1</td>\n",
              "      <td>1</td>\n",
              "      <td>1</td>\n",
              "      <td>1</td>\n",
              "      <td>1</td>\n",
              "      <td>1</td>\n",
              "      <td>1</td>\n",
              "      <td>1</td>\n",
              "      <td>1</td>\n",
              "    </tr>\n",
              "    <tr>\n",
              "      <th>Bathroom</th>\n",
              "      <td>1</td>\n",
              "      <td>0</td>\n",
              "      <td>1</td>\n",
              "      <td>1</td>\n",
              "      <td>1</td>\n",
              "      <td>1</td>\n",
              "      <td>1</td>\n",
              "      <td>1</td>\n",
              "      <td>1</td>\n",
              "      <td>1</td>\n",
              "      <td>NaN</td>\n",
              "      <td>1</td>\n",
              "      <td>1</td>\n",
              "      <td>1</td>\n",
              "      <td>1</td>\n",
              "      <td>1</td>\n",
              "      <td>1</td>\n",
              "      <td>1</td>\n",
              "      <td>1</td>\n",
              "      <td>1</td>\n",
              "    </tr>\n",
              "    <tr>\n",
              "      <th>Car</th>\n",
              "      <td>1</td>\n",
              "      <td>0</td>\n",
              "      <td>1</td>\n",
              "      <td>1</td>\n",
              "      <td>1</td>\n",
              "      <td>1</td>\n",
              "      <td>1</td>\n",
              "      <td>1</td>\n",
              "      <td>1</td>\n",
              "      <td>1</td>\n",
              "      <td>1</td>\n",
              "      <td>NaN</td>\n",
              "      <td>1</td>\n",
              "      <td>1</td>\n",
              "      <td>1</td>\n",
              "      <td>1</td>\n",
              "      <td>1</td>\n",
              "      <td>1</td>\n",
              "      <td>1</td>\n",
              "      <td>1</td>\n",
              "    </tr>\n",
              "    <tr>\n",
              "      <th>Landsize</th>\n",
              "      <td>1</td>\n",
              "      <td>1</td>\n",
              "      <td>1</td>\n",
              "      <td>1</td>\n",
              "      <td>1</td>\n",
              "      <td>1</td>\n",
              "      <td>1</td>\n",
              "      <td>1</td>\n",
              "      <td>1</td>\n",
              "      <td>1</td>\n",
              "      <td>1</td>\n",
              "      <td>1</td>\n",
              "      <td>NaN</td>\n",
              "      <td>1</td>\n",
              "      <td>1</td>\n",
              "      <td>1</td>\n",
              "      <td>1</td>\n",
              "      <td>1</td>\n",
              "      <td>1</td>\n",
              "      <td>1</td>\n",
              "    </tr>\n",
              "    <tr>\n",
              "      <th>BuildingArea</th>\n",
              "      <td>1</td>\n",
              "      <td>1</td>\n",
              "      <td>1</td>\n",
              "      <td>1</td>\n",
              "      <td>1</td>\n",
              "      <td>1</td>\n",
              "      <td>0</td>\n",
              "      <td>1</td>\n",
              "      <td>1</td>\n",
              "      <td>1</td>\n",
              "      <td>1</td>\n",
              "      <td>1</td>\n",
              "      <td>1</td>\n",
              "      <td>NaN</td>\n",
              "      <td>1</td>\n",
              "      <td>1</td>\n",
              "      <td>1</td>\n",
              "      <td>1</td>\n",
              "      <td>1</td>\n",
              "      <td>1</td>\n",
              "    </tr>\n",
              "    <tr>\n",
              "      <th>YearBuilt</th>\n",
              "      <td>1</td>\n",
              "      <td>1</td>\n",
              "      <td>1</td>\n",
              "      <td>1</td>\n",
              "      <td>1</td>\n",
              "      <td>0</td>\n",
              "      <td>1</td>\n",
              "      <td>1</td>\n",
              "      <td>1</td>\n",
              "      <td>1</td>\n",
              "      <td>1</td>\n",
              "      <td>1</td>\n",
              "      <td>1</td>\n",
              "      <td>1</td>\n",
              "      <td>NaN</td>\n",
              "      <td>1</td>\n",
              "      <td>1</td>\n",
              "      <td>1</td>\n",
              "      <td>1</td>\n",
              "      <td>1</td>\n",
              "    </tr>\n",
              "    <tr>\n",
              "      <th>CouncilArea</th>\n",
              "      <td>1</td>\n",
              "      <td>1</td>\n",
              "      <td>1</td>\n",
              "      <td>1</td>\n",
              "      <td>1</td>\n",
              "      <td>1</td>\n",
              "      <td>1</td>\n",
              "      <td>1</td>\n",
              "      <td>1</td>\n",
              "      <td>1</td>\n",
              "      <td>1</td>\n",
              "      <td>1</td>\n",
              "      <td>1</td>\n",
              "      <td>1</td>\n",
              "      <td>1</td>\n",
              "      <td>NaN</td>\n",
              "      <td>1</td>\n",
              "      <td>1</td>\n",
              "      <td>1</td>\n",
              "      <td>1</td>\n",
              "    </tr>\n",
              "    <tr>\n",
              "      <th>Lattitude</th>\n",
              "      <td>1</td>\n",
              "      <td>1</td>\n",
              "      <td>1</td>\n",
              "      <td>0</td>\n",
              "      <td>1</td>\n",
              "      <td>1</td>\n",
              "      <td>0</td>\n",
              "      <td>1</td>\n",
              "      <td>1</td>\n",
              "      <td>1</td>\n",
              "      <td>1</td>\n",
              "      <td>1</td>\n",
              "      <td>1</td>\n",
              "      <td>1</td>\n",
              "      <td>1</td>\n",
              "      <td>1</td>\n",
              "      <td>NaN</td>\n",
              "      <td>1</td>\n",
              "      <td>1</td>\n",
              "      <td>1</td>\n",
              "    </tr>\n",
              "    <tr>\n",
              "      <th>Longtitude</th>\n",
              "      <td>1</td>\n",
              "      <td>1</td>\n",
              "      <td>1</td>\n",
              "      <td>0</td>\n",
              "      <td>1</td>\n",
              "      <td>1</td>\n",
              "      <td>0</td>\n",
              "      <td>1</td>\n",
              "      <td>1</td>\n",
              "      <td>1</td>\n",
              "      <td>1</td>\n",
              "      <td>1</td>\n",
              "      <td>1</td>\n",
              "      <td>1</td>\n",
              "      <td>1</td>\n",
              "      <td>1</td>\n",
              "      <td>1</td>\n",
              "      <td>NaN</td>\n",
              "      <td>1</td>\n",
              "      <td>1</td>\n",
              "    </tr>\n",
              "    <tr>\n",
              "      <th>Regionname</th>\n",
              "      <td>1</td>\n",
              "      <td>1</td>\n",
              "      <td>1</td>\n",
              "      <td>1</td>\n",
              "      <td>1</td>\n",
              "      <td>1</td>\n",
              "      <td>1</td>\n",
              "      <td>1</td>\n",
              "      <td>1</td>\n",
              "      <td>1</td>\n",
              "      <td>1</td>\n",
              "      <td>1</td>\n",
              "      <td>1</td>\n",
              "      <td>1</td>\n",
              "      <td>1</td>\n",
              "      <td>1</td>\n",
              "      <td>1</td>\n",
              "      <td>1</td>\n",
              "      <td>NaN</td>\n",
              "      <td>1</td>\n",
              "    </tr>\n",
              "    <tr>\n",
              "      <th>Propertycount</th>\n",
              "      <td>1</td>\n",
              "      <td>1</td>\n",
              "      <td>1</td>\n",
              "      <td>1</td>\n",
              "      <td>1</td>\n",
              "      <td>1</td>\n",
              "      <td>1</td>\n",
              "      <td>1</td>\n",
              "      <td>1</td>\n",
              "      <td>1</td>\n",
              "      <td>1</td>\n",
              "      <td>1</td>\n",
              "      <td>1</td>\n",
              "      <td>1</td>\n",
              "      <td>1</td>\n",
              "      <td>1</td>\n",
              "      <td>1</td>\n",
              "      <td>1</td>\n",
              "      <td>1</td>\n",
              "      <td>NaN</td>\n",
              "    </tr>\n",
              "  </tbody>\n",
              "</table>\n",
              "</div>"
            ],
            "text/plain": [
              "              Suburb Address Rooms  ... Longtitude Regionname Propertycount\n",
              "Suburb           NaN       1     1  ...          1          1             1\n",
              "Address            1     NaN     0  ...          1          1             1\n",
              "Rooms              1       0   NaN  ...          1          1             1\n",
              "Type               1       1     1  ...          0          1             1\n",
              "Method             1       0     1  ...          1          1             1\n",
              "SellerG            1       0     1  ...          1          1             1\n",
              "Date               1       0     1  ...          0          1             1\n",
              "Distance           1       1     1  ...          1          1             1\n",
              "Postcode           1       1     1  ...          1          1             1\n",
              "Bedroom2           1       1     1  ...          1          1             1\n",
              "Bathroom           1       0     1  ...          1          1             1\n",
              "Car                1       0     1  ...          1          1             1\n",
              "Landsize           1       1     1  ...          1          1             1\n",
              "BuildingArea       1       1     1  ...          1          1             1\n",
              "YearBuilt          1       1     1  ...          1          1             1\n",
              "CouncilArea        1       1     1  ...          1          1             1\n",
              "Lattitude          1       1     1  ...          1          1             1\n",
              "Longtitude         1       1     1  ...        NaN          1             1\n",
              "Regionname         1       1     1  ...          1        NaN             1\n",
              "Propertycount      1       1     1  ...          1          1           NaN\n",
              "\n",
              "[20 rows x 20 columns]"
            ]
          },
          "metadata": {
            "tags": []
          },
          "execution_count": 18
        }
      ]
    },
    {
      "cell_type": "code",
      "metadata": {
        "id": "lqGmhR9HuyzP",
        "colab_type": "code",
        "colab": {
          "base_uri": "https://localhost:8080/",
          "height": 737
        },
        "outputId": "344a90d0-5094-4871-df59-14f24a41bc44"
      },
      "source": [
        "#Heatmap of Statistically Significant vs Non-significant Categorical x Categorical Relationships\n",
        "from seaborn import heatmap\n",
        "import seaborn as sns\n",
        "import matplotlib.pyplot as plt\n",
        "from matplotlib import colors\n",
        "from numpy import float32\n",
        "\n",
        "plt.figure(figsize=(13,12))\n",
        "\n",
        "p = sns.diverging_palette(10, 220, sep=80, n=10)\n",
        "myColors = [p[4], p[1]]\n",
        "cmap = colors.LinearSegmentedColormap.from_list('Custom', myColors, len(myColors))\n",
        "\n",
        "ax = heatmap(p_value_table.fillna(float32(None)), linewidths=2, cmap=cmap, cbar=False, square=True)\n",
        "cbar = ax.figure.colorbar(ax.collections[0])\n",
        "cbar.set_ticks([1, 0])\n",
        "cbar.set_ticklabels([\"p < 0.05\", \"p >= 0.05\"])\n",
        "plt.show()"
      ],
      "execution_count": 19,
      "outputs": [
        {
          "output_type": "display_data",
          "data": {
            "image/png": "[encoded data removed]",
            "text/plain": [
              "<Figure size 936x864 with 2 Axes>"
            ]
          },
          "metadata": {
            "tags": []
          }
        }
      ]
    },
    {
      "cell_type": "code",
      "metadata": {
        "id": "GV5SFpe8u4fh",
        "colab_type": "code",
        "colab": {
          "base_uri": "https://localhost:8080/",
          "height": 657
        },
        "outputId": "5125f857-4247-40fd-9107-5e23167262c8"
      },
      "source": [
        "#Number of categorical x categorical relationships that are statistically significant vs non-significant\n",
        "p_value_data = {}\n",
        "\n",
        "for c in features:\n",
        "    \n",
        "    p_value_data[c] = {}\n",
        "    row = p_value_data[c]\n",
        "    \n",
        "    column_value_counter = p_value_table[c].value_counts()\n",
        "    relationships_counter = len(features) - 1\n",
        "    significant = 0\n",
        "    nonsignificant = 0\n",
        "    \n",
        "    if not column_value_counter.empty:\n",
        "        \n",
        "        if 1 in column_value_counter.keys():\n",
        "            \n",
        "            significant += column_value_counter[1]\n",
        "            \n",
        "        if 0 in column_value_counter.keys():\n",
        "            \n",
        "            nonsignificant += column_value_counter[0]\n",
        "        \n",
        "        row[\"p < 0.05\"] = significant\n",
        "        row[\"p >= 0.05\"] = nonsignificant\n",
        "        row[\"Percentage of Relationships Significant\"] = (\"%.1f\" % ((significant / relationships_counter) * 100)) + \"%\"\n",
        "        \n",
        "DataFrame(data = p_value_data).T.sort_values(\"p < 0.05\", ascending=False)"
      ],
      "execution_count": 20,
      "outputs": [
        {
          "output_type": "execute_result",
          "data": {
            "text/html": [
              "<div>\n",
              "<style scoped>\n",
              "    .dataframe tbody tr th:only-of-type {\n",
              "        vertical-align: middle;\n",
              "    }\n",
              "\n",
              "    .dataframe tbody tr th {\n",
              "        vertical-align: top;\n",
              "    }\n",
              "\n",
              "    .dataframe thead th {\n",
              "        text-align: right;\n",
              "    }\n",
              "</style>\n",
              "<table border=\"1\" class=\"dataframe\">\n",
              "  <thead>\n",
              "    <tr style=\"text-align: right;\">\n",
              "      <th></th>\n",
              "      <th>p &lt; 0.05</th>\n",
              "      <th>p &gt;= 0.05</th>\n",
              "      <th>Percentage of Relationships Significant</th>\n",
              "    </tr>\n",
              "  </thead>\n",
              "  <tbody>\n",
              "    <tr>\n",
              "      <th>Suburb</th>\n",
              "      <td>19</td>\n",
              "      <td>0</td>\n",
              "      <td>100.0%</td>\n",
              "    </tr>\n",
              "    <tr>\n",
              "      <th>Distance</th>\n",
              "      <td>19</td>\n",
              "      <td>0</td>\n",
              "      <td>100.0%</td>\n",
              "    </tr>\n",
              "    <tr>\n",
              "      <th>Regionname</th>\n",
              "      <td>19</td>\n",
              "      <td>0</td>\n",
              "      <td>100.0%</td>\n",
              "    </tr>\n",
              "    <tr>\n",
              "      <th>CouncilArea</th>\n",
              "      <td>19</td>\n",
              "      <td>0</td>\n",
              "      <td>100.0%</td>\n",
              "    </tr>\n",
              "    <tr>\n",
              "      <th>Landsize</th>\n",
              "      <td>19</td>\n",
              "      <td>0</td>\n",
              "      <td>100.0%</td>\n",
              "    </tr>\n",
              "    <tr>\n",
              "      <th>Bedroom2</th>\n",
              "      <td>19</td>\n",
              "      <td>0</td>\n",
              "      <td>100.0%</td>\n",
              "    </tr>\n",
              "    <tr>\n",
              "      <th>Postcode</th>\n",
              "      <td>19</td>\n",
              "      <td>0</td>\n",
              "      <td>100.0%</td>\n",
              "    </tr>\n",
              "    <tr>\n",
              "      <th>Propertycount</th>\n",
              "      <td>19</td>\n",
              "      <td>0</td>\n",
              "      <td>100.0%</td>\n",
              "    </tr>\n",
              "    <tr>\n",
              "      <th>Car</th>\n",
              "      <td>18</td>\n",
              "      <td>1</td>\n",
              "      <td>94.7%</td>\n",
              "    </tr>\n",
              "    <tr>\n",
              "      <th>Method</th>\n",
              "      <td>18</td>\n",
              "      <td>1</td>\n",
              "      <td>94.7%</td>\n",
              "    </tr>\n",
              "    <tr>\n",
              "      <th>BuildingArea</th>\n",
              "      <td>18</td>\n",
              "      <td>1</td>\n",
              "      <td>94.7%</td>\n",
              "    </tr>\n",
              "    <tr>\n",
              "      <th>YearBuilt</th>\n",
              "      <td>18</td>\n",
              "      <td>1</td>\n",
              "      <td>94.7%</td>\n",
              "    </tr>\n",
              "    <tr>\n",
              "      <th>Rooms</th>\n",
              "      <td>18</td>\n",
              "      <td>1</td>\n",
              "      <td>94.7%</td>\n",
              "    </tr>\n",
              "    <tr>\n",
              "      <th>Bathroom</th>\n",
              "      <td>18</td>\n",
              "      <td>1</td>\n",
              "      <td>94.7%</td>\n",
              "    </tr>\n",
              "    <tr>\n",
              "      <th>SellerG</th>\n",
              "      <td>17</td>\n",
              "      <td>2</td>\n",
              "      <td>89.5%</td>\n",
              "    </tr>\n",
              "    <tr>\n",
              "      <th>Type</th>\n",
              "      <td>17</td>\n",
              "      <td>2</td>\n",
              "      <td>89.5%</td>\n",
              "    </tr>\n",
              "    <tr>\n",
              "      <th>Lattitude</th>\n",
              "      <td>17</td>\n",
              "      <td>2</td>\n",
              "      <td>89.5%</td>\n",
              "    </tr>\n",
              "    <tr>\n",
              "      <th>Longtitude</th>\n",
              "      <td>17</td>\n",
              "      <td>2</td>\n",
              "      <td>89.5%</td>\n",
              "    </tr>\n",
              "    <tr>\n",
              "      <th>Date</th>\n",
              "      <td>15</td>\n",
              "      <td>4</td>\n",
              "      <td>78.9%</td>\n",
              "    </tr>\n",
              "    <tr>\n",
              "      <th>Address</th>\n",
              "      <td>13</td>\n",
              "      <td>6</td>\n",
              "      <td>68.4%</td>\n",
              "    </tr>\n",
              "  </tbody>\n",
              "</table>\n",
              "</div>"
            ],
            "text/plain": [
              "              p < 0.05 p >= 0.05 Percentage of Relationships Significant\n",
              "Suburb              19         0                                  100.0%\n",
              "Distance            19         0                                  100.0%\n",
              "Regionname          19         0                                  100.0%\n",
              "CouncilArea         19         0                                  100.0%\n",
              "Landsize            19         0                                  100.0%\n",
              "Bedroom2            19         0                                  100.0%\n",
              "Postcode            19         0                                  100.0%\n",
              "Propertycount       19         0                                  100.0%\n",
              "Car                 18         1                                   94.7%\n",
              "Method              18         1                                   94.7%\n",
              "BuildingArea        18         1                                   94.7%\n",
              "YearBuilt           18         1                                   94.7%\n",
              "Rooms               18         1                                   94.7%\n",
              "Bathroom            18         1                                   94.7%\n",
              "SellerG             17         2                                   89.5%\n",
              "Type                17         2                                   89.5%\n",
              "Lattitude           17         2                                   89.5%\n",
              "Longtitude          17         2                                   89.5%\n",
              "Date                15         4                                   78.9%\n",
              "Address             13         6                                   68.4%"
            ]
          },
          "metadata": {
            "tags": []
          },
          "execution_count": 20
        }
      ]
    },
    {
      "cell_type": "code",
      "metadata": {
        "id": "rgLnhZ8EvLoS",
        "colab_type": "code",
        "colab": {
          "base_uri": "https://localhost:8080/",
          "height": 181
        },
        "outputId": "74ecbd57-eb3f-4135-9d38-fe8e80bb085a"
      },
      "source": [
        "data['Method'].value_counts()"
      ],
      "execution_count": 21,
      "outputs": [
        {
          "output_type": "execute_result",
          "data": {
            "text/plain": [
              "S     19744\n",
              "SP     5095\n",
              "PI     4850\n",
              "VB     3108\n",
              "SN     1317\n",
              "PN      308\n",
              "SA      226\n",
              "W       173\n",
              "SS       36\n",
              "Name: Method, dtype: int64"
            ]
          },
          "metadata": {
            "tags": []
          },
          "execution_count": 21
        }
      ]
    },
    {
      "cell_type": "code",
      "metadata": {
        "id": "N7m6d6byvSRk",
        "colab_type": "code",
        "colab": {
          "base_uri": "https://localhost:8080/",
          "height": 197
        },
        "outputId": "482de3ec-0dea-48bc-ab25-2978a6d613b4"
      },
      "source": [
        "#Is there a significant effect of different categories in Method on Price?\n",
        "\n",
        "data.groupby(['Method'])['Price'].mean()"
      ],
      "execution_count": 22,
      "outputs": [
        {
          "output_type": "execute_result",
          "data": {
            "text/plain": [
              "Method\n",
              "PI    1.036363e+06\n",
              "PN    8.700000e+05\n",
              "S     1.030974e+06\n",
              "SA    9.645836e+05\n",
              "SN    8.700000e+05\n",
              "SP    8.763803e+05\n",
              "SS    8.700000e+05\n",
              "VB    1.149977e+06\n",
              "W     8.700000e+05\n",
              "Name: Price, dtype: float64"
            ]
          },
          "metadata": {
            "tags": []
          },
          "execution_count": 22
        }
      ]
    },
    {
      "cell_type": "code",
      "metadata": {
        "id": "ml5fGXhZvVpR",
        "colab_type": "code",
        "colab": {
          "base_uri": "https://localhost:8080/",
          "height": 380
        },
        "outputId": "745242e5-bbba-4a36-a478-2e0154867dfb"
      },
      "source": [
        "sns.catplot(data=data, x=\"Method\", y=\"Price\", kind=\"bar\", ci=None)\n",
        "plt.ylabel(\"Mean Price\")"
      ],
      "execution_count": 23,
      "outputs": [
        {
          "output_type": "execute_result",
          "data": {
            "text/plain": [
              "Text(8.959999999999994, 0.5, 'Mean Price')"
            ]
          },
          "metadata": {
            "tags": []
          },
          "execution_count": 23
        },
        {
          "output_type": "display_data",
          "data": {
            "image/png": "[encoded data removed]",
            "text/plain": [
              "<Figure size 360x360 with 1 Axes>"
            ]
          },
          "metadata": {
            "tags": []
          }
        }
      ]
    },
    {
      "cell_type": "markdown",
      "metadata": {
        "id": "ugg2h5wrvamR",
        "colab_type": "text"
      },
      "source": [
        "Above visualization depects that there is a little difference in mean price for different catagories of Method. Need to do hypothesis testing to make sure that this holds true in population"
      ]
    },
    {
      "cell_type": "markdown",
      "metadata": {
        "id": "_lcKA7Puvjw0",
        "colab_type": "text"
      },
      "source": [
        "**ANOVA: Tukey's Honestly Singnificant Difference test**"
      ]
    },
    {
      "cell_type": "code",
      "metadata": {
        "id": "hLVfeWJ-voZx",
        "colab_type": "code",
        "colab": {
          "base_uri": "https://localhost:8080/",
          "height": 691
        },
        "outputId": "4bc095b6-3b86-4f40-aa78-b84eadc25f56"
      },
      "source": [
        "import statsmodels.stats.multicomp as multi\n",
        "\n",
        "mc1 = multi.MultiComparison(data[\"Price\"],data[\"Method\"])\n",
        "res1 = mc1.tukeyhsd()\n",
        "print(res1.summary())"
      ],
      "execution_count": 24,
      "outputs": [
        {
          "output_type": "stream",
          "text": [
            "       Multiple Comparison of Means - Tukey HSD, FWER=0.05        \n",
            "==================================================================\n",
            "group1 group2   meandiff   p-adj     lower        upper     reject\n",
            "------------------------------------------------------------------\n",
            "    PI     PN -166363.3812  0.001 -269716.6461  -63010.1164   True\n",
            "    PI      S   -5389.4012    0.9  -33576.8586   22798.0561  False\n",
            "    PI     SA   -71779.806 0.6219 -191471.9032   47912.2912  False\n",
            "    PI     SN -166363.3812  0.001 -221014.9932 -111711.7693   True\n",
            "    PI     SP -159983.0904  0.001 -195268.0146 -124698.1662   True\n",
            "    PI     SS -166363.3812 0.6864 -460591.6324  127864.8699  False\n",
            "    PI     VB   113613.131  0.001   73200.1998  154026.0622   True\n",
            "    PI      W -166363.3812 0.0047 -302450.6277  -30276.1347   True\n",
            "    PN      S    160973.98  0.001   59975.3048  261972.6552   True\n",
            "    PN     SA   94583.5752  0.595  -59469.6551  248636.8055  False\n",
            "    PN     SN          0.0    0.9 -111323.8444  111323.8444  False\n",
            "    PN     SP    6380.2909    0.9  -96824.4838  109585.0656  False\n",
            "    PN     SS          0.0    0.9 -309800.6833  309800.6833  False\n",
            "    PN     VB  279976.5122  0.001   174907.941  385045.0834   True\n",
            "    PN      W          0.0    0.9 -167110.5571  167110.5571  False\n",
            "     S     SA  -66390.4048 0.6886 -184055.3238   51274.5143  False\n",
            "     S     SN   -160973.98  0.001 -211030.2857 -110917.6743   True\n",
            "     S     SP -154593.6891  0.001 -182231.7231 -126955.6551   True\n",
            "     S     SS   -160973.98  0.718 -454383.4188  132435.4588  False\n",
            "     S     VB  119002.5322  0.001   85060.8166  152944.2478   True\n",
            "     S      W   -160973.98 0.0063 -295281.7374  -26666.2226   True\n",
            "    SA     SN  -94583.5752 0.3318 -221222.0335   32054.8831  False\n",
            "    SA     SP  -88203.2843 0.3498 -207767.1848   31360.6161  False\n",
            "    SA     SS  -94583.5752    0.9 -410211.1472  221043.9967  False\n",
            "    SA     VB   185392.937  0.001   64216.5968  306569.2772   True\n",
            "    SA      W  -94583.5752 0.7487 -272263.7347   83096.5843  False\n",
            "    SN     SP    6380.2909    0.9  -47989.9847   60750.5664  False\n",
            "    SN     SS          0.0    0.9 -297121.8012  297121.8012  False\n",
            "    SN     VB  279976.5122  0.001  222146.5373  337806.4871   True\n",
            "    SN      W          0.0    0.9 -142235.1561  142235.1561  False\n",
            "    SP     SS   -6380.2909    0.9 -300556.4149  287795.8331  False\n",
            "    SP     VB  273596.2214  0.001  233564.5691  313627.8736   True\n",
            "    SP      W   -6380.2909    0.9 -142354.7989  129594.2171  False\n",
            "    SS     VB  279976.5122 0.0787  -14858.6469  574811.6714  False\n",
            "    SS      W          0.0    0.9  -322202.273   322202.273  False\n",
            "    VB      W -279976.5122  0.001 -417371.0025 -142582.0219   True\n",
            "------------------------------------------------------------------\n"
          ],
          "name": "stdout"
        }
      ]
    },
    {
      "cell_type": "markdown",
      "metadata": {
        "id": "0y89-FnJvuiF",
        "colab_type": "text"
      },
      "source": [
        "Most of the pair wise ANOVA tests show that there is a significance \"Price\" difference for different catagories of \"Method\"."
      ]
    },
    {
      "cell_type": "code",
      "metadata": {
        "id": "0kY7Nwc9vrCu",
        "colab_type": "code",
        "colab": {
          "base_uri": "https://localhost:8080/",
          "height": 560
        },
        "outputId": "bda7058a-dbec-4990-b705-af352ec8636b"
      },
      "source": [
        "mc2 = multi.MultiComparison(data[\"Price\"],data[\"Regionname\"])\n",
        "res2 = mc2.tukeyhsd()\n",
        "print(res2.summary())"
      ],
      "execution_count": 25,
      "outputs": [
        {
          "output_type": "stream",
          "text": [
            "                           Multiple Comparison of Means - Tukey HSD, FWER=0.05                            \n",
            "==========================================================================================================\n",
            "          group1                     group2             meandiff   p-adj     lower        upper     reject\n",
            "----------------------------------------------------------------------------------------------------------\n",
            "      Eastern Metropolitan           Eastern Victoria -291795.9339  0.001 -403333.3484 -180258.5194   True\n",
            "      Eastern Metropolitan      Northern Metropolitan -185463.3147  0.001 -215430.7992 -155495.8302   True\n",
            "      Eastern Metropolitan          Northern Victoria -383665.3023  0.001 -501550.1262 -265780.4783   True\n",
            "      Eastern Metropolitan South-Eastern Metropolitan -172531.5758  0.001 -219074.8709 -125988.2807   True\n",
            "      Eastern Metropolitan      Southern Metropolitan  200170.1339  0.001  171124.0534  229216.2144   True\n",
            "      Eastern Metropolitan       Western Metropolitan -206153.6779  0.001 -237973.2148  -174334.141   True\n",
            "      Eastern Metropolitan           Western Victoria -543584.2035  0.001 -698695.7518 -388472.6553   True\n",
            "          Eastern Victoria      Northern Metropolitan  106332.6191 0.0672   -3698.0239  216363.2622  False\n",
            "          Eastern Victoria          Northern Victoria  -91869.3684 0.6287 -250316.5962   66577.8594  False\n",
            "          Eastern Victoria South-Eastern Metropolitan  119264.3581 0.0377    3614.1502   234914.566   True\n",
            "          Eastern Victoria      Southern Metropolitan  491966.0678  0.001  382182.7946  601749.3409   True\n",
            "          Eastern Victoria       Western Metropolitan    85642.256 0.2675  -24907.1683  196191.6802  False\n",
            "          Eastern Victoria           Western Victoria -251788.2696 0.0013 -439586.7911  -63989.7481   True\n",
            "     Northern Metropolitan          Northern Victoria -198201.9875  0.001 -314662.1923  -81741.7828   True\n",
            "     Northern Metropolitan South-Eastern Metropolitan    12931.739    0.9  -29875.1051    55738.583  False\n",
            "     Northern Metropolitan      Southern Metropolitan  385633.4486  0.001  363054.2022  408212.6951   True\n",
            "     Northern Metropolitan       Western Metropolitan  -20690.3632 0.2375  -46740.9008    5360.1744  False\n",
            "     Northern Metropolitan           Western Victoria -358120.8888  0.001 -512152.5089 -204089.2687   True\n",
            "         Northern Victoria South-Eastern Metropolitan  211133.7265  0.001   89350.2814  332917.1715   True\n",
            "         Northern Victoria      Southern Metropolitan  583835.4361  0.001  467608.9161  700061.9562   True\n",
            "         Northern Victoria       Western Metropolitan  177511.6244  0.001   60561.1558  294462.0929   True\n",
            "         Northern Victoria           Western Victoria -159918.9013 0.1828  -351555.332   31717.5294  False\n",
            "South-Eastern Metropolitan      Southern Metropolitan  372701.7096  0.001  330534.7728  414868.6465   True\n",
            "South-Eastern Metropolitan       Western Metropolitan  -33622.1021 0.2883  -77745.3239   10501.1196  False\n",
            "South-Eastern Metropolitan           Western Victoria -371052.6277  0.001 -529147.4353 -212957.8202   True\n",
            "     Southern Metropolitan       Western Metropolitan -406323.8118  0.001 -431308.9108 -381338.7127   True\n",
            "     Southern Metropolitan           Western Victoria -743754.3374  0.001 -897609.3492 -589899.3256   True\n",
            "      Western Metropolitan           Western Victoria -337430.5256  0.001 -491833.1577 -183027.8936   True\n",
            "----------------------------------------------------------------------------------------------------------\n"
          ],
          "name": "stdout"
        }
      ]
    },
    {
      "cell_type": "markdown",
      "metadata": {
        "id": "52PtvgcRv04V",
        "colab_type": "text"
      },
      "source": [
        "This in turn meant that I could state that there is a statistically significant difference between house prices of Melbourne’s metropolitan regions."
      ]
    },
    {
      "cell_type": "code",
      "metadata": {
        "id": "O9sgGHqb7906",
        "colab_type": "code",
        "colab": {}
      },
      "source": [
        "data.drop(columns=['Lattitude','Longtitude'], inplace=True)"
      ],
      "execution_count": 0,
      "outputs": []
    },
    {
      "cell_type": "code",
      "metadata": {
        "id": "anc52LZ98L76",
        "colab_type": "code",
        "colab": {}
      },
      "source": [
        "data.drop(columns='YearBuilt', inplace=True)"
      ],
      "execution_count": 0,
      "outputs": []
    },
    {
      "cell_type": "code",
      "metadata": {
        "id": "pLkvfdGK8uiD",
        "colab_type": "code",
        "colab": {}
      },
      "source": [
        "data = data[pd.notnull(data['BuildingArea'])]"
      ],
      "execution_count": 0,
      "outputs": []
    },
    {
      "cell_type": "code",
      "metadata": {
        "id": "rdC9Hsm15eAF",
        "colab_type": "code",
        "colab": {}
      },
      "source": [
        "import copy\n",
        "data_regr = copy.copy(data[pd.notnull(data['Price'])])"
      ],
      "execution_count": 0,
      "outputs": []
    },
    {
      "cell_type": "code",
      "metadata": {
        "id": "2bsUMeYD9Oqd",
        "colab_type": "code",
        "colab": {}
      },
      "source": [
        "data.drop(columns='Bedroom2', inplace=True)"
      ],
      "execution_count": 0,
      "outputs": []
    },
    {
      "cell_type": "code",
      "metadata": {
        "id": "wi5PMIUY9cZX",
        "colab_type": "code",
        "colab": {}
      },
      "source": [
        "data_regr.drop(columns='Bedroom2', inplace=True)"
      ],
      "execution_count": 0,
      "outputs": []
    },
    {
      "cell_type": "code",
      "metadata": {
        "id": "WELVbBYUSWl4",
        "colab_type": "code",
        "outputId": "d2e74790-9698-4dd1-cfef-bc83d4998b10",
        "colab": {
          "base_uri": "https://localhost:8080/",
          "height": 320
        }
      },
      "source": [
        "data.head()"
      ],
      "execution_count": 32,
      "outputs": [
        {
          "output_type": "execute_result",
          "data": {
            "text/html": [
              "<div>\n",
              "<style scoped>\n",
              "    .dataframe tbody tr th:only-of-type {\n",
              "        vertical-align: middle;\n",
              "    }\n",
              "\n",
              "    .dataframe tbody tr th {\n",
              "        vertical-align: top;\n",
              "    }\n",
              "\n",
              "    .dataframe thead th {\n",
              "        text-align: right;\n",
              "    }\n",
              "</style>\n",
              "<table border=\"1\" class=\"dataframe\">\n",
              "  <thead>\n",
              "    <tr style=\"text-align: right;\">\n",
              "      <th></th>\n",
              "      <th>Suburb</th>\n",
              "      <th>Address</th>\n",
              "      <th>Rooms</th>\n",
              "      <th>Type</th>\n",
              "      <th>Price</th>\n",
              "      <th>Method</th>\n",
              "      <th>SellerG</th>\n",
              "      <th>Date</th>\n",
              "      <th>Distance</th>\n",
              "      <th>Postcode</th>\n",
              "      <th>Bathroom</th>\n",
              "      <th>Car</th>\n",
              "      <th>Landsize</th>\n",
              "      <th>BuildingArea</th>\n",
              "      <th>CouncilArea</th>\n",
              "      <th>Regionname</th>\n",
              "      <th>Propertycount</th>\n",
              "    </tr>\n",
              "  </thead>\n",
              "  <tbody>\n",
              "    <tr>\n",
              "      <th>0</th>\n",
              "      <td>Abbotsford</td>\n",
              "      <td>68 Studley St</td>\n",
              "      <td>2</td>\n",
              "      <td>h</td>\n",
              "      <td>870000.0</td>\n",
              "      <td>SS</td>\n",
              "      <td>Jellis</td>\n",
              "      <td>3/09/2016</td>\n",
              "      <td>2.5</td>\n",
              "      <td>3067.0</td>\n",
              "      <td>1.0</td>\n",
              "      <td>1.0</td>\n",
              "      <td>126.0</td>\n",
              "      <td>136.0</td>\n",
              "      <td>Yarra City Council</td>\n",
              "      <td>Northern Metropolitan</td>\n",
              "      <td>4019.0</td>\n",
              "    </tr>\n",
              "    <tr>\n",
              "      <th>1</th>\n",
              "      <td>Abbotsford</td>\n",
              "      <td>85 Turner St</td>\n",
              "      <td>2</td>\n",
              "      <td>h</td>\n",
              "      <td>1480000.0</td>\n",
              "      <td>S</td>\n",
              "      <td>Biggin</td>\n",
              "      <td>3/12/2016</td>\n",
              "      <td>2.5</td>\n",
              "      <td>3067.0</td>\n",
              "      <td>1.0</td>\n",
              "      <td>1.0</td>\n",
              "      <td>202.0</td>\n",
              "      <td>136.0</td>\n",
              "      <td>Yarra City Council</td>\n",
              "      <td>Northern Metropolitan</td>\n",
              "      <td>4019.0</td>\n",
              "    </tr>\n",
              "    <tr>\n",
              "      <th>2</th>\n",
              "      <td>Abbotsford</td>\n",
              "      <td>25 Bloomburg St</td>\n",
              "      <td>2</td>\n",
              "      <td>h</td>\n",
              "      <td>1035000.0</td>\n",
              "      <td>S</td>\n",
              "      <td>Biggin</td>\n",
              "      <td>4/02/2016</td>\n",
              "      <td>2.5</td>\n",
              "      <td>3067.0</td>\n",
              "      <td>1.0</td>\n",
              "      <td>0.0</td>\n",
              "      <td>156.0</td>\n",
              "      <td>79.0</td>\n",
              "      <td>Yarra City Council</td>\n",
              "      <td>Northern Metropolitan</td>\n",
              "      <td>4019.0</td>\n",
              "    </tr>\n",
              "    <tr>\n",
              "      <th>3</th>\n",
              "      <td>Abbotsford</td>\n",
              "      <td>18/659 Victoria St</td>\n",
              "      <td>3</td>\n",
              "      <td>u</td>\n",
              "      <td>870000.0</td>\n",
              "      <td>VB</td>\n",
              "      <td>Rounds</td>\n",
              "      <td>4/02/2016</td>\n",
              "      <td>2.5</td>\n",
              "      <td>3067.0</td>\n",
              "      <td>2.0</td>\n",
              "      <td>1.0</td>\n",
              "      <td>0.0</td>\n",
              "      <td>136.0</td>\n",
              "      <td>Yarra City Council</td>\n",
              "      <td>Northern Metropolitan</td>\n",
              "      <td>4019.0</td>\n",
              "    </tr>\n",
              "    <tr>\n",
              "      <th>4</th>\n",
              "      <td>Abbotsford</td>\n",
              "      <td>5 Charles St</td>\n",
              "      <td>3</td>\n",
              "      <td>h</td>\n",
              "      <td>1465000.0</td>\n",
              "      <td>SP</td>\n",
              "      <td>Biggin</td>\n",
              "      <td>4/03/2017</td>\n",
              "      <td>2.5</td>\n",
              "      <td>3067.0</td>\n",
              "      <td>2.0</td>\n",
              "      <td>0.0</td>\n",
              "      <td>134.0</td>\n",
              "      <td>150.0</td>\n",
              "      <td>Yarra City Council</td>\n",
              "      <td>Northern Metropolitan</td>\n",
              "      <td>4019.0</td>\n",
              "    </tr>\n",
              "  </tbody>\n",
              "</table>\n",
              "</div>"
            ],
            "text/plain": [
              "       Suburb             Address  ...             Regionname Propertycount\n",
              "0  Abbotsford       68 Studley St  ...  Northern Metropolitan        4019.0\n",
              "1  Abbotsford        85 Turner St  ...  Northern Metropolitan        4019.0\n",
              "2  Abbotsford     25 Bloomburg St  ...  Northern Metropolitan        4019.0\n",
              "3  Abbotsford  18/659 Victoria St  ...  Northern Metropolitan        4019.0\n",
              "4  Abbotsford        5 Charles St  ...  Northern Metropolitan        4019.0\n",
              "\n",
              "[5 rows x 17 columns]"
            ]
          },
          "metadata": {
            "tags": []
          },
          "execution_count": 32
        }
      ]
    },
    {
      "cell_type": "markdown",
      "metadata": {
        "id": "V5PD24zb9yiZ",
        "colab_type": "text"
      },
      "source": [
        "# Regression"
      ]
    },
    {
      "cell_type": "code",
      "metadata": {
        "id": "-nWkocBD9qTq",
        "colab_type": "code",
        "colab": {}
      },
      "source": [
        "from sklearn import linear_model\n",
        "from sklearn.model_selection import train_test_split, cross_val_predict\n",
        "from sklearn.metrics import mean_squared_error\n"
      ],
      "execution_count": 0,
      "outputs": []
    },
    {
      "cell_type": "code",
      "metadata": {
        "id": "ePLrcFD099Tm",
        "colab_type": "code",
        "colab": {}
      },
      "source": [
        "data_regr.drop(columns=['Suburb','Postcode'], inplace=True)"
      ],
      "execution_count": 0,
      "outputs": []
    },
    {
      "cell_type": "code",
      "metadata": {
        "id": "LzMfqyq--AgL",
        "colab_type": "code",
        "colab": {}
      },
      "source": [
        "import datetime\n",
        "def to_year(date_str):\n",
        "    return datetime.datetime.strptime(date_str.strip(),'%d/%m/%Y').year"
      ],
      "execution_count": 0,
      "outputs": []
    },
    {
      "cell_type": "code",
      "metadata": {
        "id": "Aml2Wc8r-I66",
        "colab_type": "code",
        "colab": {}
      },
      "source": [
        "data_regr['Date'] = data_regr.Date.apply(to_year)"
      ],
      "execution_count": 0,
      "outputs": []
    },
    {
      "cell_type": "code",
      "metadata": {
        "id": "veO0iOhQ-K39",
        "colab_type": "code",
        "outputId": "80425cdf-879a-4aaf-85fd-f03410d67509",
        "colab": {
          "base_uri": "https://localhost:8080/",
          "height": 82
        }
      },
      "source": [
        "data_regr.Date.value_counts()"
      ],
      "execution_count": 37,
      "outputs": [
        {
          "output_type": "execute_result",
          "data": {
            "text/plain": [
              "2017    19852\n",
              "2016    10292\n",
              "2018     4713\n",
              "Name: Date, dtype: int64"
            ]
          },
          "metadata": {
            "tags": []
          },
          "execution_count": 37
        }
      ]
    },
    {
      "cell_type": "code",
      "metadata": {
        "id": "otT9d8jb-Mxq",
        "colab_type": "code",
        "colab": {}
      },
      "source": [
        "import re\n",
        "def to_street(str):\n",
        "    return re.sub('[^A-Za-z]+', '', str)"
      ],
      "execution_count": 0,
      "outputs": []
    },
    {
      "cell_type": "code",
      "metadata": {
        "id": "V_2sKsKc-QU1",
        "colab_type": "code",
        "outputId": "0853f3e5-f0aa-4e44-bbd2-1994c520a8ef",
        "colab": {
          "base_uri": "https://localhost:8080/",
          "height": 32
        }
      },
      "source": [
        "data_regr.Address.apply(to_street).value_counts().count()"
      ],
      "execution_count": 39,
      "outputs": [
        {
          "output_type": "execute_result",
          "data": {
            "text/plain": [
              "12164"
            ]
          },
          "metadata": {
            "tags": []
          },
          "execution_count": 39
        }
      ]
    },
    {
      "cell_type": "markdown",
      "metadata": {
        "id": "Rswnh5yy-YdE",
        "colab_type": "text"
      },
      "source": [
        "It still has up to 12164 unique value. For regression, this column is too diversed. Hence, I drop it."
      ]
    },
    {
      "cell_type": "code",
      "metadata": {
        "id": "VDpFVbJ8-SAt",
        "colab_type": "code",
        "colab": {}
      },
      "source": [
        "data_regr.drop(columns='Address', inplace=True)"
      ],
      "execution_count": 0,
      "outputs": []
    },
    {
      "cell_type": "code",
      "metadata": {
        "id": "8j5mRfKK-WIP",
        "colab_type": "code",
        "outputId": "b6423ac4-0cfb-425f-8d8c-61dfc2a7c522",
        "colab": {
          "base_uri": "https://localhost:8080/",
          "height": 214
        }
      },
      "source": [
        "counts = data_regr.SellerG.value_counts()\n",
        "counts"
      ],
      "execution_count": 41,
      "outputs": [
        {
          "output_type": "execute_result",
          "data": {
            "text/plain": [
              "Jellis           3359\n",
              "Nelson           3236\n",
              "Barry            3235\n",
              "hockingstuart    2623\n",
              "Marshall         2027\n",
              "                 ... \n",
              "A                   1\n",
              "CASTRAN             1\n",
              "Karen               1\n",
              "Burns               1\n",
              "Free                1\n",
              "Name: SellerG, Length: 388, dtype: int64"
            ]
          },
          "metadata": {
            "tags": []
          },
          "execution_count": 41
        }
      ]
    },
    {
      "cell_type": "code",
      "metadata": {
        "id": "yVeY79vC-d7R",
        "colab_type": "code",
        "outputId": "54d96c95-32ed-404c-a398-f62a7c730ccf",
        "colab": {
          "base_uri": "https://localhost:8080/",
          "height": 428
        }
      },
      "source": [
        "data_regr.SellerG[data['SellerG'].isin(counts[counts < 100].index)] = 'less than 100'\n",
        "data_regr.SellerG[data['SellerG'].isin(counts[(counts >= 100) & (counts < 200)].index)] = '100 - 200'\n",
        "data_regr.SellerG[data['SellerG'].isin(counts[(counts >= 200) & (counts < 500)].index)] = '200 - 500'\n",
        "data_regr.SellerG[data['SellerG'].isin(counts[(counts >= 500) & (counts < 1000)].index)] = '500 - 1000'\n",
        "data_regr.SellerG[data['SellerG'].isin(counts[counts > 1000].index)] = 'over 1000'"
      ],
      "execution_count": 42,
      "outputs": [
        {
          "output_type": "stream",
          "text": [
            "/usr/local/lib/python3.6/dist-packages/ipykernel_launcher.py:1: SettingWithCopyWarning: \n",
            "A value is trying to be set on a copy of a slice from a DataFrame\n",
            "\n",
            "See the caveats in the documentation: https://pandas.pydata.org/pandas-docs/stable/user_guide/indexing.html#returning-a-view-versus-a-copy\n",
            "  \"\"\"Entry point for launching an IPython kernel.\n",
            "/usr/local/lib/python3.6/dist-packages/ipykernel_launcher.py:2: SettingWithCopyWarning: \n",
            "A value is trying to be set on a copy of a slice from a DataFrame\n",
            "\n",
            "See the caveats in the documentation: https://pandas.pydata.org/pandas-docs/stable/user_guide/indexing.html#returning-a-view-versus-a-copy\n",
            "  \n",
            "/usr/local/lib/python3.6/dist-packages/ipykernel_launcher.py:3: SettingWithCopyWarning: \n",
            "A value is trying to be set on a copy of a slice from a DataFrame\n",
            "\n",
            "See the caveats in the documentation: https://pandas.pydata.org/pandas-docs/stable/user_guide/indexing.html#returning-a-view-versus-a-copy\n",
            "  This is separate from the ipykernel package so we can avoid doing imports until\n",
            "/usr/local/lib/python3.6/dist-packages/ipykernel_launcher.py:4: SettingWithCopyWarning: \n",
            "A value is trying to be set on a copy of a slice from a DataFrame\n",
            "\n",
            "See the caveats in the documentation: https://pandas.pydata.org/pandas-docs/stable/user_guide/indexing.html#returning-a-view-versus-a-copy\n",
            "  after removing the cwd from sys.path.\n",
            "/usr/local/lib/python3.6/dist-packages/ipykernel_launcher.py:5: SettingWithCopyWarning: \n",
            "A value is trying to be set on a copy of a slice from a DataFrame\n",
            "\n",
            "See the caveats in the documentation: https://pandas.pydata.org/pandas-docs/stable/user_guide/indexing.html#returning-a-view-versus-a-copy\n",
            "  \"\"\"\n"
          ],
          "name": "stderr"
        }
      ]
    },
    {
      "cell_type": "code",
      "metadata": {
        "id": "IUkA2B4d-hbL",
        "colab_type": "code",
        "outputId": "e8f50795-f129-48bc-d082-17a31922979c",
        "colab": {
          "base_uri": "https://localhost:8080/",
          "height": 115
        }
      },
      "source": [
        "data_regr.SellerG.value_counts()"
      ],
      "execution_count": 43,
      "outputs": [
        {
          "output_type": "execute_result",
          "data": {
            "text/plain": [
              "over 1000        18298\n",
              "200 - 500         5694\n",
              "500 - 1000        5334\n",
              "less than 100     3575\n",
              "100 - 200         1956\n",
              "Name: SellerG, dtype: int64"
            ]
          },
          "metadata": {
            "tags": []
          },
          "execution_count": 43
        }
      ]
    },
    {
      "cell_type": "markdown",
      "metadata": {
        "id": "I8Q3dUqN-szv",
        "colab_type": "text"
      },
      "source": [
        "As we already have the Geo information of the house in the Regionname , the CouncilArea with 33 unique values can be dropped for convenience."
      ]
    },
    {
      "cell_type": "code",
      "metadata": {
        "id": "OLpCHKPq-lFU",
        "colab_type": "code",
        "colab": {}
      },
      "source": [
        "data_regr.drop(columns='CouncilArea', inplace=True)"
      ],
      "execution_count": 0,
      "outputs": []
    },
    {
      "cell_type": "code",
      "metadata": {
        "id": "Hhi9XT7E-11G",
        "colab_type": "code",
        "outputId": "356d80c5-d59e-4a2c-a7f1-cd4a4457f13a",
        "colab": {
          "base_uri": "https://localhost:8080/",
          "height": 170
        }
      },
      "source": [
        "data_regr.describe(include=['O']).T"
      ],
      "execution_count": 45,
      "outputs": [
        {
          "output_type": "execute_result",
          "data": {
            "text/html": [
              "<div>\n",
              "<style scoped>\n",
              "    .dataframe tbody tr th:only-of-type {\n",
              "        vertical-align: middle;\n",
              "    }\n",
              "\n",
              "    .dataframe tbody tr th {\n",
              "        vertical-align: top;\n",
              "    }\n",
              "\n",
              "    .dataframe thead th {\n",
              "        text-align: right;\n",
              "    }\n",
              "</style>\n",
              "<table border=\"1\" class=\"dataframe\">\n",
              "  <thead>\n",
              "    <tr style=\"text-align: right;\">\n",
              "      <th></th>\n",
              "      <th>count</th>\n",
              "      <th>unique</th>\n",
              "      <th>top</th>\n",
              "      <th>freq</th>\n",
              "    </tr>\n",
              "  </thead>\n",
              "  <tbody>\n",
              "    <tr>\n",
              "      <th>Type</th>\n",
              "      <td>34857</td>\n",
              "      <td>3</td>\n",
              "      <td>h</td>\n",
              "      <td>23980</td>\n",
              "    </tr>\n",
              "    <tr>\n",
              "      <th>Method</th>\n",
              "      <td>34857</td>\n",
              "      <td>9</td>\n",
              "      <td>S</td>\n",
              "      <td>19744</td>\n",
              "    </tr>\n",
              "    <tr>\n",
              "      <th>SellerG</th>\n",
              "      <td>34857</td>\n",
              "      <td>5</td>\n",
              "      <td>over 1000</td>\n",
              "      <td>18298</td>\n",
              "    </tr>\n",
              "    <tr>\n",
              "      <th>Regionname</th>\n",
              "      <td>34857</td>\n",
              "      <td>8</td>\n",
              "      <td>Southern Metropolitan</td>\n",
              "      <td>11839</td>\n",
              "    </tr>\n",
              "  </tbody>\n",
              "</table>\n",
              "</div>"
            ],
            "text/plain": [
              "            count unique                    top   freq\n",
              "Type        34857      3                      h  23980\n",
              "Method      34857      9                      S  19744\n",
              "SellerG     34857      5              over 1000  18298\n",
              "Regionname  34857      8  Southern Metropolitan  11839"
            ]
          },
          "metadata": {
            "tags": []
          },
          "execution_count": 45
        }
      ]
    },
    {
      "cell_type": "code",
      "metadata": {
        "id": "I5lo6Rpr-4hj",
        "colab_type": "code",
        "outputId": "b484aa3c-d834-40f2-b212-5335a0699dc0",
        "colab": {
          "base_uri": "https://localhost:8080/",
          "height": 320
        }
      },
      "source": [
        "data.head()"
      ],
      "execution_count": 46,
      "outputs": [
        {
          "output_type": "execute_result",
          "data": {
            "text/html": [
              "<div>\n",
              "<style scoped>\n",
              "    .dataframe tbody tr th:only-of-type {\n",
              "        vertical-align: middle;\n",
              "    }\n",
              "\n",
              "    .dataframe tbody tr th {\n",
              "        vertical-align: top;\n",
              "    }\n",
              "\n",
              "    .dataframe thead th {\n",
              "        text-align: right;\n",
              "    }\n",
              "</style>\n",
              "<table border=\"1\" class=\"dataframe\">\n",
              "  <thead>\n",
              "    <tr style=\"text-align: right;\">\n",
              "      <th></th>\n",
              "      <th>Suburb</th>\n",
              "      <th>Address</th>\n",
              "      <th>Rooms</th>\n",
              "      <th>Type</th>\n",
              "      <th>Price</th>\n",
              "      <th>Method</th>\n",
              "      <th>SellerG</th>\n",
              "      <th>Date</th>\n",
              "      <th>Distance</th>\n",
              "      <th>Postcode</th>\n",
              "      <th>Bathroom</th>\n",
              "      <th>Car</th>\n",
              "      <th>Landsize</th>\n",
              "      <th>BuildingArea</th>\n",
              "      <th>CouncilArea</th>\n",
              "      <th>Regionname</th>\n",
              "      <th>Propertycount</th>\n",
              "    </tr>\n",
              "  </thead>\n",
              "  <tbody>\n",
              "    <tr>\n",
              "      <th>0</th>\n",
              "      <td>Abbotsford</td>\n",
              "      <td>68 Studley St</td>\n",
              "      <td>2</td>\n",
              "      <td>h</td>\n",
              "      <td>870000.0</td>\n",
              "      <td>SS</td>\n",
              "      <td>Jellis</td>\n",
              "      <td>3/09/2016</td>\n",
              "      <td>2.5</td>\n",
              "      <td>3067.0</td>\n",
              "      <td>1.0</td>\n",
              "      <td>1.0</td>\n",
              "      <td>126.0</td>\n",
              "      <td>136.0</td>\n",
              "      <td>Yarra City Council</td>\n",
              "      <td>Northern Metropolitan</td>\n",
              "      <td>4019.0</td>\n",
              "    </tr>\n",
              "    <tr>\n",
              "      <th>1</th>\n",
              "      <td>Abbotsford</td>\n",
              "      <td>85 Turner St</td>\n",
              "      <td>2</td>\n",
              "      <td>h</td>\n",
              "      <td>1480000.0</td>\n",
              "      <td>S</td>\n",
              "      <td>Biggin</td>\n",
              "      <td>3/12/2016</td>\n",
              "      <td>2.5</td>\n",
              "      <td>3067.0</td>\n",
              "      <td>1.0</td>\n",
              "      <td>1.0</td>\n",
              "      <td>202.0</td>\n",
              "      <td>136.0</td>\n",
              "      <td>Yarra City Council</td>\n",
              "      <td>Northern Metropolitan</td>\n",
              "      <td>4019.0</td>\n",
              "    </tr>\n",
              "    <tr>\n",
              "      <th>2</th>\n",
              "      <td>Abbotsford</td>\n",
              "      <td>25 Bloomburg St</td>\n",
              "      <td>2</td>\n",
              "      <td>h</td>\n",
              "      <td>1035000.0</td>\n",
              "      <td>S</td>\n",
              "      <td>Biggin</td>\n",
              "      <td>4/02/2016</td>\n",
              "      <td>2.5</td>\n",
              "      <td>3067.0</td>\n",
              "      <td>1.0</td>\n",
              "      <td>0.0</td>\n",
              "      <td>156.0</td>\n",
              "      <td>79.0</td>\n",
              "      <td>Yarra City Council</td>\n",
              "      <td>Northern Metropolitan</td>\n",
              "      <td>4019.0</td>\n",
              "    </tr>\n",
              "    <tr>\n",
              "      <th>3</th>\n",
              "      <td>Abbotsford</td>\n",
              "      <td>18/659 Victoria St</td>\n",
              "      <td>3</td>\n",
              "      <td>u</td>\n",
              "      <td>870000.0</td>\n",
              "      <td>VB</td>\n",
              "      <td>Rounds</td>\n",
              "      <td>4/02/2016</td>\n",
              "      <td>2.5</td>\n",
              "      <td>3067.0</td>\n",
              "      <td>2.0</td>\n",
              "      <td>1.0</td>\n",
              "      <td>0.0</td>\n",
              "      <td>136.0</td>\n",
              "      <td>Yarra City Council</td>\n",
              "      <td>Northern Metropolitan</td>\n",
              "      <td>4019.0</td>\n",
              "    </tr>\n",
              "    <tr>\n",
              "      <th>4</th>\n",
              "      <td>Abbotsford</td>\n",
              "      <td>5 Charles St</td>\n",
              "      <td>3</td>\n",
              "      <td>h</td>\n",
              "      <td>1465000.0</td>\n",
              "      <td>SP</td>\n",
              "      <td>Biggin</td>\n",
              "      <td>4/03/2017</td>\n",
              "      <td>2.5</td>\n",
              "      <td>3067.0</td>\n",
              "      <td>2.0</td>\n",
              "      <td>0.0</td>\n",
              "      <td>134.0</td>\n",
              "      <td>150.0</td>\n",
              "      <td>Yarra City Council</td>\n",
              "      <td>Northern Metropolitan</td>\n",
              "      <td>4019.0</td>\n",
              "    </tr>\n",
              "  </tbody>\n",
              "</table>\n",
              "</div>"
            ],
            "text/plain": [
              "       Suburb             Address  ...             Regionname Propertycount\n",
              "0  Abbotsford       68 Studley St  ...  Northern Metropolitan        4019.0\n",
              "1  Abbotsford        85 Turner St  ...  Northern Metropolitan        4019.0\n",
              "2  Abbotsford     25 Bloomburg St  ...  Northern Metropolitan        4019.0\n",
              "3  Abbotsford  18/659 Victoria St  ...  Northern Metropolitan        4019.0\n",
              "4  Abbotsford        5 Charles St  ...  Northern Metropolitan        4019.0\n",
              "\n",
              "[5 rows x 17 columns]"
            ]
          },
          "metadata": {
            "tags": []
          },
          "execution_count": 46
        }
      ]
    },
    {
      "cell_type": "code",
      "metadata": {
        "id": "U7Sc1jCk-93S",
        "colab_type": "code",
        "colab": {}
      },
      "source": [
        "data = data.reset_index().drop(columns='index') # do not use inplace=True if combine\n",
        "data_regr = data_regr.reset_index().drop(columns='index')"
      ],
      "execution_count": 0,
      "outputs": []
    },
    {
      "cell_type": "code",
      "metadata": {
        "id": "QWqMoMr9_CXk",
        "colab_type": "code",
        "outputId": "55559c17-e721-4ec3-f01f-5db09b2085b9",
        "colab": {
          "base_uri": "https://localhost:8080/",
          "height": 201
        }
      },
      "source": [
        "data_regr.head()"
      ],
      "execution_count": 48,
      "outputs": [
        {
          "output_type": "execute_result",
          "data": {
            "text/html": [
              "<div>\n",
              "<style scoped>\n",
              "    .dataframe tbody tr th:only-of-type {\n",
              "        vertical-align: middle;\n",
              "    }\n",
              "\n",
              "    .dataframe tbody tr th {\n",
              "        vertical-align: top;\n",
              "    }\n",
              "\n",
              "    .dataframe thead th {\n",
              "        text-align: right;\n",
              "    }\n",
              "</style>\n",
              "<table border=\"1\" class=\"dataframe\">\n",
              "  <thead>\n",
              "    <tr style=\"text-align: right;\">\n",
              "      <th></th>\n",
              "      <th>Rooms</th>\n",
              "      <th>Type</th>\n",
              "      <th>Price</th>\n",
              "      <th>Method</th>\n",
              "      <th>SellerG</th>\n",
              "      <th>Date</th>\n",
              "      <th>Distance</th>\n",
              "      <th>Bathroom</th>\n",
              "      <th>Car</th>\n",
              "      <th>Landsize</th>\n",
              "      <th>BuildingArea</th>\n",
              "      <th>Regionname</th>\n",
              "      <th>Propertycount</th>\n",
              "    </tr>\n",
              "  </thead>\n",
              "  <tbody>\n",
              "    <tr>\n",
              "      <th>0</th>\n",
              "      <td>2</td>\n",
              "      <td>h</td>\n",
              "      <td>870000.0</td>\n",
              "      <td>SS</td>\n",
              "      <td>over 1000</td>\n",
              "      <td>2016</td>\n",
              "      <td>2.5</td>\n",
              "      <td>1.0</td>\n",
              "      <td>1.0</td>\n",
              "      <td>126.0</td>\n",
              "      <td>136.0</td>\n",
              "      <td>Northern Metropolitan</td>\n",
              "      <td>4019.0</td>\n",
              "    </tr>\n",
              "    <tr>\n",
              "      <th>1</th>\n",
              "      <td>2</td>\n",
              "      <td>h</td>\n",
              "      <td>1480000.0</td>\n",
              "      <td>S</td>\n",
              "      <td>500 - 1000</td>\n",
              "      <td>2016</td>\n",
              "      <td>2.5</td>\n",
              "      <td>1.0</td>\n",
              "      <td>1.0</td>\n",
              "      <td>202.0</td>\n",
              "      <td>136.0</td>\n",
              "      <td>Northern Metropolitan</td>\n",
              "      <td>4019.0</td>\n",
              "    </tr>\n",
              "    <tr>\n",
              "      <th>2</th>\n",
              "      <td>2</td>\n",
              "      <td>h</td>\n",
              "      <td>1035000.0</td>\n",
              "      <td>S</td>\n",
              "      <td>500 - 1000</td>\n",
              "      <td>2016</td>\n",
              "      <td>2.5</td>\n",
              "      <td>1.0</td>\n",
              "      <td>0.0</td>\n",
              "      <td>156.0</td>\n",
              "      <td>79.0</td>\n",
              "      <td>Northern Metropolitan</td>\n",
              "      <td>4019.0</td>\n",
              "    </tr>\n",
              "    <tr>\n",
              "      <th>3</th>\n",
              "      <td>3</td>\n",
              "      <td>u</td>\n",
              "      <td>870000.0</td>\n",
              "      <td>VB</td>\n",
              "      <td>less than 100</td>\n",
              "      <td>2016</td>\n",
              "      <td>2.5</td>\n",
              "      <td>2.0</td>\n",
              "      <td>1.0</td>\n",
              "      <td>0.0</td>\n",
              "      <td>136.0</td>\n",
              "      <td>Northern Metropolitan</td>\n",
              "      <td>4019.0</td>\n",
              "    </tr>\n",
              "    <tr>\n",
              "      <th>4</th>\n",
              "      <td>3</td>\n",
              "      <td>h</td>\n",
              "      <td>1465000.0</td>\n",
              "      <td>SP</td>\n",
              "      <td>500 - 1000</td>\n",
              "      <td>2017</td>\n",
              "      <td>2.5</td>\n",
              "      <td>2.0</td>\n",
              "      <td>0.0</td>\n",
              "      <td>134.0</td>\n",
              "      <td>150.0</td>\n",
              "      <td>Northern Metropolitan</td>\n",
              "      <td>4019.0</td>\n",
              "    </tr>\n",
              "  </tbody>\n",
              "</table>\n",
              "</div>"
            ],
            "text/plain": [
              "   Rooms Type      Price  ... BuildingArea             Regionname  Propertycount\n",
              "0      2    h   870000.0  ...        136.0  Northern Metropolitan         4019.0\n",
              "1      2    h  1480000.0  ...        136.0  Northern Metropolitan         4019.0\n",
              "2      2    h  1035000.0  ...         79.0  Northern Metropolitan         4019.0\n",
              "3      3    u   870000.0  ...        136.0  Northern Metropolitan         4019.0\n",
              "4      3    h  1465000.0  ...        150.0  Northern Metropolitan         4019.0\n",
              "\n",
              "[5 rows x 13 columns]"
            ]
          },
          "metadata": {
            "tags": []
          },
          "execution_count": 48
        }
      ]
    },
    {
      "cell_type": "markdown",
      "metadata": {
        "id": "4WgaDiJj_Gtk",
        "colab_type": "text"
      },
      "source": [
        "**One-hot Encode**"
      ]
    },
    {
      "cell_type": "code",
      "metadata": {
        "id": "G5NJyt5s_EmN",
        "colab_type": "code",
        "colab": {}
      },
      "source": [
        "categoricals = ['Type', 'Method', 'SellerG', 'Regionname', 'Date']\n",
        "for feature in categoricals:\n",
        "    df = copy.copy(pd.get_dummies(data_regr[feature], drop_first=True))\n",
        "    data_regr = pd.concat([data_regr, df], axis=1)\n",
        "    data_regr.drop(columns=feature, inplace=True)"
      ],
      "execution_count": 0,
      "outputs": []
    },
    {
      "cell_type": "code",
      "metadata": {
        "id": "nx-XILo4_N_A",
        "colab_type": "code",
        "outputId": "ad7b256f-e453-4ea7-e0bf-3147502aa114",
        "colab": {
          "base_uri": "https://localhost:8080/",
          "height": 254
        }
      },
      "source": [
        "data_regr.head()"
      ],
      "execution_count": 50,
      "outputs": [
        {
          "output_type": "execute_result",
          "data": {
            "text/html": [
              "<div>\n",
              "<style scoped>\n",
              "    .dataframe tbody tr th:only-of-type {\n",
              "        vertical-align: middle;\n",
              "    }\n",
              "\n",
              "    .dataframe tbody tr th {\n",
              "        vertical-align: top;\n",
              "    }\n",
              "\n",
              "    .dataframe thead th {\n",
              "        text-align: right;\n",
              "    }\n",
              "</style>\n",
              "<table border=\"1\" class=\"dataframe\">\n",
              "  <thead>\n",
              "    <tr style=\"text-align: right;\">\n",
              "      <th></th>\n",
              "      <th>Rooms</th>\n",
              "      <th>Price</th>\n",
              "      <th>Distance</th>\n",
              "      <th>Bathroom</th>\n",
              "      <th>Car</th>\n",
              "      <th>Landsize</th>\n",
              "      <th>BuildingArea</th>\n",
              "      <th>Propertycount</th>\n",
              "      <th>t</th>\n",
              "      <th>u</th>\n",
              "      <th>PN</th>\n",
              "      <th>S</th>\n",
              "      <th>SA</th>\n",
              "      <th>SN</th>\n",
              "      <th>SP</th>\n",
              "      <th>SS</th>\n",
              "      <th>VB</th>\n",
              "      <th>W</th>\n",
              "      <th>200 - 500</th>\n",
              "      <th>500 - 1000</th>\n",
              "      <th>less than 100</th>\n",
              "      <th>over 1000</th>\n",
              "      <th>Eastern Victoria</th>\n",
              "      <th>Northern Metropolitan</th>\n",
              "      <th>Northern Victoria</th>\n",
              "      <th>South-Eastern Metropolitan</th>\n",
              "      <th>Southern Metropolitan</th>\n",
              "      <th>Western Metropolitan</th>\n",
              "      <th>Western Victoria</th>\n",
              "      <th>2017</th>\n",
              "      <th>2018</th>\n",
              "    </tr>\n",
              "  </thead>\n",
              "  <tbody>\n",
              "    <tr>\n",
              "      <th>0</th>\n",
              "      <td>2</td>\n",
              "      <td>870000.0</td>\n",
              "      <td>2.5</td>\n",
              "      <td>1.0</td>\n",
              "      <td>1.0</td>\n",
              "      <td>126.0</td>\n",
              "      <td>136.0</td>\n",
              "      <td>4019.0</td>\n",
              "      <td>0</td>\n",
              "      <td>0</td>\n",
              "      <td>0</td>\n",
              "      <td>0</td>\n",
              "      <td>0</td>\n",
              "      <td>0</td>\n",
              "      <td>0</td>\n",
              "      <td>1</td>\n",
              "      <td>0</td>\n",
              "      <td>0</td>\n",
              "      <td>0</td>\n",
              "      <td>0</td>\n",
              "      <td>0</td>\n",
              "      <td>1</td>\n",
              "      <td>0</td>\n",
              "      <td>1</td>\n",
              "      <td>0</td>\n",
              "      <td>0</td>\n",
              "      <td>0</td>\n",
              "      <td>0</td>\n",
              "      <td>0</td>\n",
              "      <td>0</td>\n",
              "      <td>0</td>\n",
              "    </tr>\n",
              "    <tr>\n",
              "      <th>1</th>\n",
              "      <td>2</td>\n",
              "      <td>1480000.0</td>\n",
              "      <td>2.5</td>\n",
              "      <td>1.0</td>\n",
              "      <td>1.0</td>\n",
              "      <td>202.0</td>\n",
              "      <td>136.0</td>\n",
              "      <td>4019.0</td>\n",
              "      <td>0</td>\n",
              "      <td>0</td>\n",
              "      <td>0</td>\n",
              "      <td>1</td>\n",
              "      <td>0</td>\n",
              "      <td>0</td>\n",
              "      <td>0</td>\n",
              "      <td>0</td>\n",
              "      <td>0</td>\n",
              "      <td>0</td>\n",
              "      <td>0</td>\n",
              "      <td>1</td>\n",
              "      <td>0</td>\n",
              "      <td>0</td>\n",
              "      <td>0</td>\n",
              "      <td>1</td>\n",
              "      <td>0</td>\n",
              "      <td>0</td>\n",
              "      <td>0</td>\n",
              "      <td>0</td>\n",
              "      <td>0</td>\n",
              "      <td>0</td>\n",
              "      <td>0</td>\n",
              "    </tr>\n",
              "    <tr>\n",
              "      <th>2</th>\n",
              "      <td>2</td>\n",
              "      <td>1035000.0</td>\n",
              "      <td>2.5</td>\n",
              "      <td>1.0</td>\n",
              "      <td>0.0</td>\n",
              "      <td>156.0</td>\n",
              "      <td>79.0</td>\n",
              "      <td>4019.0</td>\n",
              "      <td>0</td>\n",
              "      <td>0</td>\n",
              "      <td>0</td>\n",
              "      <td>1</td>\n",
              "      <td>0</td>\n",
              "      <td>0</td>\n",
              "      <td>0</td>\n",
              "      <td>0</td>\n",
              "      <td>0</td>\n",
              "      <td>0</td>\n",
              "      <td>0</td>\n",
              "      <td>1</td>\n",
              "      <td>0</td>\n",
              "      <td>0</td>\n",
              "      <td>0</td>\n",
              "      <td>1</td>\n",
              "      <td>0</td>\n",
              "      <td>0</td>\n",
              "      <td>0</td>\n",
              "      <td>0</td>\n",
              "      <td>0</td>\n",
              "      <td>0</td>\n",
              "      <td>0</td>\n",
              "    </tr>\n",
              "    <tr>\n",
              "      <th>3</th>\n",
              "      <td>3</td>\n",
              "      <td>870000.0</td>\n",
              "      <td>2.5</td>\n",
              "      <td>2.0</td>\n",
              "      <td>1.0</td>\n",
              "      <td>0.0</td>\n",
              "      <td>136.0</td>\n",
              "      <td>4019.0</td>\n",
              "      <td>0</td>\n",
              "      <td>1</td>\n",
              "      <td>0</td>\n",
              "      <td>0</td>\n",
              "      <td>0</td>\n",
              "      <td>0</td>\n",
              "      <td>0</td>\n",
              "      <td>0</td>\n",
              "      <td>1</td>\n",
              "      <td>0</td>\n",
              "      <td>0</td>\n",
              "      <td>0</td>\n",
              "      <td>1</td>\n",
              "      <td>0</td>\n",
              "      <td>0</td>\n",
              "      <td>1</td>\n",
              "      <td>0</td>\n",
              "      <td>0</td>\n",
              "      <td>0</td>\n",
              "      <td>0</td>\n",
              "      <td>0</td>\n",
              "      <td>0</td>\n",
              "      <td>0</td>\n",
              "    </tr>\n",
              "    <tr>\n",
              "      <th>4</th>\n",
              "      <td>3</td>\n",
              "      <td>1465000.0</td>\n",
              "      <td>2.5</td>\n",
              "      <td>2.0</td>\n",
              "      <td>0.0</td>\n",
              "      <td>134.0</td>\n",
              "      <td>150.0</td>\n",
              "      <td>4019.0</td>\n",
              "      <td>0</td>\n",
              "      <td>0</td>\n",
              "      <td>0</td>\n",
              "      <td>0</td>\n",
              "      <td>0</td>\n",
              "      <td>0</td>\n",
              "      <td>1</td>\n",
              "      <td>0</td>\n",
              "      <td>0</td>\n",
              "      <td>0</td>\n",
              "      <td>0</td>\n",
              "      <td>1</td>\n",
              "      <td>0</td>\n",
              "      <td>0</td>\n",
              "      <td>0</td>\n",
              "      <td>1</td>\n",
              "      <td>0</td>\n",
              "      <td>0</td>\n",
              "      <td>0</td>\n",
              "      <td>0</td>\n",
              "      <td>0</td>\n",
              "      <td>1</td>\n",
              "      <td>0</td>\n",
              "    </tr>\n",
              "  </tbody>\n",
              "</table>\n",
              "</div>"
            ],
            "text/plain": [
              "   Rooms      Price  Distance  ...  Western Victoria  2017  2018\n",
              "0      2   870000.0       2.5  ...                 0     0     0\n",
              "1      2  1480000.0       2.5  ...                 0     0     0\n",
              "2      2  1035000.0       2.5  ...                 0     0     0\n",
              "3      3   870000.0       2.5  ...                 0     0     0\n",
              "4      3  1465000.0       2.5  ...                 0     1     0\n",
              "\n",
              "[5 rows x 31 columns]"
            ]
          },
          "metadata": {
            "tags": []
          },
          "execution_count": 50
        }
      ]
    },
    {
      "cell_type": "code",
      "metadata": {
        "id": "Q1VDphlC_bJi",
        "colab_type": "code",
        "outputId": "de31ea64-db33-4968-e128-eef2fe49c5f4",
        "colab": {
          "base_uri": "https://localhost:8080/",
          "height": 32
        }
      },
      "source": [
        "data_regr.shape"
      ],
      "execution_count": 51,
      "outputs": [
        {
          "output_type": "execute_result",
          "data": {
            "text/plain": [
              "(34857, 31)"
            ]
          },
          "metadata": {
            "tags": []
          },
          "execution_count": 51
        }
      ]
    },
    {
      "cell_type": "markdown",
      "metadata": {
        "id": "cOR2uwJM_mSE",
        "colab_type": "text"
      },
      "source": [
        "**Linear Regression without PCA**"
      ]
    },
    {
      "cell_type": "markdown",
      "metadata": {
        "id": "MuLtWdAP_qnL",
        "colab_type": "text"
      },
      "source": [
        "**Hold out**"
      ]
    },
    {
      "cell_type": "code",
      "metadata": {
        "id": "eKVDXNBd_gdl",
        "colab_type": "code",
        "colab": {}
      },
      "source": [
        "model_HO = linear_model.LinearRegression()"
      ],
      "execution_count": 0,
      "outputs": []
    },
    {
      "cell_type": "code",
      "metadata": {
        "id": "bYfBdz0l_uCD",
        "colab_type": "code",
        "colab": {}
      },
      "source": [
        "train, test = train_test_split(data_regr, test_size = 0.2, random_state=512)"
      ],
      "execution_count": 0,
      "outputs": []
    },
    {
      "cell_type": "code",
      "metadata": {
        "id": "BxpXBySB_vrs",
        "colab_type": "code",
        "outputId": "a907f405-ad59-4526-d31f-2591bb79957f",
        "colab": {
          "base_uri": "https://localhost:8080/",
          "height": 32
        }
      },
      "source": [
        "train.shape"
      ],
      "execution_count": 54,
      "outputs": [
        {
          "output_type": "execute_result",
          "data": {
            "text/plain": [
              "(27885, 31)"
            ]
          },
          "metadata": {
            "tags": []
          },
          "execution_count": 54
        }
      ]
    },
    {
      "cell_type": "code",
      "metadata": {
        "id": "f4Ke5sG2_xOh",
        "colab_type": "code",
        "outputId": "5887580a-63df-42aa-8155-a730c1fff630",
        "colab": {
          "base_uri": "https://localhost:8080/",
          "height": 32
        }
      },
      "source": [
        "test.shape"
      ],
      "execution_count": 55,
      "outputs": [
        {
          "output_type": "execute_result",
          "data": {
            "text/plain": [
              "(6972, 31)"
            ]
          },
          "metadata": {
            "tags": []
          },
          "execution_count": 55
        }
      ]
    },
    {
      "cell_type": "code",
      "metadata": {
        "id": "VkkHk0_L_y-Z",
        "colab_type": "code",
        "colab": {}
      },
      "source": [
        "X_train = train.loc[:, data_regr.columns != 'Price']\n",
        "y_train = train.Price\n",
        "\n",
        "X_test = test.loc[:, data_regr.columns != 'Price']\n",
        "y_test = test.Price"
      ],
      "execution_count": 0,
      "outputs": []
    },
    {
      "cell_type": "code",
      "metadata": {
        "id": "ajishjSd_2oQ",
        "colab_type": "code",
        "outputId": "164f5619-062f-4c3a-e938-4e0d9815b0ce",
        "colab": {
          "base_uri": "https://localhost:8080/",
          "height": 32
        }
      },
      "source": [
        "model_HO.fit(X_train.values, y_train.values)"
      ],
      "execution_count": 57,
      "outputs": [
        {
          "output_type": "execute_result",
          "data": {
            "text/plain": [
              "LinearRegression(copy_X=True, fit_intercept=True, n_jobs=None, normalize=False)"
            ]
          },
          "metadata": {
            "tags": []
          },
          "execution_count": 57
        }
      ]
    },
    {
      "cell_type": "code",
      "metadata": {
        "id": "QsI94sUa_4ar",
        "colab_type": "code",
        "outputId": "00965e57-431a-4824-fe3e-65f6589ca6f2",
        "colab": {
          "base_uri": "https://localhost:8080/",
          "height": 32
        }
      },
      "source": [
        "predict_train = model_HO.predict(X_train.values)\n",
        "mean_squared_error(y_train, predict_train)"
      ],
      "execution_count": 58,
      "outputs": [
        {
          "output_type": "execute_result",
          "data": {
            "text/plain": [
              "200347629794.25537"
            ]
          },
          "metadata": {
            "tags": []
          },
          "execution_count": 58
        }
      ]
    },
    {
      "cell_type": "code",
      "metadata": {
        "id": "fZm3bXTo_6xb",
        "colab_type": "code",
        "outputId": "7db85ea4-7855-4a0d-ca38-b84f2d77f9e0",
        "colab": {
          "base_uri": "https://localhost:8080/",
          "height": 32
        }
      },
      "source": [
        "predict_test = model_HO.predict(X_test.values)\n",
        "mean_squared_error(y_test, predict_test)"
      ],
      "execution_count": 59,
      "outputs": [
        {
          "output_type": "execute_result",
          "data": {
            "text/plain": [
              "190703399245.9947"
            ]
          },
          "metadata": {
            "tags": []
          },
          "execution_count": 59
        }
      ]
    },
    {
      "cell_type": "code",
      "metadata": {
        "id": "BVPobTIdAJ1s",
        "colab_type": "code",
        "outputId": "f4a725f3-7ee1-49ed-d6f4-b1e3e085140c",
        "colab": {
          "base_uri": "https://localhost:8080/",
          "height": 295
        }
      },
      "source": [
        "import matplotlib.pyplot as plt\n",
        "\n",
        "fig, ax = plt.subplots()\n",
        "ax.scatter(y_test, predict_test)\n",
        "ax.plot([y_test.min(), y_test.max()], [y_test.min(), y_test.max()], 'k--', lw=4)\n",
        "ax.set_xlabel('Measured')\n",
        "ax.set_ylabel('Predicted')\n",
        "plt.show()"
      ],
      "execution_count": 60,
      "outputs": [
        {
          "output_type": "display_data",
          "data": {
            "image/png": "[encoded data removed]",
            "text/plain": [
              "<Figure size 432x288 with 1 Axes>"
            ]
          },
          "metadata": {
            "tags": []
          }
        }
      ]
    },
    {
      "cell_type": "markdown",
      "metadata": {
        "id": "2wKplCwjAUfN",
        "colab_type": "text"
      },
      "source": [
        "**Cross validation**"
      ]
    },
    {
      "cell_type": "code",
      "metadata": {
        "id": "rSvjXI_pANG5",
        "colab_type": "code",
        "colab": {}
      },
      "source": [
        "model_CV = linear_model.LinearRegression()"
      ],
      "execution_count": 0,
      "outputs": []
    },
    {
      "cell_type": "code",
      "metadata": {
        "id": "LdV0k9EHAafH",
        "colab_type": "code",
        "outputId": "4582432c-7a03-4b42-9899-19f9a122d890",
        "colab": {
          "base_uri": "https://localhost:8080/",
          "height": 295
        }
      },
      "source": [
        "y = data_regr.Price\n",
        "X = data_regr.loc[:, data_regr.columns != 'Price']\n",
        "predicted = cross_val_predict(model_CV, X.values, y.values, cv=5)\n",
        "\n",
        "fig, ax = plt.subplots()\n",
        "ax.scatter(y, predicted)\n",
        "ax.plot([y.min(), y.max()], [y.min(), y.max()], 'k--', lw=4)\n",
        "ax.set_xlabel('Measured')\n",
        "ax.set_ylabel('Predicted')\n",
        "plt.show()"
      ],
      "execution_count": 62,
      "outputs": [
        {
          "output_type": "display_data",
          "data": {
            "image/png": "[encoded data removed]",
            "text/plain": [
              "<Figure size 432x288 with 1 Axes>"
            ]
          },
          "metadata": {
            "tags": []
          }
        }
      ]
    },
    {
      "cell_type": "code",
      "metadata": {
        "id": "wqF7oVoMAcNU",
        "colab_type": "code",
        "outputId": "c1d24e45-2cb6-4a95-b364-eb3b1c812c21",
        "colab": {
          "base_uri": "https://localhost:8080/",
          "height": 32
        }
      },
      "source": [
        "mean_squared_error(y.values, predicted)"
      ],
      "execution_count": 63,
      "outputs": [
        {
          "output_type": "execute_result",
          "data": {
            "text/plain": [
              "200685272043.68445"
            ]
          },
          "metadata": {
            "tags": []
          },
          "execution_count": 63
        }
      ]
    },
    {
      "cell_type": "markdown",
      "metadata": {
        "id": "TGRXXw7HAg0_",
        "colab_type": "text"
      },
      "source": [
        "According to the graph and the high value, this model does not perform well. It is possible that the model is too simple for this problem."
      ]
    },
    {
      "cell_type": "markdown",
      "metadata": {
        "id": "4kx-ZpAyAnVe",
        "colab_type": "text"
      },
      "source": [
        "**Linear Regression with PCA**"
      ]
    },
    {
      "cell_type": "code",
      "metadata": {
        "id": "25bkVnKGAeaq",
        "colab_type": "code",
        "colab": {}
      },
      "source": [
        "from sklearn.decomposition import PCA"
      ],
      "execution_count": 0,
      "outputs": []
    },
    {
      "cell_type": "code",
      "metadata": {
        "id": "5Y9JNrYvAqnr",
        "colab_type": "code",
        "colab": {}
      },
      "source": [
        "pca = PCA(n_components=10)"
      ],
      "execution_count": 0,
      "outputs": []
    },
    {
      "cell_type": "code",
      "metadata": {
        "id": "wDgDL6SwAruS",
        "colab_type": "code",
        "colab": {}
      },
      "source": [
        "X_new = pd.DataFrame(pca.fit_transform(X.values))"
      ],
      "execution_count": 0,
      "outputs": []
    },
    {
      "cell_type": "markdown",
      "metadata": {
        "id": "UikUhQXaAuI2",
        "colab_type": "text"
      },
      "source": [
        "**Hold out**"
      ]
    },
    {
      "cell_type": "code",
      "metadata": {
        "id": "BvUrrhriAs66",
        "colab_type": "code",
        "colab": {}
      },
      "source": [
        "model_HO_PCA = linear_model.LinearRegression()"
      ],
      "execution_count": 0,
      "outputs": []
    },
    {
      "cell_type": "code",
      "metadata": {
        "id": "MiIUAWupAya1",
        "colab_type": "code",
        "colab": {}
      },
      "source": [
        "dataPCA = pd.concat([X_new, y], axis=1)"
      ],
      "execution_count": 0,
      "outputs": []
    },
    {
      "cell_type": "code",
      "metadata": {
        "id": "vWAW0q0pA05V",
        "colab_type": "code",
        "colab": {}
      },
      "source": [
        "train, test = train_test_split(dataPCA, test_size = 0.2, random_state=512)"
      ],
      "execution_count": 0,
      "outputs": []
    },
    {
      "cell_type": "code",
      "metadata": {
        "id": "TknBuNxZA3JQ",
        "colab_type": "code",
        "colab": {}
      },
      "source": [
        "X_train = train.loc[:, train.columns != 'Price']\n",
        "y_train = train.Price\n",
        "\n",
        "X_test = test.loc[:, test.columns != 'Price']\n",
        "y_test = test.Price"
      ],
      "execution_count": 0,
      "outputs": []
    },
    {
      "cell_type": "code",
      "metadata": {
        "id": "PfR-HobfA5fD",
        "colab_type": "code",
        "outputId": "ed685c22-826d-4aaa-bbee-44c1744b78c2",
        "colab": {
          "base_uri": "https://localhost:8080/",
          "height": 32
        }
      },
      "source": [
        "model_HO_PCA.fit(X_train.values, y_train.values)"
      ],
      "execution_count": 71,
      "outputs": [
        {
          "output_type": "execute_result",
          "data": {
            "text/plain": [
              "LinearRegression(copy_X=True, fit_intercept=True, n_jobs=None, normalize=False)"
            ]
          },
          "metadata": {
            "tags": []
          },
          "execution_count": 71
        }
      ]
    },
    {
      "cell_type": "code",
      "metadata": {
        "id": "zp0KGesGA8tl",
        "colab_type": "code",
        "outputId": "e85b7f5e-7c02-4903-a3e2-11ac7eb24fb1",
        "colab": {
          "base_uri": "https://localhost:8080/",
          "height": 32
        }
      },
      "source": [
        "predict_train = model_HO_PCA.predict(X_train.values)\n",
        "mean_squared_error(y_train, predict_train)"
      ],
      "execution_count": 72,
      "outputs": [
        {
          "output_type": "execute_result",
          "data": {
            "text/plain": [
              "224356813635.55753"
            ]
          },
          "metadata": {
            "tags": []
          },
          "execution_count": 72
        }
      ]
    },
    {
      "cell_type": "code",
      "metadata": {
        "id": "nji2E9cJA-YX",
        "colab_type": "code",
        "outputId": "78de110a-11b5-4054-a6d4-7ce5223d9402",
        "colab": {
          "base_uri": "https://localhost:8080/",
          "height": 32
        }
      },
      "source": [
        "predict_test = model_HO_PCA.predict(X_test.values)\n",
        "mean_squared_error(y_test, predict_test)"
      ],
      "execution_count": 73,
      "outputs": [
        {
          "output_type": "execute_result",
          "data": {
            "text/plain": [
              "212964300028.7197"
            ]
          },
          "metadata": {
            "tags": []
          },
          "execution_count": 73
        }
      ]
    },
    {
      "cell_type": "code",
      "metadata": {
        "id": "jvNLKRUPBCYk",
        "colab_type": "code",
        "outputId": "011e05e5-c99e-41fc-d35e-ff0b347529f9",
        "colab": {
          "base_uri": "https://localhost:8080/",
          "height": 295
        }
      },
      "source": [
        "fig, ax = plt.subplots()\n",
        "ax.scatter(y_test, predict_test)\n",
        "ax.plot([y_test.min(), y_test.max()], [y_test.min(), y_test.max()], 'k--', lw=4)\n",
        "ax.set_xlabel('Measured')\n",
        "ax.set_ylabel('Predicted')\n",
        "plt.show()"
      ],
      "execution_count": 74,
      "outputs": [
        {
          "output_type": "display_data",
          "data": {
            "image/png": "[encoded data removed]",
            "text/plain": [
              "<Figure size 432x288 with 1 Axes>"
            ]
          },
          "metadata": {
            "tags": []
          }
        }
      ]
    },
    {
      "cell_type": "markdown",
      "metadata": {
        "id": "aObrgiCABLlQ",
        "colab_type": "text"
      },
      "source": [
        "**Cross validation**"
      ]
    },
    {
      "cell_type": "code",
      "metadata": {
        "id": "qYPu6Ao8BE_V",
        "colab_type": "code",
        "colab": {}
      },
      "source": [
        "model_CV_PCA = linear_model.LinearRegression()"
      ],
      "execution_count": 0,
      "outputs": []
    },
    {
      "cell_type": "code",
      "metadata": {
        "id": "Z4QiqMlyBO1h",
        "colab_type": "code",
        "outputId": "51abc01c-e38c-4f9c-f8e0-f925bfd2746b",
        "colab": {
          "base_uri": "https://localhost:8080/",
          "height": 295
        }
      },
      "source": [
        "y = dataPCA.Price\n",
        "X = dataPCA.loc[:, dataPCA.columns != 'Price']\n",
        "predicted = cross_val_predict(model_CV_PCA, X.values, y.values, cv=5)\n",
        "\n",
        "fig, ax = plt.subplots()\n",
        "ax.scatter(y, predicted)\n",
        "ax.plot([y.min(), y.max()], [y.min(), y.max()], 'k--', lw=4)\n",
        "ax.set_xlabel('Measured')\n",
        "ax.set_ylabel('Predicted')\n",
        "plt.show()"
      ],
      "execution_count": 76,
      "outputs": [
        {
          "output_type": "display_data",
          "data": {
            "image/png": "[encoded data removed]",
            "text/plain": [
              "<Figure size 432x288 with 1 Axes>"
            ]
          },
          "metadata": {
            "tags": []
          }
        }
      ]
    },
    {
      "cell_type": "code",
      "metadata": {
        "id": "WKrem-1fBQHw",
        "colab_type": "code",
        "outputId": "74e61a32-b3bd-4a71-fe8e-40170dfb8a27",
        "colab": {
          "base_uri": "https://localhost:8080/",
          "height": 32
        }
      },
      "source": [
        "mean_squared_error(y.values, predicted)"
      ],
      "execution_count": 77,
      "outputs": [
        {
          "output_type": "execute_result",
          "data": {
            "text/plain": [
              "224056356233.2243"
            ]
          },
          "metadata": {
            "tags": []
          },
          "execution_count": 77
        }
      ]
    },
    {
      "cell_type": "markdown",
      "metadata": {
        "id": "m0IR3rulBYa2",
        "colab_type": "text"
      },
      "source": [
        "As expected, the original model with all of the data does not perform as very well, the model with PCA couldnt perform better."
      ]
    },
    {
      "cell_type": "code",
      "metadata": {
        "id": "YiUD0-aFBTSq",
        "colab_type": "code",
        "colab": {}
      },
      "source": [
        "X = data_regr.loc[:, data_regr.columns != 'Price']\n",
        "y = data_regr.Price"
      ],
      "execution_count": 0,
      "outputs": []
    },
    {
      "cell_type": "code",
      "metadata": {
        "id": "Q4XgG_GtBgd1",
        "colab_type": "code",
        "colab": {}
      },
      "source": [
        "model = linear_model.LinearRegression()"
      ],
      "execution_count": 0,
      "outputs": []
    },
    {
      "cell_type": "code",
      "metadata": {
        "id": "pfxB-Z51BilZ",
        "colab_type": "code",
        "outputId": "4d964520-4d0c-4aa0-dbed-c372085e8984",
        "colab": {
          "base_uri": "https://localhost:8080/",
          "height": 32
        }
      },
      "source": [
        "model.fit(X.values, y.values)"
      ],
      "execution_count": 80,
      "outputs": [
        {
          "output_type": "execute_result",
          "data": {
            "text/plain": [
              "LinearRegression(copy_X=True, fit_intercept=True, n_jobs=None, normalize=False)"
            ]
          },
          "metadata": {
            "tags": []
          },
          "execution_count": 80
        }
      ]
    },
    {
      "cell_type": "code",
      "metadata": {
        "id": "EwC6F_JkBj0X",
        "colab_type": "code",
        "colab": {}
      },
      "source": [
        "predict = model.predict(X.values)"
      ],
      "execution_count": 0,
      "outputs": []
    },
    {
      "cell_type": "code",
      "metadata": {
        "id": "e3eMfdGHBove",
        "colab_type": "code",
        "outputId": "ac3b3b5c-81c3-43d9-b036-bdc9c227dc3c",
        "colab": {
          "base_uri": "https://localhost:8080/",
          "height": 508
        }
      },
      "source": [
        "!pip install seaborn\n",
        "import seaborn as sns\n",
        "\n",
        "sns.residplot(predict, y.values)"
      ],
      "execution_count": 82,
      "outputs": [
        {
          "output_type": "stream",
          "text": [
            "Requirement already satisfied: seaborn in /usr/local/lib/python3.6/dist-packages (0.10.0)\n",
            "Requirement already satisfied: matplotlib>=2.1.2 in /usr/local/lib/python3.6/dist-packages (from seaborn) (3.2.1)\n",
            "Requirement already satisfied: pandas>=0.22.0 in /usr/local/lib/python3.6/dist-packages (from seaborn) (1.0.3)\n",
            "Requirement already satisfied: scipy>=1.0.1 in /usr/local/lib/python3.6/dist-packages (from seaborn) (1.4.1)\n",
            "Requirement already satisfied: numpy>=1.13.3 in /usr/local/lib/python3.6/dist-packages (from seaborn) (1.18.3)\n",
            "Requirement already satisfied: kiwisolver>=1.0.1 in /usr/local/lib/python3.6/dist-packages (from matplotlib>=2.1.2->seaborn) (1.2.0)\n",
            "Requirement already satisfied: cycler>=0.10 in /usr/local/lib/python3.6/dist-packages (from matplotlib>=2.1.2->seaborn) (0.10.0)\n",
            "Requirement already satisfied: pyparsing!=2.0.4,!=2.1.2,!=2.1.6,>=2.0.1 in /usr/local/lib/python3.6/dist-packages (from matplotlib>=2.1.2->seaborn) (2.4.7)\n",
            "Requirement already satisfied: python-dateutil>=2.1 in /usr/local/lib/python3.6/dist-packages (from matplotlib>=2.1.2->seaborn) (2.8.1)\n",
            "Requirement already satisfied: pytz>=2017.2 in /usr/local/lib/python3.6/dist-packages (from pandas>=0.22.0->seaborn) (2018.9)\n",
            "Requirement already satisfied: six in /usr/local/lib/python3.6/dist-packages (from cycler>=0.10->matplotlib>=2.1.2->seaborn) (1.12.0)\n"
          ],
          "name": "stdout"
        },
        {
          "output_type": "execute_result",
          "data": {
            "text/plain": [
              "<matplotlib.axes._subplots.AxesSubplot at 0x7f8b106168d0>"
            ]
          },
          "metadata": {
            "tags": []
          },
          "execution_count": 82
        },
        {
          "output_type": "display_data",
          "data": {
            "image/png": "[encoded data removed]",
            "text/plain": [
              "<Figure size 432x288 with 1 Axes>"
            ]
          },
          "metadata": {
            "tags": []
          }
        }
      ]
    },
    {
      "cell_type": "markdown",
      "metadata": {
        "id": "9mjpLbCsB-Ag",
        "colab_type": "text"
      },
      "source": [
        "the Residual Plot shows that this model is not a good fit for the problem."
      ]
    },
    {
      "cell_type": "code",
      "metadata": {
        "id": "04YlkQaHBqyR",
        "colab_type": "code",
        "colab": {}
      },
      "source": [
        "a = (y.values - predict)"
      ],
      "execution_count": 0,
      "outputs": []
    },
    {
      "cell_type": "code",
      "metadata": {
        "id": "N-YR4a8PCArv",
        "colab_type": "code",
        "outputId": "f547f951-b615-4d9c-e8f2-587f080eb4a9",
        "colab": {
          "base_uri": "https://localhost:8080/",
          "height": 295
        }
      },
      "source": [
        "fig, ax = plt.subplots()\n",
        "ax.scatter(data_regr.Rooms.values, a)\n",
        "ax.set_xlabel('Rooms')\n",
        "ax.set_ylabel('Residual')\n",
        "plt.show()"
      ],
      "execution_count": 84,
      "outputs": [
        {
          "output_type": "display_data",
          "data": {
            "image/png": "[encoded data removed]",
            "text/plain": [
              "<Figure size 432x288 with 1 Axes>"
            ]
          },
          "metadata": {
            "tags": []
          }
        }
      ]
    },
    {
      "cell_type": "code",
      "metadata": {
        "id": "j3EjBprmCC4K",
        "colab_type": "code",
        "outputId": "807e48bf-d650-41cb-8aea-0bf4de8207a8",
        "colab": {
          "base_uri": "https://localhost:8080/",
          "height": 295
        }
      },
      "source": [
        "fig, ax = plt.subplots()\n",
        "ax.scatter(data_regr.Distance.values, a)\n",
        "ax.set_xlabel('Distance')\n",
        "ax.set_ylabel('Residual')\n",
        "plt.show()"
      ],
      "execution_count": 85,
      "outputs": [
        {
          "output_type": "display_data",
          "data": {
            "image/png": "[encoded data removed]",
            "text/plain": [
              "<Figure size 432x288 with 1 Axes>"
            ]
          },
          "metadata": {
            "tags": []
          }
        }
      ]
    },
    {
      "cell_type": "code",
      "metadata": {
        "id": "vERCJrs6CF6V",
        "colab_type": "code",
        "outputId": "512d915f-8abe-4566-ccd7-120c9173a532",
        "colab": {
          "base_uri": "https://localhost:8080/",
          "height": 295
        }
      },
      "source": [
        "fig, ax = plt.subplots()\n",
        "ax.scatter(data_regr.Bathroom.values, a)\n",
        "ax.set_xlabel('Bathroom')\n",
        "ax.set_ylabel('Residual')\n",
        "plt.show()"
      ],
      "execution_count": 86,
      "outputs": [
        {
          "output_type": "display_data",
          "data": {
            "image/png": "[encoded data removed]",
            "text/plain": [
              "<Figure size 432x288 with 1 Axes>"
            ]
          },
          "metadata": {
            "tags": []
          }
        }
      ]
    },
    {
      "cell_type": "code",
      "metadata": {
        "id": "mLyjuc1bCIEp",
        "colab_type": "code",
        "outputId": "6488c456-924a-475a-d0fc-fe3abc926fa3",
        "colab": {
          "base_uri": "https://localhost:8080/",
          "height": 295
        }
      },
      "source": [
        "fig, ax = plt.subplots()\n",
        "ax.scatter(data_regr.Car.values, a)\n",
        "ax.set_xlabel('Car')\n",
        "ax.set_ylabel('Residual')\n",
        "plt.show()"
      ],
      "execution_count": 87,
      "outputs": [
        {
          "output_type": "display_data",
          "data": {
            "image/png": "[encoded data removed]",
            "text/plain": [
              "<Figure size 432x288 with 1 Axes>"
            ]
          },
          "metadata": {
            "tags": []
          }
        }
      ]
    },
    {
      "cell_type": "code",
      "metadata": {
        "id": "haaPo6j4CM0f",
        "colab_type": "code",
        "outputId": "7a935a25-3de0-4145-f9e3-5988f535864c",
        "colab": {
          "base_uri": "https://localhost:8080/",
          "height": 295
        }
      },
      "source": [
        "fig, ax = plt.subplots()\n",
        "ax.scatter(data_regr.Landsize.values, a)\n",
        "ax.set_xlabel('Landsize')\n",
        "ax.set_ylabel('Residual')\n",
        "plt.show()"
      ],
      "execution_count": 88,
      "outputs": [
        {
          "output_type": "display_data",
          "data": {
            "image/png": "[encoded data removed]",
            "text/plain": [
              "<Figure size 432x288 with 1 Axes>"
            ]
          },
          "metadata": {
            "tags": []
          }
        }
      ]
    },
    {
      "cell_type": "code",
      "metadata": {
        "id": "sOv64HJBCT45",
        "colab_type": "code",
        "outputId": "69a5b9b3-8b18-4177-8958-4318cd7c8f0e",
        "colab": {
          "base_uri": "https://localhost:8080/",
          "height": 295
        }
      },
      "source": [
        "fig, ax = plt.subplots()\n",
        "ax.scatter(data_regr.BuildingArea.values, a)\n",
        "ax.set_xlabel('BuildingArea')\n",
        "ax.set_ylabel('Residual')\n",
        "plt.show()"
      ],
      "execution_count": 89,
      "outputs": [
        {
          "output_type": "display_data",
          "data": {
            "image/png": "[encoded data removed]",
            "text/plain": [
              "<Figure size 432x288 with 1 Axes>"
            ]
          },
          "metadata": {
            "tags": []
          }
        }
      ]
    },
    {
      "cell_type": "code",
      "metadata": {
        "id": "ePzz0TlwCWVX",
        "colab_type": "code",
        "outputId": "ef905c1f-d216-43b7-9db1-4756c2407bc3",
        "colab": {
          "base_uri": "https://localhost:8080/",
          "height": 295
        }
      },
      "source": [
        "fig, ax = plt.subplots()\n",
        "ax.scatter(data_regr.Propertycount.values, a)\n",
        "ax.set_xlabel('Propertycount')\n",
        "ax.set_ylabel('Residual')\n",
        "plt.show()"
      ],
      "execution_count": 90,
      "outputs": [
        {
          "output_type": "display_data",
          "data": {
            "image/png": "[encoded data removed]",
            "text/plain": [
              "<Figure size 432x288 with 1 Axes>"
            ]
          },
          "metadata": {
            "tags": []
          }
        }
      ]
    },
    {
      "cell_type": "markdown",
      "metadata": {
        "id": "KxkjroywCevt",
        "colab_type": "text"
      },
      "source": [
        "It shows that the variables have great heteroskedasticity value, especially the BuildingArea and the Landsize. They have many outliers. I want to eliminate all of these outliers and fit the model again to see the result."
      ]
    },
    {
      "cell_type": "code",
      "metadata": {
        "id": "UWHRGRUCCb3F",
        "colab_type": "code",
        "colab": {}
      },
      "source": [
        "data_regr = data_regr[data_regr.BuildingArea < 3000]"
      ],
      "execution_count": 0,
      "outputs": []
    },
    {
      "cell_type": "code",
      "metadata": {
        "id": "lEENqU-yCo3X",
        "colab_type": "code",
        "colab": {}
      },
      "source": [
        "data_regr = data_regr.reset_index()"
      ],
      "execution_count": 0,
      "outputs": []
    },
    {
      "cell_type": "code",
      "metadata": {
        "id": "-SavHHv9CtXM",
        "colab_type": "code",
        "colab": {}
      },
      "source": [
        "data_regr.drop(columns='index', inplace=True)"
      ],
      "execution_count": 0,
      "outputs": []
    },
    {
      "cell_type": "code",
      "metadata": {
        "id": "aBzeZUGJCt2W",
        "colab_type": "code",
        "outputId": "4fd578f9-8bf3-4e27-a3b6-4bb28486cff3",
        "colab": {
          "base_uri": "https://localhost:8080/",
          "height": 991
        }
      },
      "source": [
        "data_regr.describe().T"
      ],
      "execution_count": 94,
      "outputs": [
        {
          "output_type": "execute_result",
          "data": {
            "text/html": [
              "<div>\n",
              "<style scoped>\n",
              "    .dataframe tbody tr th:only-of-type {\n",
              "        vertical-align: middle;\n",
              "    }\n",
              "\n",
              "    .dataframe tbody tr th {\n",
              "        vertical-align: top;\n",
              "    }\n",
              "\n",
              "    .dataframe thead th {\n",
              "        text-align: right;\n",
              "    }\n",
              "</style>\n",
              "<table border=\"1\" class=\"dataframe\">\n",
              "  <thead>\n",
              "    <tr style=\"text-align: right;\">\n",
              "      <th></th>\n",
              "      <th>count</th>\n",
              "      <th>mean</th>\n",
              "      <th>std</th>\n",
              "      <th>min</th>\n",
              "      <th>25%</th>\n",
              "      <th>50%</th>\n",
              "      <th>75%</th>\n",
              "      <th>max</th>\n",
              "    </tr>\n",
              "  </thead>\n",
              "  <tbody>\n",
              "    <tr>\n",
              "      <th>Rooms</th>\n",
              "      <td>34851.0</td>\n",
              "      <td>3.030874e+00</td>\n",
              "      <td>0.969858</td>\n",
              "      <td>1.0</td>\n",
              "      <td>2.0</td>\n",
              "      <td>3.0</td>\n",
              "      <td>4.0</td>\n",
              "      <td>16.0</td>\n",
              "    </tr>\n",
              "    <tr>\n",
              "      <th>Price</th>\n",
              "      <td>34851.0</td>\n",
              "      <td>1.010790e+06</td>\n",
              "      <td>571980.710175</td>\n",
              "      <td>85000.0</td>\n",
              "      <td>695000.0</td>\n",
              "      <td>870000.0</td>\n",
              "      <td>1150000.0</td>\n",
              "      <td>11200000.0</td>\n",
              "    </tr>\n",
              "    <tr>\n",
              "      <th>Distance</th>\n",
              "      <td>34851.0</td>\n",
              "      <td>1.118420e+01</td>\n",
              "      <td>6.787633</td>\n",
              "      <td>0.0</td>\n",
              "      <td>6.4</td>\n",
              "      <td>10.3</td>\n",
              "      <td>14.0</td>\n",
              "      <td>48.1</td>\n",
              "    </tr>\n",
              "    <tr>\n",
              "      <th>Bathroom</th>\n",
              "      <td>34851.0</td>\n",
              "      <td>1.477146e+00</td>\n",
              "      <td>0.686048</td>\n",
              "      <td>0.0</td>\n",
              "      <td>1.0</td>\n",
              "      <td>1.0</td>\n",
              "      <td>2.0</td>\n",
              "      <td>12.0</td>\n",
              "    </tr>\n",
              "    <tr>\n",
              "      <th>Car</th>\n",
              "      <td>34851.0</td>\n",
              "      <td>1.796620e+00</td>\n",
              "      <td>0.882745</td>\n",
              "      <td>0.0</td>\n",
              "      <td>1.0</td>\n",
              "      <td>2.0</td>\n",
              "      <td>2.0</td>\n",
              "      <td>26.0</td>\n",
              "    </tr>\n",
              "    <tr>\n",
              "      <th>Landsize</th>\n",
              "      <td>34851.0</td>\n",
              "      <td>5.688360e+02</td>\n",
              "      <td>2764.071727</td>\n",
              "      <td>0.0</td>\n",
              "      <td>357.0</td>\n",
              "      <td>521.0</td>\n",
              "      <td>598.0</td>\n",
              "      <td>433014.0</td>\n",
              "    </tr>\n",
              "    <tr>\n",
              "      <th>BuildingArea</th>\n",
              "      <td>34851.0</td>\n",
              "      <td>1.435219e+02</td>\n",
              "      <td>57.495397</td>\n",
              "      <td>0.0</td>\n",
              "      <td>136.0</td>\n",
              "      <td>136.0</td>\n",
              "      <td>136.0</td>\n",
              "      <td>2002.0</td>\n",
              "    </tr>\n",
              "    <tr>\n",
              "      <th>Propertycount</th>\n",
              "      <td>34851.0</td>\n",
              "      <td>7.574116e+03</td>\n",
              "      <td>4429.881276</td>\n",
              "      <td>83.0</td>\n",
              "      <td>4385.0</td>\n",
              "      <td>6763.0</td>\n",
              "      <td>10412.0</td>\n",
              "      <td>21650.0</td>\n",
              "    </tr>\n",
              "    <tr>\n",
              "      <th>t</th>\n",
              "      <td>34851.0</td>\n",
              "      <td>1.026656e-01</td>\n",
              "      <td>0.303526</td>\n",
              "      <td>0.0</td>\n",
              "      <td>0.0</td>\n",
              "      <td>0.0</td>\n",
              "      <td>0.0</td>\n",
              "      <td>1.0</td>\n",
              "    </tr>\n",
              "    <tr>\n",
              "      <th>u</th>\n",
              "      <td>34851.0</td>\n",
              "      <td>2.093771e-01</td>\n",
              "      <td>0.406870</td>\n",
              "      <td>0.0</td>\n",
              "      <td>0.0</td>\n",
              "      <td>0.0</td>\n",
              "      <td>0.0</td>\n",
              "      <td>1.0</td>\n",
              "    </tr>\n",
              "    <tr>\n",
              "      <th>PN</th>\n",
              "      <td>34851.0</td>\n",
              "      <td>8.837623e-03</td>\n",
              "      <td>0.093594</td>\n",
              "      <td>0.0</td>\n",
              "      <td>0.0</td>\n",
              "      <td>0.0</td>\n",
              "      <td>0.0</td>\n",
              "      <td>1.0</td>\n",
              "    </tr>\n",
              "    <tr>\n",
              "      <th>S</th>\n",
              "      <td>34851.0</td>\n",
              "      <td>5.664400e-01</td>\n",
              "      <td>0.495573</td>\n",
              "      <td>0.0</td>\n",
              "      <td>0.0</td>\n",
              "      <td>1.0</td>\n",
              "      <td>1.0</td>\n",
              "      <td>1.0</td>\n",
              "    </tr>\n",
              "    <tr>\n",
              "      <th>SA</th>\n",
              "      <td>34851.0</td>\n",
              "      <td>6.484749e-03</td>\n",
              "      <td>0.080268</td>\n",
              "      <td>0.0</td>\n",
              "      <td>0.0</td>\n",
              "      <td>0.0</td>\n",
              "      <td>0.0</td>\n",
              "      <td>1.0</td>\n",
              "    </tr>\n",
              "    <tr>\n",
              "      <th>SN</th>\n",
              "      <td>34851.0</td>\n",
              "      <td>3.778945e-02</td>\n",
              "      <td>0.190689</td>\n",
              "      <td>0.0</td>\n",
              "      <td>0.0</td>\n",
              "      <td>0.0</td>\n",
              "      <td>0.0</td>\n",
              "      <td>1.0</td>\n",
              "    </tr>\n",
              "    <tr>\n",
              "      <th>SP</th>\n",
              "      <td>34851.0</td>\n",
              "      <td>1.461651e-01</td>\n",
              "      <td>0.353277</td>\n",
              "      <td>0.0</td>\n",
              "      <td>0.0</td>\n",
              "      <td>0.0</td>\n",
              "      <td>0.0</td>\n",
              "      <td>1.0</td>\n",
              "    </tr>\n",
              "    <tr>\n",
              "      <th>SS</th>\n",
              "      <td>34851.0</td>\n",
              "      <td>1.032969e-03</td>\n",
              "      <td>0.032124</td>\n",
              "      <td>0.0</td>\n",
              "      <td>0.0</td>\n",
              "      <td>0.0</td>\n",
              "      <td>0.0</td>\n",
              "      <td>1.0</td>\n",
              "    </tr>\n",
              "    <tr>\n",
              "      <th>VB</th>\n",
              "      <td>34851.0</td>\n",
              "      <td>8.917965e-02</td>\n",
              "      <td>0.285007</td>\n",
              "      <td>0.0</td>\n",
              "      <td>0.0</td>\n",
              "      <td>0.0</td>\n",
              "      <td>0.0</td>\n",
              "      <td>1.0</td>\n",
              "    </tr>\n",
              "    <tr>\n",
              "      <th>W</th>\n",
              "      <td>34851.0</td>\n",
              "      <td>4.963990e-03</td>\n",
              "      <td>0.070282</td>\n",
              "      <td>0.0</td>\n",
              "      <td>0.0</td>\n",
              "      <td>0.0</td>\n",
              "      <td>0.0</td>\n",
              "      <td>1.0</td>\n",
              "    </tr>\n",
              "    <tr>\n",
              "      <th>200 - 500</th>\n",
              "      <td>34851.0</td>\n",
              "      <td>1.633813e-01</td>\n",
              "      <td>0.369718</td>\n",
              "      <td>0.0</td>\n",
              "      <td>0.0</td>\n",
              "      <td>0.0</td>\n",
              "      <td>0.0</td>\n",
              "      <td>1.0</td>\n",
              "    </tr>\n",
              "    <tr>\n",
              "      <th>500 - 1000</th>\n",
              "      <td>34851.0</td>\n",
              "      <td>1.530229e-01</td>\n",
              "      <td>0.360015</td>\n",
              "      <td>0.0</td>\n",
              "      <td>0.0</td>\n",
              "      <td>0.0</td>\n",
              "      <td>0.0</td>\n",
              "      <td>1.0</td>\n",
              "    </tr>\n",
              "    <tr>\n",
              "      <th>less than 100</th>\n",
              "      <td>34851.0</td>\n",
              "      <td>1.025796e-01</td>\n",
              "      <td>0.303413</td>\n",
              "      <td>0.0</td>\n",
              "      <td>0.0</td>\n",
              "      <td>0.0</td>\n",
              "      <td>0.0</td>\n",
              "      <td>1.0</td>\n",
              "    </tr>\n",
              "    <tr>\n",
              "      <th>over 1000</th>\n",
              "      <td>34851.0</td>\n",
              "      <td>5.248917e-01</td>\n",
              "      <td>0.499387</td>\n",
              "      <td>0.0</td>\n",
              "      <td>0.0</td>\n",
              "      <td>1.0</td>\n",
              "      <td>1.0</td>\n",
              "      <td>1.0</td>\n",
              "    </tr>\n",
              "    <tr>\n",
              "      <th>Eastern Victoria</th>\n",
              "      <td>34851.0</td>\n",
              "      <td>6.542137e-03</td>\n",
              "      <td>0.080620</td>\n",
              "      <td>0.0</td>\n",
              "      <td>0.0</td>\n",
              "      <td>0.0</td>\n",
              "      <td>0.0</td>\n",
              "      <td>1.0</td>\n",
              "    </tr>\n",
              "    <tr>\n",
              "      <th>Northern Metropolitan</th>\n",
              "      <td>34851.0</td>\n",
              "      <td>2.741959e-01</td>\n",
              "      <td>0.446115</td>\n",
              "      <td>0.0</td>\n",
              "      <td>0.0</td>\n",
              "      <td>0.0</td>\n",
              "      <td>1.0</td>\n",
              "      <td>1.0</td>\n",
              "    </tr>\n",
              "    <tr>\n",
              "      <th>Northern Victoria</th>\n",
              "      <td>34851.0</td>\n",
              "      <td>5.824797e-03</td>\n",
              "      <td>0.076099</td>\n",
              "      <td>0.0</td>\n",
              "      <td>0.0</td>\n",
              "      <td>0.0</td>\n",
              "      <td>0.0</td>\n",
              "      <td>1.0</td>\n",
              "    </tr>\n",
              "    <tr>\n",
              "      <th>South-Eastern Metropolitan</th>\n",
              "      <td>34851.0</td>\n",
              "      <td>4.986944e-02</td>\n",
              "      <td>0.217678</td>\n",
              "      <td>0.0</td>\n",
              "      <td>0.0</td>\n",
              "      <td>0.0</td>\n",
              "      <td>0.0</td>\n",
              "      <td>1.0</td>\n",
              "    </tr>\n",
              "    <tr>\n",
              "      <th>Southern Metropolitan</th>\n",
              "      <td>34851.0</td>\n",
              "      <td>3.396459e-01</td>\n",
              "      <td>0.473596</td>\n",
              "      <td>0.0</td>\n",
              "      <td>0.0</td>\n",
              "      <td>0.0</td>\n",
              "      <td>1.0</td>\n",
              "      <td>1.0</td>\n",
              "    </tr>\n",
              "    <tr>\n",
              "      <th>Western Metropolitan</th>\n",
              "      <td>34851.0</td>\n",
              "      <td>1.950877e-01</td>\n",
              "      <td>0.396274</td>\n",
              "      <td>0.0</td>\n",
              "      <td>0.0</td>\n",
              "      <td>0.0</td>\n",
              "      <td>0.0</td>\n",
              "      <td>1.0</td>\n",
              "    </tr>\n",
              "    <tr>\n",
              "      <th>Western Victoria</th>\n",
              "      <td>34851.0</td>\n",
              "      <td>3.299762e-03</td>\n",
              "      <td>0.057350</td>\n",
              "      <td>0.0</td>\n",
              "      <td>0.0</td>\n",
              "      <td>0.0</td>\n",
              "      <td>0.0</td>\n",
              "      <td>1.0</td>\n",
              "    </tr>\n",
              "    <tr>\n",
              "      <th>2017</th>\n",
              "      <td>34851.0</td>\n",
              "      <td>5.695389e-01</td>\n",
              "      <td>0.495148</td>\n",
              "      <td>0.0</td>\n",
              "      <td>0.0</td>\n",
              "      <td>1.0</td>\n",
              "      <td>1.0</td>\n",
              "      <td>1.0</td>\n",
              "    </tr>\n",
              "    <tr>\n",
              "      <th>2018</th>\n",
              "      <td>34851.0</td>\n",
              "      <td>1.352042e-01</td>\n",
              "      <td>0.341946</td>\n",
              "      <td>0.0</td>\n",
              "      <td>0.0</td>\n",
              "      <td>0.0</td>\n",
              "      <td>0.0</td>\n",
              "      <td>1.0</td>\n",
              "    </tr>\n",
              "  </tbody>\n",
              "</table>\n",
              "</div>"
            ],
            "text/plain": [
              "                              count          mean  ...        75%         max\n",
              "Rooms                       34851.0  3.030874e+00  ...        4.0        16.0\n",
              "Price                       34851.0  1.010790e+06  ...  1150000.0  11200000.0\n",
              "Distance                    34851.0  1.118420e+01  ...       14.0        48.1\n",
              "Bathroom                    34851.0  1.477146e+00  ...        2.0        12.0\n",
              "Car                         34851.0  1.796620e+00  ...        2.0        26.0\n",
              "Landsize                    34851.0  5.688360e+02  ...      598.0    433014.0\n",
              "BuildingArea                34851.0  1.435219e+02  ...      136.0      2002.0\n",
              "Propertycount               34851.0  7.574116e+03  ...    10412.0     21650.0\n",
              "t                           34851.0  1.026656e-01  ...        0.0         1.0\n",
              "u                           34851.0  2.093771e-01  ...        0.0         1.0\n",
              "PN                          34851.0  8.837623e-03  ...        0.0         1.0\n",
              "S                           34851.0  5.664400e-01  ...        1.0         1.0\n",
              "SA                          34851.0  6.484749e-03  ...        0.0         1.0\n",
              "SN                          34851.0  3.778945e-02  ...        0.0         1.0\n",
              "SP                          34851.0  1.461651e-01  ...        0.0         1.0\n",
              "SS                          34851.0  1.032969e-03  ...        0.0         1.0\n",
              "VB                          34851.0  8.917965e-02  ...        0.0         1.0\n",
              "W                           34851.0  4.963990e-03  ...        0.0         1.0\n",
              "200 - 500                   34851.0  1.633813e-01  ...        0.0         1.0\n",
              "500 - 1000                  34851.0  1.530229e-01  ...        0.0         1.0\n",
              "less than 100               34851.0  1.025796e-01  ...        0.0         1.0\n",
              "over 1000                   34851.0  5.248917e-01  ...        1.0         1.0\n",
              "Eastern Victoria            34851.0  6.542137e-03  ...        0.0         1.0\n",
              "Northern Metropolitan       34851.0  2.741959e-01  ...        1.0         1.0\n",
              "Northern Victoria           34851.0  5.824797e-03  ...        0.0         1.0\n",
              "South-Eastern Metropolitan  34851.0  4.986944e-02  ...        0.0         1.0\n",
              "Southern Metropolitan       34851.0  3.396459e-01  ...        1.0         1.0\n",
              "Western Metropolitan        34851.0  1.950877e-01  ...        0.0         1.0\n",
              "Western Victoria            34851.0  3.299762e-03  ...        0.0         1.0\n",
              "2017                        34851.0  5.695389e-01  ...        1.0         1.0\n",
              "2018                        34851.0  1.352042e-01  ...        0.0         1.0\n",
              "\n",
              "[31 rows x 8 columns]"
            ]
          },
          "metadata": {
            "tags": []
          },
          "execution_count": 94
        }
      ]
    },
    {
      "cell_type": "code",
      "metadata": {
        "id": "6P9fIlQeCvGe",
        "colab_type": "code",
        "colab": {}
      },
      "source": [
        "data_regr = data_regr[data_regr.Landsize < 3000]\n",
        "data_regr = data_regr.reset_index()\n",
        "data_regr.drop(columns='index', inplace=True)"
      ],
      "execution_count": 0,
      "outputs": []
    },
    {
      "cell_type": "code",
      "metadata": {
        "id": "CHX4ffWVC1eS",
        "colab_type": "code",
        "outputId": "9562c9b2-0d17-4975-8369-d3f03fe2ddcd",
        "colab": {
          "base_uri": "https://localhost:8080/",
          "height": 32
        }
      },
      "source": [
        "X = data_regr.loc[:, data_regr.columns != 'Price']\n",
        "y = data_regr.Price\n",
        "model = linear_model.LinearRegression()\n",
        "model.fit(X.values, y.values)\n",
        "predict = model.predict(X.values)\n",
        "mean_squared_error(y.values, predict)"
      ],
      "execution_count": 96,
      "outputs": [
        {
          "output_type": "execute_result",
          "data": {
            "text/plain": [
              "196331390570.44806"
            ]
          },
          "metadata": {
            "tags": []
          },
          "execution_count": 96
        }
      ]
    },
    {
      "cell_type": "code",
      "metadata": {
        "id": "T9fDd8giC4xa",
        "colab_type": "code",
        "outputId": "22aeb91d-0e3a-4b6f-9e3d-749dbf66e0af",
        "colab": {
          "base_uri": "https://localhost:8080/",
          "height": 295
        }
      },
      "source": [
        "fig, ax = plt.subplots()\n",
        "ax.scatter(y, predict)\n",
        "ax.plot([y.min(), y.max()], [y.min(), y.max()], 'k--', lw=4)\n",
        "ax.set_xlabel('Measured')\n",
        "ax.set_ylabel('Predicted')\n",
        "plt.show()"
      ],
      "execution_count": 97,
      "outputs": [
        {
          "output_type": "display_data",
          "data": {
            "image/png": "[encoded data removed]",
            "text/plain": [
              "<Figure size 432x288 with 1 Axes>"
            ]
          },
          "metadata": {
            "tags": []
          }
        }
      ]
    },
    {
      "cell_type": "markdown",
      "metadata": {
        "id": "2_VM0KJoDBq9",
        "colab_type": "text"
      },
      "source": [
        "The model still does not perform really good. We might need a non-linear model for this problem."
      ]
    }
  ]
}
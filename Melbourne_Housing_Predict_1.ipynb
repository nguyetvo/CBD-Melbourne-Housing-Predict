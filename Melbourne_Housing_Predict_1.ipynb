{
  "nbformat": 4,
  "nbformat_minor": 0,
  "metadata": {
    "colab": {
      "name": "Melbourne Housing Predict 1.ipynb",
      "provenance": [],
      "collapsed_sections": [],
      "authorship_tag": "ABX9TyPo90kdZlCZn+h6ZeY9MDGQ",
      "include_colab_link": true
    },
    "kernelspec": {
      "name": "python3",
      "display_name": "Python 3"
    }
  },
  "cells": [
    {
      "cell_type": "markdown",
      "metadata": {
        "id": "view-in-github",
        "colab_type": "text"
      },
      "source": [
        "<a href=\"https://colab.research.google.com/github/nguyetvo/CBD-Melbourne-Housing-Predict/blob/master/Melbourne_Housing_Predict_1.ipynb\" target=\"_parent\"><img src=\"https://colab.research.google.com/assets/colab-badge.svg\" alt=\"Open In Colab\"/></a>"
      ]
    },
    {
      "cell_type": "code",
      "metadata": {
        "id": "TwLbrGym219P",
        "colab_type": "code",
        "colab": {}
      },
      "source": [
        "import pandas as pd\n",
        "import numpy as np\n",
        "from pandas import read_csv, DataFrame"
      ],
      "execution_count": 0,
      "outputs": []
    },
    {
      "cell_type": "code",
      "metadata": {
        "id": "psXE3dp728j2",
        "colab_type": "code",
        "outputId": "70466be3-8f7b-47ea-c78b-a8f278a1ba90",
        "colab": {
          "base_uri": "https://localhost:8080/",
          "height": 118
        }
      },
      "source": [
        "from google.colab import drive\n",
        "drive.mount('/content/drive')"
      ],
      "execution_count": 0,
      "outputs": [
        {
          "output_type": "stream",
          "text": [
            "Go to this URL in a browser: https://accounts.google.com/o/oauth2/auth?client_id=947318989803-6bn6qk8qdgf4n4g3pfee6491hc0brc4i.apps.googleusercontent.com&redirect_uri=urn%3aietf%3awg%3aoauth%3a2.0%3aoob&response_type=code&scope=email%20https%3a%2f%2fwww.googleapis.com%2fauth%2fdocs.test%20https%3a%2f%2fwww.googleapis.com%2fauth%2fdrive%20https%3a%2f%2fwww.googleapis.com%2fauth%2fdrive.photos.readonly%20https%3a%2f%2fwww.googleapis.com%2fauth%2fpeopleapi.readonly\n",
            "\n",
            "Enter your authorization code:\n",
            "··········\n",
            "Mounted at /content/drive\n"
          ],
          "name": "stdout"
        }
      ]
    },
    {
      "cell_type": "code",
      "metadata": {
        "id": "09d0CJfN2-NL",
        "colab_type": "code",
        "colab": {}
      },
      "source": [
        "data =  pd.read_csv('/content/drive/My Drive/Melbourne Housing Predict/Melbourne_housing_FULL.csv')"
      ],
      "execution_count": 0,
      "outputs": []
    },
    {
      "cell_type": "code",
      "metadata": {
        "id": "2cxsvLiM3GtQ",
        "colab_type": "code",
        "outputId": "a4d70ade-a7d9-4fe2-9983-f7bc11b0b8ee",
        "colab": {
          "base_uri": "https://localhost:8080/",
          "height": 477
        }
      },
      "source": [
        "data.info()"
      ],
      "execution_count": 0,
      "outputs": [
        {
          "output_type": "stream",
          "text": [
            "<class 'pandas.core.frame.DataFrame'>\n",
            "RangeIndex: 34857 entries, 0 to 34856\n",
            "Data columns (total 21 columns):\n",
            " #   Column         Non-Null Count  Dtype  \n",
            "---  ------         --------------  -----  \n",
            " 0   Suburb         34857 non-null  object \n",
            " 1   Address        34857 non-null  object \n",
            " 2   Rooms          34857 non-null  int64  \n",
            " 3   Type           34857 non-null  object \n",
            " 4   Price          27247 non-null  float64\n",
            " 5   Method         34857 non-null  object \n",
            " 6   SellerG        34857 non-null  object \n",
            " 7   Date           34857 non-null  object \n",
            " 8   Distance       34856 non-null  float64\n",
            " 9   Postcode       34856 non-null  float64\n",
            " 10  Bedroom2       26640 non-null  float64\n",
            " 11  Bathroom       26631 non-null  float64\n",
            " 12  Car            26129 non-null  float64\n",
            " 13  Landsize       23047 non-null  float64\n",
            " 14  BuildingArea   13742 non-null  float64\n",
            " 15  YearBuilt      15551 non-null  float64\n",
            " 16  CouncilArea    34854 non-null  object \n",
            " 17  Lattitude      26881 non-null  float64\n",
            " 18  Longtitude     26881 non-null  float64\n",
            " 19  Regionname     34854 non-null  object \n",
            " 20  Propertycount  34854 non-null  float64\n",
            "dtypes: float64(12), int64(1), object(8)\n",
            "memory usage: 5.6+ MB\n"
          ],
          "name": "stdout"
        }
      ]
    },
    {
      "cell_type": "code",
      "metadata": {
        "id": "zdh0EolK3kT7",
        "colab_type": "code",
        "colab": {}
      },
      "source": [
        "#change Postcode\n",
        "data['Postcode']= data['Postcode'].astype('object')\n",
        "#change Bathroom and car to integer. Before the transformation I need to convert all the missing values to 0. \n",
        "#lastly, change Propertycount to category\n",
        "data['Propertycount']= data['Propertycount'].astype('object')"
      ],
      "execution_count": 0,
      "outputs": []
    },
    {
      "cell_type": "code",
      "metadata": {
        "id": "B9ayYPqn3OY8",
        "colab_type": "code",
        "colab": {}
      },
      "source": [
        "#replace outlier building area\n",
        "data['BuildingArea'].replace(44515.0, 445, inplace=True)"
      ],
      "execution_count": 0,
      "outputs": []
    },
    {
      "cell_type": "code",
      "metadata": {
        "id": "nET_1RNb4GIW",
        "colab_type": "code",
        "outputId": "1683942d-212c-4323-a699-6ea2b6c82d8c",
        "colab": {
          "base_uri": "https://localhost:8080/",
          "height": 65
        }
      },
      "source": [
        "# check YearBuilt > 2018\n",
        "print(data['YearBuilt'].loc[data.YearBuilt>2018])\n",
        "#replace 2106 with 2016 and 2019 with 2018\n",
        "data['YearBuilt'].replace([2106, 2019], [2016, 2018], inplace=True)"
      ],
      "execution_count": 0,
      "outputs": [
        {
          "output_type": "stream",
          "text": [
            "2453     2106.0\n",
            "33033    2019.0\n",
            "Name: YearBuilt, dtype: float64\n"
          ],
          "name": "stdout"
        }
      ]
    },
    {
      "cell_type": "code",
      "metadata": {
        "id": "jNIf2Wq54N5b",
        "colab_type": "code",
        "colab": {}
      },
      "source": [
        "# We will save the \"cured\" data columns in variables\n",
        "#first with the mean\n",
        "priceWithMean = data['Price'].fillna(data['Price'].mean())\n",
        "BAWithMean = data['BuildingArea'].fillna(data['BuildingArea'].mean())\n",
        "\n",
        "#now with the median\n",
        "priceMedian = data['Price'].fillna(data['Price'].median())\n",
        "BAMedian = data['BuildingArea'].fillna(data['BuildingArea'].median())"
      ],
      "execution_count": 0,
      "outputs": []
    },
    {
      "cell_type": "code",
      "metadata": {
        "id": "cgQsa3d94eKP",
        "colab_type": "code",
        "outputId": "14f61f7c-869c-4bee-9bca-34566c8220e4",
        "colab": {
          "base_uri": "https://localhost:8080/",
          "height": 378
        }
      },
      "source": [
        "data['Price']= data['Price'].fillna(data['Price'].median())\n",
        "data['Landsize']= data['Landsize'].fillna(data['Landsize'].median())\n",
        "#Similarly, fill the only missing value of  all the other numeric values\n",
        "data['Distance'] = data['Distance'].fillna(data['Distance'].median())\n",
        "data['BuildingArea']= data['BuildingArea'].fillna(data['BuildingArea'].median())\n",
        "data['Lattitude']= data['Lattitude'].fillna(data['Lattitude'].median())\n",
        "data['Longtitude']= data['Longtitude'].fillna(data['Longtitude'].median())\n",
        "data['YearBuilt']= data['YearBuilt'].fillna(data['YearBuilt'].median())\n",
        "data.isnull().sum()"
      ],
      "execution_count": 0,
      "outputs": [
        {
          "output_type": "execute_result",
          "data": {
            "text/plain": [
              "Suburb              0\n",
              "Address             0\n",
              "Rooms               0\n",
              "Type                0\n",
              "Price               0\n",
              "Method              0\n",
              "SellerG             0\n",
              "Date                0\n",
              "Distance            0\n",
              "Postcode            1\n",
              "Bedroom2         8217\n",
              "Bathroom         8226\n",
              "Car              8728\n",
              "Landsize            0\n",
              "BuildingArea        0\n",
              "YearBuilt           0\n",
              "CouncilArea         3\n",
              "Lattitude           0\n",
              "Longtitude          0\n",
              "Regionname          3\n",
              "Propertycount       3\n",
              "dtype: int64"
            ]
          },
          "metadata": {
            "tags": []
          },
          "execution_count": 11
        }
      ]
    },
    {
      "cell_type": "code",
      "metadata": {
        "id": "SFiiofpy5EFM",
        "colab_type": "code",
        "outputId": "9632953d-fe92-4bbb-8688-4597d60ab9a0",
        "colab": {
          "base_uri": "https://localhost:8080/",
          "height": 378
        }
      },
      "source": [
        "data['Bathroom']= data['Bathroom'].fillna(data['Bathroom'].mode()[0])\n",
        "data['Bedroom2']= data['Bedroom2'].fillna(data['Bedroom2'].mode()[0])\n",
        "data['Car']= data['Car'].fillna(data['Car'].mode()[0])\n",
        "data['CouncilArea']= data['CouncilArea'].fillna(data['CouncilArea'].mode()[0])\n",
        "data['Regionname']= data['Regionname'].fillna(data['Regionname'].mode()[0])\n",
        "data['Propertycount']= data['Propertycount'].fillna(data['Propertycount'].mode()[0])\n",
        "data['Postcode']= data['Postcode'].fillna(data['Postcode'].mode()[0])\n",
        "data.isnull().sum()"
      ],
      "execution_count": 0,
      "outputs": [
        {
          "output_type": "execute_result",
          "data": {
            "text/plain": [
              "Suburb           0\n",
              "Address          0\n",
              "Rooms            0\n",
              "Type             0\n",
              "Price            0\n",
              "Method           0\n",
              "SellerG          0\n",
              "Date             0\n",
              "Distance         0\n",
              "Postcode         0\n",
              "Bedroom2         0\n",
              "Bathroom         0\n",
              "Car              0\n",
              "Landsize         0\n",
              "BuildingArea     0\n",
              "YearBuilt        0\n",
              "CouncilArea      0\n",
              "Lattitude        0\n",
              "Longtitude       0\n",
              "Regionname       0\n",
              "Propertycount    0\n",
              "dtype: int64"
            ]
          },
          "metadata": {
            "tags": []
          },
          "execution_count": 14
        }
      ]
    },
    {
      "cell_type": "code",
      "metadata": {
        "id": "O9sgGHqb7906",
        "colab_type": "code",
        "colab": {}
      },
      "source": [
        "data.drop(columns=['Lattitude','Longtitude'], inplace=True)"
      ],
      "execution_count": 0,
      "outputs": []
    },
    {
      "cell_type": "code",
      "metadata": {
        "id": "anc52LZ98L76",
        "colab_type": "code",
        "colab": {}
      },
      "source": [
        "data.drop(columns='YearBuilt', inplace=True)"
      ],
      "execution_count": 0,
      "outputs": []
    },
    {
      "cell_type": "code",
      "metadata": {
        "id": "pLkvfdGK8uiD",
        "colab_type": "code",
        "colab": {}
      },
      "source": [
        "data = data[pd.notnull(data['BuildingArea'])]"
      ],
      "execution_count": 0,
      "outputs": []
    },
    {
      "cell_type": "code",
      "metadata": {
        "id": "rdC9Hsm15eAF",
        "colab_type": "code",
        "colab": {}
      },
      "source": [
        "import copy\n",
        "data_regr = copy.copy(data[pd.notnull(data['Price'])])"
      ],
      "execution_count": 0,
      "outputs": []
    },
    {
      "cell_type": "code",
      "metadata": {
        "id": "2bsUMeYD9Oqd",
        "colab_type": "code",
        "colab": {}
      },
      "source": [
        "data.drop(columns='Bedroom2', inplace=True)"
      ],
      "execution_count": 0,
      "outputs": []
    },
    {
      "cell_type": "code",
      "metadata": {
        "id": "wi5PMIUY9cZX",
        "colab_type": "code",
        "colab": {}
      },
      "source": [
        "data_regr.drop(columns='Bedroom2', inplace=True)"
      ],
      "execution_count": 0,
      "outputs": []
    },
    {
      "cell_type": "markdown",
      "metadata": {
        "id": "V5PD24zb9yiZ",
        "colab_type": "text"
      },
      "source": [
        "# Regression"
      ]
    },
    {
      "cell_type": "code",
      "metadata": {
        "id": "-nWkocBD9qTq",
        "colab_type": "code",
        "colab": {}
      },
      "source": [
        "from sklearn import linear_model\n",
        "from sklearn.model_selection import train_test_split, cross_val_predict\n",
        "from sklearn.metrics import mean_squared_error\n"
      ],
      "execution_count": 0,
      "outputs": []
    },
    {
      "cell_type": "code",
      "metadata": {
        "id": "ePLrcFD099Tm",
        "colab_type": "code",
        "colab": {}
      },
      "source": [
        "data_regr.drop(columns=['Suburb','Postcode'], inplace=True)"
      ],
      "execution_count": 0,
      "outputs": []
    },
    {
      "cell_type": "code",
      "metadata": {
        "id": "LzMfqyq--AgL",
        "colab_type": "code",
        "colab": {}
      },
      "source": [
        "import datetime\n",
        "def to_year(date_str):\n",
        "    return datetime.datetime.strptime(date_str.strip(),'%d/%m/%Y').year"
      ],
      "execution_count": 0,
      "outputs": []
    },
    {
      "cell_type": "code",
      "metadata": {
        "id": "Aml2Wc8r-I66",
        "colab_type": "code",
        "colab": {}
      },
      "source": [
        "data_regr['Date'] = data_regr.Date.apply(to_year)"
      ],
      "execution_count": 0,
      "outputs": []
    },
    {
      "cell_type": "code",
      "metadata": {
        "id": "veO0iOhQ-K39",
        "colab_type": "code",
        "outputId": "fea30308-9c10-49bc-baa0-82fdff4f1126",
        "colab": {
          "base_uri": "https://localhost:8080/",
          "height": 82
        }
      },
      "source": [
        "data_regr.Date.value_counts()"
      ],
      "execution_count": 0,
      "outputs": [
        {
          "output_type": "execute_result",
          "data": {
            "text/plain": [
              "2017    19852\n",
              "2016    10292\n",
              "2018     4713\n",
              "Name: Date, dtype: int64"
            ]
          },
          "metadata": {
            "tags": []
          },
          "execution_count": 34
        }
      ]
    },
    {
      "cell_type": "code",
      "metadata": {
        "id": "otT9d8jb-Mxq",
        "colab_type": "code",
        "colab": {}
      },
      "source": [
        "import re\n",
        "def to_street(str):\n",
        "    return re.sub('[^A-Za-z]+', '', str)"
      ],
      "execution_count": 0,
      "outputs": []
    },
    {
      "cell_type": "code",
      "metadata": {
        "id": "V_2sKsKc-QU1",
        "colab_type": "code",
        "outputId": "790746dc-7e47-4127-b0b4-be4fd4ac0266",
        "colab": {
          "base_uri": "https://localhost:8080/",
          "height": 32
        }
      },
      "source": [
        "data_regr.Address.apply(to_street).value_counts().count()"
      ],
      "execution_count": 0,
      "outputs": [
        {
          "output_type": "execute_result",
          "data": {
            "text/plain": [
              "12164"
            ]
          },
          "metadata": {
            "tags": []
          },
          "execution_count": 36
        }
      ]
    },
    {
      "cell_type": "markdown",
      "metadata": {
        "id": "Rswnh5yy-YdE",
        "colab_type": "text"
      },
      "source": [
        "It still has up to 12164 unique value. For regression, this column is too diversed. Hence, I drop it."
      ]
    },
    {
      "cell_type": "code",
      "metadata": {
        "id": "VDpFVbJ8-SAt",
        "colab_type": "code",
        "colab": {}
      },
      "source": [
        "data_regr.drop(columns='Address', inplace=True)"
      ],
      "execution_count": 0,
      "outputs": []
    },
    {
      "cell_type": "code",
      "metadata": {
        "id": "8j5mRfKK-WIP",
        "colab_type": "code",
        "outputId": "db6f767c-9c35-4ad1-e3e5-76d67dfcbe66",
        "colab": {
          "base_uri": "https://localhost:8080/",
          "height": 214
        }
      },
      "source": [
        "counts = data_regr.SellerG.value_counts()\n",
        "counts"
      ],
      "execution_count": 0,
      "outputs": [
        {
          "output_type": "execute_result",
          "data": {
            "text/plain": [
              "Jellis           3359\n",
              "Nelson           3236\n",
              "Barry            3235\n",
              "hockingstuart    2623\n",
              "Marshall         2027\n",
              "                 ... \n",
              "Christou            1\n",
              "Airport             1\n",
              "Bradly              1\n",
              "A                   1\n",
              "Bombay              1\n",
              "Name: SellerG, Length: 388, dtype: int64"
            ]
          },
          "metadata": {
            "tags": []
          },
          "execution_count": 38
        }
      ]
    },
    {
      "cell_type": "code",
      "metadata": {
        "id": "yVeY79vC-d7R",
        "colab_type": "code",
        "outputId": "05d12950-b91b-476f-9bc3-d639bbd188f8",
        "colab": {
          "base_uri": "https://localhost:8080/",
          "height": 448
        }
      },
      "source": [
        "data_regr.SellerG[data['SellerG'].isin(counts[counts < 100].index)] = 'less than 100'\n",
        "data_regr.SellerG[data['SellerG'].isin(counts[(counts >= 100) & (counts < 200)].index)] = '100 - 200'\n",
        "data_regr.SellerG[data['SellerG'].isin(counts[(counts >= 200) & (counts < 500)].index)] = '200 - 500'\n",
        "data_regr.SellerG[data['SellerG'].isin(counts[(counts >= 500) & (counts < 1000)].index)] = '500 - 1000'\n",
        "data_regr.SellerG[data['SellerG'].isin(counts[counts > 1000].index)] = 'over 1000'"
      ],
      "execution_count": 0,
      "outputs": [
        {
          "output_type": "stream",
          "text": [
            "/usr/local/lib/python3.6/dist-packages/ipykernel_launcher.py:1: SettingWithCopyWarning: \n",
            "A value is trying to be set on a copy of a slice from a DataFrame\n",
            "\n",
            "See the caveats in the documentation: https://pandas.pydata.org/pandas-docs/stable/user_guide/indexing.html#returning-a-view-versus-a-copy\n",
            "  \"\"\"Entry point for launching an IPython kernel.\n",
            "/usr/local/lib/python3.6/dist-packages/ipykernel_launcher.py:2: SettingWithCopyWarning: \n",
            "A value is trying to be set on a copy of a slice from a DataFrame\n",
            "\n",
            "See the caveats in the documentation: https://pandas.pydata.org/pandas-docs/stable/user_guide/indexing.html#returning-a-view-versus-a-copy\n",
            "  \n",
            "/usr/local/lib/python3.6/dist-packages/ipykernel_launcher.py:3: SettingWithCopyWarning: \n",
            "A value is trying to be set on a copy of a slice from a DataFrame\n",
            "\n",
            "See the caveats in the documentation: https://pandas.pydata.org/pandas-docs/stable/user_guide/indexing.html#returning-a-view-versus-a-copy\n",
            "  This is separate from the ipykernel package so we can avoid doing imports until\n",
            "/usr/local/lib/python3.6/dist-packages/ipykernel_launcher.py:4: SettingWithCopyWarning: \n",
            "A value is trying to be set on a copy of a slice from a DataFrame\n",
            "\n",
            "See the caveats in the documentation: https://pandas.pydata.org/pandas-docs/stable/user_guide/indexing.html#returning-a-view-versus-a-copy\n",
            "  after removing the cwd from sys.path.\n",
            "/usr/local/lib/python3.6/dist-packages/ipykernel_launcher.py:5: SettingWithCopyWarning: \n",
            "A value is trying to be set on a copy of a slice from a DataFrame\n",
            "\n",
            "See the caveats in the documentation: https://pandas.pydata.org/pandas-docs/stable/user_guide/indexing.html#returning-a-view-versus-a-copy\n",
            "  \"\"\"\n"
          ],
          "name": "stderr"
        }
      ]
    },
    {
      "cell_type": "code",
      "metadata": {
        "id": "IUkA2B4d-hbL",
        "colab_type": "code",
        "outputId": "a97dba29-eebd-4ec5-a5c2-3c0ec4c5b7ad",
        "colab": {
          "base_uri": "https://localhost:8080/",
          "height": 115
        }
      },
      "source": [
        "data_regr.SellerG.value_counts()"
      ],
      "execution_count": 0,
      "outputs": [
        {
          "output_type": "execute_result",
          "data": {
            "text/plain": [
              "over 1000        18298\n",
              "200 - 500         5694\n",
              "500 - 1000        5334\n",
              "less than 100     3575\n",
              "100 - 200         1956\n",
              "Name: SellerG, dtype: int64"
            ]
          },
          "metadata": {
            "tags": []
          },
          "execution_count": 40
        }
      ]
    },
    {
      "cell_type": "markdown",
      "metadata": {
        "id": "I8Q3dUqN-szv",
        "colab_type": "text"
      },
      "source": [
        "As we already have the Geo information of the house in the Regionname , the CouncilArea with 33 unique values can be dropped for convenience."
      ]
    },
    {
      "cell_type": "code",
      "metadata": {
        "id": "OLpCHKPq-lFU",
        "colab_type": "code",
        "colab": {}
      },
      "source": [
        "data_regr.drop(columns='CouncilArea', inplace=True)"
      ],
      "execution_count": 0,
      "outputs": []
    },
    {
      "cell_type": "code",
      "metadata": {
        "id": "Hhi9XT7E-11G",
        "colab_type": "code",
        "outputId": "b0dccf8b-cf32-46cf-8f87-5b61f17281eb",
        "colab": {
          "base_uri": "https://localhost:8080/",
          "height": 170
        }
      },
      "source": [
        "data_regr.describe(include=['O']).T"
      ],
      "execution_count": 0,
      "outputs": [
        {
          "output_type": "execute_result",
          "data": {
            "text/html": [
              "<div>\n",
              "<style scoped>\n",
              "    .dataframe tbody tr th:only-of-type {\n",
              "        vertical-align: middle;\n",
              "    }\n",
              "\n",
              "    .dataframe tbody tr th {\n",
              "        vertical-align: top;\n",
              "    }\n",
              "\n",
              "    .dataframe thead th {\n",
              "        text-align: right;\n",
              "    }\n",
              "</style>\n",
              "<table border=\"1\" class=\"dataframe\">\n",
              "  <thead>\n",
              "    <tr style=\"text-align: right;\">\n",
              "      <th></th>\n",
              "      <th>count</th>\n",
              "      <th>unique</th>\n",
              "      <th>top</th>\n",
              "      <th>freq</th>\n",
              "    </tr>\n",
              "  </thead>\n",
              "  <tbody>\n",
              "    <tr>\n",
              "      <th>Type</th>\n",
              "      <td>34857</td>\n",
              "      <td>3</td>\n",
              "      <td>h</td>\n",
              "      <td>23980</td>\n",
              "    </tr>\n",
              "    <tr>\n",
              "      <th>Method</th>\n",
              "      <td>34857</td>\n",
              "      <td>9</td>\n",
              "      <td>S</td>\n",
              "      <td>19744</td>\n",
              "    </tr>\n",
              "    <tr>\n",
              "      <th>SellerG</th>\n",
              "      <td>34857</td>\n",
              "      <td>5</td>\n",
              "      <td>over 1000</td>\n",
              "      <td>18298</td>\n",
              "    </tr>\n",
              "    <tr>\n",
              "      <th>Regionname</th>\n",
              "      <td>34857</td>\n",
              "      <td>8</td>\n",
              "      <td>Southern Metropolitan</td>\n",
              "      <td>11839</td>\n",
              "    </tr>\n",
              "  </tbody>\n",
              "</table>\n",
              "</div>"
            ],
            "text/plain": [
              "            count unique                    top   freq\n",
              "Type        34857      3                      h  23980\n",
              "Method      34857      9                      S  19744\n",
              "SellerG     34857      5              over 1000  18298\n",
              "Regionname  34857      8  Southern Metropolitan  11839"
            ]
          },
          "metadata": {
            "tags": []
          },
          "execution_count": 42
        }
      ]
    },
    {
      "cell_type": "code",
      "metadata": {
        "id": "I5lo6Rpr-4hj",
        "colab_type": "code",
        "outputId": "2a650977-8920-4f89-e684-5ac07e776698",
        "colab": {
          "base_uri": "https://localhost:8080/",
          "height": 320
        }
      },
      "source": [
        "data.head()"
      ],
      "execution_count": 0,
      "outputs": [
        {
          "output_type": "execute_result",
          "data": {
            "text/html": [
              "<div>\n",
              "<style scoped>\n",
              "    .dataframe tbody tr th:only-of-type {\n",
              "        vertical-align: middle;\n",
              "    }\n",
              "\n",
              "    .dataframe tbody tr th {\n",
              "        vertical-align: top;\n",
              "    }\n",
              "\n",
              "    .dataframe thead th {\n",
              "        text-align: right;\n",
              "    }\n",
              "</style>\n",
              "<table border=\"1\" class=\"dataframe\">\n",
              "  <thead>\n",
              "    <tr style=\"text-align: right;\">\n",
              "      <th></th>\n",
              "      <th>Suburb</th>\n",
              "      <th>Address</th>\n",
              "      <th>Rooms</th>\n",
              "      <th>Type</th>\n",
              "      <th>Price</th>\n",
              "      <th>Method</th>\n",
              "      <th>SellerG</th>\n",
              "      <th>Date</th>\n",
              "      <th>Distance</th>\n",
              "      <th>Postcode</th>\n",
              "      <th>Bathroom</th>\n",
              "      <th>Car</th>\n",
              "      <th>Landsize</th>\n",
              "      <th>BuildingArea</th>\n",
              "      <th>CouncilArea</th>\n",
              "      <th>Regionname</th>\n",
              "      <th>Propertycount</th>\n",
              "    </tr>\n",
              "  </thead>\n",
              "  <tbody>\n",
              "    <tr>\n",
              "      <th>0</th>\n",
              "      <td>Abbotsford</td>\n",
              "      <td>68 Studley St</td>\n",
              "      <td>2</td>\n",
              "      <td>h</td>\n",
              "      <td>870000.0</td>\n",
              "      <td>SS</td>\n",
              "      <td>Jellis</td>\n",
              "      <td>3/09/2016</td>\n",
              "      <td>2.5</td>\n",
              "      <td>3067.0</td>\n",
              "      <td>1.0</td>\n",
              "      <td>1.0</td>\n",
              "      <td>126.0</td>\n",
              "      <td>136.0</td>\n",
              "      <td>Yarra City Council</td>\n",
              "      <td>Northern Metropolitan</td>\n",
              "      <td>4019.0</td>\n",
              "    </tr>\n",
              "    <tr>\n",
              "      <th>1</th>\n",
              "      <td>Abbotsford</td>\n",
              "      <td>85 Turner St</td>\n",
              "      <td>2</td>\n",
              "      <td>h</td>\n",
              "      <td>1480000.0</td>\n",
              "      <td>S</td>\n",
              "      <td>Biggin</td>\n",
              "      <td>3/12/2016</td>\n",
              "      <td>2.5</td>\n",
              "      <td>3067.0</td>\n",
              "      <td>1.0</td>\n",
              "      <td>1.0</td>\n",
              "      <td>202.0</td>\n",
              "      <td>136.0</td>\n",
              "      <td>Yarra City Council</td>\n",
              "      <td>Northern Metropolitan</td>\n",
              "      <td>4019.0</td>\n",
              "    </tr>\n",
              "    <tr>\n",
              "      <th>2</th>\n",
              "      <td>Abbotsford</td>\n",
              "      <td>25 Bloomburg St</td>\n",
              "      <td>2</td>\n",
              "      <td>h</td>\n",
              "      <td>1035000.0</td>\n",
              "      <td>S</td>\n",
              "      <td>Biggin</td>\n",
              "      <td>4/02/2016</td>\n",
              "      <td>2.5</td>\n",
              "      <td>3067.0</td>\n",
              "      <td>1.0</td>\n",
              "      <td>0.0</td>\n",
              "      <td>156.0</td>\n",
              "      <td>79.0</td>\n",
              "      <td>Yarra City Council</td>\n",
              "      <td>Northern Metropolitan</td>\n",
              "      <td>4019.0</td>\n",
              "    </tr>\n",
              "    <tr>\n",
              "      <th>3</th>\n",
              "      <td>Abbotsford</td>\n",
              "      <td>18/659 Victoria St</td>\n",
              "      <td>3</td>\n",
              "      <td>u</td>\n",
              "      <td>870000.0</td>\n",
              "      <td>VB</td>\n",
              "      <td>Rounds</td>\n",
              "      <td>4/02/2016</td>\n",
              "      <td>2.5</td>\n",
              "      <td>3067.0</td>\n",
              "      <td>2.0</td>\n",
              "      <td>1.0</td>\n",
              "      <td>0.0</td>\n",
              "      <td>136.0</td>\n",
              "      <td>Yarra City Council</td>\n",
              "      <td>Northern Metropolitan</td>\n",
              "      <td>4019.0</td>\n",
              "    </tr>\n",
              "    <tr>\n",
              "      <th>4</th>\n",
              "      <td>Abbotsford</td>\n",
              "      <td>5 Charles St</td>\n",
              "      <td>3</td>\n",
              "      <td>h</td>\n",
              "      <td>1465000.0</td>\n",
              "      <td>SP</td>\n",
              "      <td>Biggin</td>\n",
              "      <td>4/03/2017</td>\n",
              "      <td>2.5</td>\n",
              "      <td>3067.0</td>\n",
              "      <td>2.0</td>\n",
              "      <td>0.0</td>\n",
              "      <td>134.0</td>\n",
              "      <td>150.0</td>\n",
              "      <td>Yarra City Council</td>\n",
              "      <td>Northern Metropolitan</td>\n",
              "      <td>4019.0</td>\n",
              "    </tr>\n",
              "  </tbody>\n",
              "</table>\n",
              "</div>"
            ],
            "text/plain": [
              "       Suburb             Address  ...             Regionname Propertycount\n",
              "0  Abbotsford       68 Studley St  ...  Northern Metropolitan        4019.0\n",
              "1  Abbotsford        85 Turner St  ...  Northern Metropolitan        4019.0\n",
              "2  Abbotsford     25 Bloomburg St  ...  Northern Metropolitan        4019.0\n",
              "3  Abbotsford  18/659 Victoria St  ...  Northern Metropolitan        4019.0\n",
              "4  Abbotsford        5 Charles St  ...  Northern Metropolitan        4019.0\n",
              "\n",
              "[5 rows x 17 columns]"
            ]
          },
          "metadata": {
            "tags": []
          },
          "execution_count": 43
        }
      ]
    },
    {
      "cell_type": "code",
      "metadata": {
        "id": "U7Sc1jCk-93S",
        "colab_type": "code",
        "colab": {}
      },
      "source": [
        "data = data.reset_index().drop(columns='index') # do not use inplace=True if combine\n",
        "data_regr = data_regr.reset_index().drop(columns='index')"
      ],
      "execution_count": 0,
      "outputs": []
    },
    {
      "cell_type": "code",
      "metadata": {
        "id": "QWqMoMr9_CXk",
        "colab_type": "code",
        "outputId": "c92b152b-2e33-4198-b3bf-1293945f8055",
        "colab": {
          "base_uri": "https://localhost:8080/",
          "height": 303
        }
      },
      "source": [
        "data_regr.head()"
      ],
      "execution_count": 0,
      "outputs": [
        {
          "output_type": "execute_result",
          "data": {
            "text/html": [
              "<div>\n",
              "<style scoped>\n",
              "    .dataframe tbody tr th:only-of-type {\n",
              "        vertical-align: middle;\n",
              "    }\n",
              "\n",
              "    .dataframe tbody tr th {\n",
              "        vertical-align: top;\n",
              "    }\n",
              "\n",
              "    .dataframe thead th {\n",
              "        text-align: right;\n",
              "    }\n",
              "</style>\n",
              "<table border=\"1\" class=\"dataframe\">\n",
              "  <thead>\n",
              "    <tr style=\"text-align: right;\">\n",
              "      <th></th>\n",
              "      <th>Rooms</th>\n",
              "      <th>Type</th>\n",
              "      <th>Price</th>\n",
              "      <th>Method</th>\n",
              "      <th>SellerG</th>\n",
              "      <th>Date</th>\n",
              "      <th>Distance</th>\n",
              "      <th>Bathroom</th>\n",
              "      <th>Car</th>\n",
              "      <th>Landsize</th>\n",
              "      <th>BuildingArea</th>\n",
              "      <th>YearBuilt</th>\n",
              "      <th>Lattitude</th>\n",
              "      <th>Longtitude</th>\n",
              "      <th>Regionname</th>\n",
              "      <th>Propertycount</th>\n",
              "    </tr>\n",
              "  </thead>\n",
              "  <tbody>\n",
              "    <tr>\n",
              "      <th>0</th>\n",
              "      <td>2</td>\n",
              "      <td>h</td>\n",
              "      <td>870000.0</td>\n",
              "      <td>SS</td>\n",
              "      <td>over 1000</td>\n",
              "      <td>2016</td>\n",
              "      <td>2.5</td>\n",
              "      <td>1.0</td>\n",
              "      <td>1.0</td>\n",
              "      <td>126.0</td>\n",
              "      <td>136.0</td>\n",
              "      <td>1970.0</td>\n",
              "      <td>-37.8014</td>\n",
              "      <td>144.9958</td>\n",
              "      <td>Northern Metropolitan</td>\n",
              "      <td>4019.0</td>\n",
              "    </tr>\n",
              "    <tr>\n",
              "      <th>1</th>\n",
              "      <td>2</td>\n",
              "      <td>h</td>\n",
              "      <td>1480000.0</td>\n",
              "      <td>S</td>\n",
              "      <td>500 - 1000</td>\n",
              "      <td>2016</td>\n",
              "      <td>2.5</td>\n",
              "      <td>1.0</td>\n",
              "      <td>1.0</td>\n",
              "      <td>202.0</td>\n",
              "      <td>136.0</td>\n",
              "      <td>1970.0</td>\n",
              "      <td>-37.7996</td>\n",
              "      <td>144.9984</td>\n",
              "      <td>Northern Metropolitan</td>\n",
              "      <td>4019.0</td>\n",
              "    </tr>\n",
              "    <tr>\n",
              "      <th>2</th>\n",
              "      <td>2</td>\n",
              "      <td>h</td>\n",
              "      <td>1035000.0</td>\n",
              "      <td>S</td>\n",
              "      <td>500 - 1000</td>\n",
              "      <td>2016</td>\n",
              "      <td>2.5</td>\n",
              "      <td>1.0</td>\n",
              "      <td>0.0</td>\n",
              "      <td>156.0</td>\n",
              "      <td>79.0</td>\n",
              "      <td>1900.0</td>\n",
              "      <td>-37.8079</td>\n",
              "      <td>144.9934</td>\n",
              "      <td>Northern Metropolitan</td>\n",
              "      <td>4019.0</td>\n",
              "    </tr>\n",
              "    <tr>\n",
              "      <th>3</th>\n",
              "      <td>3</td>\n",
              "      <td>u</td>\n",
              "      <td>870000.0</td>\n",
              "      <td>VB</td>\n",
              "      <td>less than 100</td>\n",
              "      <td>2016</td>\n",
              "      <td>2.5</td>\n",
              "      <td>2.0</td>\n",
              "      <td>1.0</td>\n",
              "      <td>0.0</td>\n",
              "      <td>136.0</td>\n",
              "      <td>1970.0</td>\n",
              "      <td>-37.8114</td>\n",
              "      <td>145.0116</td>\n",
              "      <td>Northern Metropolitan</td>\n",
              "      <td>4019.0</td>\n",
              "    </tr>\n",
              "    <tr>\n",
              "      <th>4</th>\n",
              "      <td>3</td>\n",
              "      <td>h</td>\n",
              "      <td>1465000.0</td>\n",
              "      <td>SP</td>\n",
              "      <td>500 - 1000</td>\n",
              "      <td>2017</td>\n",
              "      <td>2.5</td>\n",
              "      <td>2.0</td>\n",
              "      <td>0.0</td>\n",
              "      <td>134.0</td>\n",
              "      <td>150.0</td>\n",
              "      <td>1900.0</td>\n",
              "      <td>-37.8093</td>\n",
              "      <td>144.9944</td>\n",
              "      <td>Northern Metropolitan</td>\n",
              "      <td>4019.0</td>\n",
              "    </tr>\n",
              "  </tbody>\n",
              "</table>\n",
              "</div>"
            ],
            "text/plain": [
              "   Rooms Type      Price  ... Longtitude             Regionname  Propertycount\n",
              "0      2    h   870000.0  ...   144.9958  Northern Metropolitan         4019.0\n",
              "1      2    h  1480000.0  ...   144.9984  Northern Metropolitan         4019.0\n",
              "2      2    h  1035000.0  ...   144.9934  Northern Metropolitan         4019.0\n",
              "3      3    u   870000.0  ...   145.0116  Northern Metropolitan         4019.0\n",
              "4      3    h  1465000.0  ...   144.9944  Northern Metropolitan         4019.0\n",
              "\n",
              "[5 rows x 16 columns]"
            ]
          },
          "metadata": {
            "tags": []
          },
          "execution_count": 45
        }
      ]
    },
    {
      "cell_type": "markdown",
      "metadata": {
        "id": "4WgaDiJj_Gtk",
        "colab_type": "text"
      },
      "source": [
        "**One-hot Encode**"
      ]
    },
    {
      "cell_type": "code",
      "metadata": {
        "id": "G5NJyt5s_EmN",
        "colab_type": "code",
        "colab": {}
      },
      "source": [
        "categoricals = ['Type', 'Method', 'SellerG', 'Regionname', 'Date']\n",
        "for feature in categoricals:\n",
        "    df = copy.copy(pd.get_dummies(data_regr[feature], drop_first=True))\n",
        "    data_regr = pd.concat([data_regr, df], axis=1)\n",
        "    data_regr.drop(columns=feature, inplace=True)"
      ],
      "execution_count": 0,
      "outputs": []
    },
    {
      "cell_type": "code",
      "metadata": {
        "id": "nx-XILo4_N_A",
        "colab_type": "code",
        "outputId": "35a89382-fde0-45b3-a0a6-0d5245612110",
        "colab": {
          "base_uri": "https://localhost:8080/",
          "height": 254
        }
      },
      "source": [
        "data_regr.head()"
      ],
      "execution_count": 0,
      "outputs": [
        {
          "output_type": "execute_result",
          "data": {
            "text/html": [
              "<div>\n",
              "<style scoped>\n",
              "    .dataframe tbody tr th:only-of-type {\n",
              "        vertical-align: middle;\n",
              "    }\n",
              "\n",
              "    .dataframe tbody tr th {\n",
              "        vertical-align: top;\n",
              "    }\n",
              "\n",
              "    .dataframe thead th {\n",
              "        text-align: right;\n",
              "    }\n",
              "</style>\n",
              "<table border=\"1\" class=\"dataframe\">\n",
              "  <thead>\n",
              "    <tr style=\"text-align: right;\">\n",
              "      <th></th>\n",
              "      <th>Rooms</th>\n",
              "      <th>Price</th>\n",
              "      <th>Distance</th>\n",
              "      <th>Bathroom</th>\n",
              "      <th>Car</th>\n",
              "      <th>Landsize</th>\n",
              "      <th>BuildingArea</th>\n",
              "      <th>YearBuilt</th>\n",
              "      <th>Lattitude</th>\n",
              "      <th>Longtitude</th>\n",
              "      <th>Propertycount</th>\n",
              "      <th>t</th>\n",
              "      <th>u</th>\n",
              "      <th>PN</th>\n",
              "      <th>S</th>\n",
              "      <th>SA</th>\n",
              "      <th>SN</th>\n",
              "      <th>SP</th>\n",
              "      <th>SS</th>\n",
              "      <th>VB</th>\n",
              "      <th>W</th>\n",
              "      <th>200 - 500</th>\n",
              "      <th>500 - 1000</th>\n",
              "      <th>less than 100</th>\n",
              "      <th>over 1000</th>\n",
              "      <th>Eastern Victoria</th>\n",
              "      <th>Northern Metropolitan</th>\n",
              "      <th>Northern Victoria</th>\n",
              "      <th>South-Eastern Metropolitan</th>\n",
              "      <th>Southern Metropolitan</th>\n",
              "      <th>Western Metropolitan</th>\n",
              "      <th>Western Victoria</th>\n",
              "      <th>2017</th>\n",
              "      <th>2018</th>\n",
              "    </tr>\n",
              "  </thead>\n",
              "  <tbody>\n",
              "    <tr>\n",
              "      <th>0</th>\n",
              "      <td>2</td>\n",
              "      <td>870000.0</td>\n",
              "      <td>2.5</td>\n",
              "      <td>1.0</td>\n",
              "      <td>1.0</td>\n",
              "      <td>126.0</td>\n",
              "      <td>136.0</td>\n",
              "      <td>1970.0</td>\n",
              "      <td>-37.8014</td>\n",
              "      <td>144.9958</td>\n",
              "      <td>4019.0</td>\n",
              "      <td>0</td>\n",
              "      <td>0</td>\n",
              "      <td>0</td>\n",
              "      <td>0</td>\n",
              "      <td>0</td>\n",
              "      <td>0</td>\n",
              "      <td>0</td>\n",
              "      <td>1</td>\n",
              "      <td>0</td>\n",
              "      <td>0</td>\n",
              "      <td>0</td>\n",
              "      <td>0</td>\n",
              "      <td>0</td>\n",
              "      <td>1</td>\n",
              "      <td>0</td>\n",
              "      <td>1</td>\n",
              "      <td>0</td>\n",
              "      <td>0</td>\n",
              "      <td>0</td>\n",
              "      <td>0</td>\n",
              "      <td>0</td>\n",
              "      <td>0</td>\n",
              "      <td>0</td>\n",
              "    </tr>\n",
              "    <tr>\n",
              "      <th>1</th>\n",
              "      <td>2</td>\n",
              "      <td>1480000.0</td>\n",
              "      <td>2.5</td>\n",
              "      <td>1.0</td>\n",
              "      <td>1.0</td>\n",
              "      <td>202.0</td>\n",
              "      <td>136.0</td>\n",
              "      <td>1970.0</td>\n",
              "      <td>-37.7996</td>\n",
              "      <td>144.9984</td>\n",
              "      <td>4019.0</td>\n",
              "      <td>0</td>\n",
              "      <td>0</td>\n",
              "      <td>0</td>\n",
              "      <td>1</td>\n",
              "      <td>0</td>\n",
              "      <td>0</td>\n",
              "      <td>0</td>\n",
              "      <td>0</td>\n",
              "      <td>0</td>\n",
              "      <td>0</td>\n",
              "      <td>0</td>\n",
              "      <td>1</td>\n",
              "      <td>0</td>\n",
              "      <td>0</td>\n",
              "      <td>0</td>\n",
              "      <td>1</td>\n",
              "      <td>0</td>\n",
              "      <td>0</td>\n",
              "      <td>0</td>\n",
              "      <td>0</td>\n",
              "      <td>0</td>\n",
              "      <td>0</td>\n",
              "      <td>0</td>\n",
              "    </tr>\n",
              "    <tr>\n",
              "      <th>2</th>\n",
              "      <td>2</td>\n",
              "      <td>1035000.0</td>\n",
              "      <td>2.5</td>\n",
              "      <td>1.0</td>\n",
              "      <td>0.0</td>\n",
              "      <td>156.0</td>\n",
              "      <td>79.0</td>\n",
              "      <td>1900.0</td>\n",
              "      <td>-37.8079</td>\n",
              "      <td>144.9934</td>\n",
              "      <td>4019.0</td>\n",
              "      <td>0</td>\n",
              "      <td>0</td>\n",
              "      <td>0</td>\n",
              "      <td>1</td>\n",
              "      <td>0</td>\n",
              "      <td>0</td>\n",
              "      <td>0</td>\n",
              "      <td>0</td>\n",
              "      <td>0</td>\n",
              "      <td>0</td>\n",
              "      <td>0</td>\n",
              "      <td>1</td>\n",
              "      <td>0</td>\n",
              "      <td>0</td>\n",
              "      <td>0</td>\n",
              "      <td>1</td>\n",
              "      <td>0</td>\n",
              "      <td>0</td>\n",
              "      <td>0</td>\n",
              "      <td>0</td>\n",
              "      <td>0</td>\n",
              "      <td>0</td>\n",
              "      <td>0</td>\n",
              "    </tr>\n",
              "    <tr>\n",
              "      <th>3</th>\n",
              "      <td>3</td>\n",
              "      <td>870000.0</td>\n",
              "      <td>2.5</td>\n",
              "      <td>2.0</td>\n",
              "      <td>1.0</td>\n",
              "      <td>0.0</td>\n",
              "      <td>136.0</td>\n",
              "      <td>1970.0</td>\n",
              "      <td>-37.8114</td>\n",
              "      <td>145.0116</td>\n",
              "      <td>4019.0</td>\n",
              "      <td>0</td>\n",
              "      <td>1</td>\n",
              "      <td>0</td>\n",
              "      <td>0</td>\n",
              "      <td>0</td>\n",
              "      <td>0</td>\n",
              "      <td>0</td>\n",
              "      <td>0</td>\n",
              "      <td>1</td>\n",
              "      <td>0</td>\n",
              "      <td>0</td>\n",
              "      <td>0</td>\n",
              "      <td>1</td>\n",
              "      <td>0</td>\n",
              "      <td>0</td>\n",
              "      <td>1</td>\n",
              "      <td>0</td>\n",
              "      <td>0</td>\n",
              "      <td>0</td>\n",
              "      <td>0</td>\n",
              "      <td>0</td>\n",
              "      <td>0</td>\n",
              "      <td>0</td>\n",
              "    </tr>\n",
              "    <tr>\n",
              "      <th>4</th>\n",
              "      <td>3</td>\n",
              "      <td>1465000.0</td>\n",
              "      <td>2.5</td>\n",
              "      <td>2.0</td>\n",
              "      <td>0.0</td>\n",
              "      <td>134.0</td>\n",
              "      <td>150.0</td>\n",
              "      <td>1900.0</td>\n",
              "      <td>-37.8093</td>\n",
              "      <td>144.9944</td>\n",
              "      <td>4019.0</td>\n",
              "      <td>0</td>\n",
              "      <td>0</td>\n",
              "      <td>0</td>\n",
              "      <td>0</td>\n",
              "      <td>0</td>\n",
              "      <td>0</td>\n",
              "      <td>1</td>\n",
              "      <td>0</td>\n",
              "      <td>0</td>\n",
              "      <td>0</td>\n",
              "      <td>0</td>\n",
              "      <td>1</td>\n",
              "      <td>0</td>\n",
              "      <td>0</td>\n",
              "      <td>0</td>\n",
              "      <td>1</td>\n",
              "      <td>0</td>\n",
              "      <td>0</td>\n",
              "      <td>0</td>\n",
              "      <td>0</td>\n",
              "      <td>0</td>\n",
              "      <td>1</td>\n",
              "      <td>0</td>\n",
              "    </tr>\n",
              "  </tbody>\n",
              "</table>\n",
              "</div>"
            ],
            "text/plain": [
              "   Rooms      Price  Distance  ...  Western Victoria  2017  2018\n",
              "0      2   870000.0       2.5  ...                 0     0     0\n",
              "1      2  1480000.0       2.5  ...                 0     0     0\n",
              "2      2  1035000.0       2.5  ...                 0     0     0\n",
              "3      3   870000.0       2.5  ...                 0     0     0\n",
              "4      3  1465000.0       2.5  ...                 0     1     0\n",
              "\n",
              "[5 rows x 34 columns]"
            ]
          },
          "metadata": {
            "tags": []
          },
          "execution_count": 47
        }
      ]
    },
    {
      "cell_type": "code",
      "metadata": {
        "id": "Q1VDphlC_bJi",
        "colab_type": "code",
        "outputId": "789ff1ea-2d73-483b-c8a5-9dcad917d736",
        "colab": {
          "base_uri": "https://localhost:8080/",
          "height": 32
        }
      },
      "source": [
        "data_regr.shape"
      ],
      "execution_count": 0,
      "outputs": [
        {
          "output_type": "execute_result",
          "data": {
            "text/plain": [
              "(34857, 34)"
            ]
          },
          "metadata": {
            "tags": []
          },
          "execution_count": 48
        }
      ]
    },
    {
      "cell_type": "markdown",
      "metadata": {
        "id": "cOR2uwJM_mSE",
        "colab_type": "text"
      },
      "source": [
        "**Linear Regression without PCA**"
      ]
    },
    {
      "cell_type": "markdown",
      "metadata": {
        "id": "MuLtWdAP_qnL",
        "colab_type": "text"
      },
      "source": [
        "**Hold out**"
      ]
    },
    {
      "cell_type": "code",
      "metadata": {
        "id": "eKVDXNBd_gdl",
        "colab_type": "code",
        "colab": {}
      },
      "source": [
        "model_HO = linear_model.LinearRegression()"
      ],
      "execution_count": 0,
      "outputs": []
    },
    {
      "cell_type": "code",
      "metadata": {
        "id": "bYfBdz0l_uCD",
        "colab_type": "code",
        "colab": {}
      },
      "source": [
        "train, test = train_test_split(data_regr, test_size = 0.2, random_state=512)"
      ],
      "execution_count": 0,
      "outputs": []
    },
    {
      "cell_type": "code",
      "metadata": {
        "id": "BxpXBySB_vrs",
        "colab_type": "code",
        "outputId": "5307d41b-17c7-43f4-b05a-ae3eb5a90b3d",
        "colab": {
          "base_uri": "https://localhost:8080/",
          "height": 32
        }
      },
      "source": [
        "train.shape"
      ],
      "execution_count": 0,
      "outputs": [
        {
          "output_type": "execute_result",
          "data": {
            "text/plain": [
              "(27885, 34)"
            ]
          },
          "metadata": {
            "tags": []
          },
          "execution_count": 51
        }
      ]
    },
    {
      "cell_type": "code",
      "metadata": {
        "id": "f4Ke5sG2_xOh",
        "colab_type": "code",
        "outputId": "6f0d3592-741d-4469-e708-a569328c6ab6",
        "colab": {
          "base_uri": "https://localhost:8080/",
          "height": 32
        }
      },
      "source": [
        "test.shape"
      ],
      "execution_count": 0,
      "outputs": [
        {
          "output_type": "execute_result",
          "data": {
            "text/plain": [
              "(6972, 34)"
            ]
          },
          "metadata": {
            "tags": []
          },
          "execution_count": 52
        }
      ]
    },
    {
      "cell_type": "code",
      "metadata": {
        "id": "VkkHk0_L_y-Z",
        "colab_type": "code",
        "colab": {}
      },
      "source": [
        "X_train = train.loc[:, data_regr.columns != 'Price']\n",
        "y_train = train.Price\n",
        "\n",
        "X_test = test.loc[:, data_regr.columns != 'Price']\n",
        "y_test = test.Price"
      ],
      "execution_count": 0,
      "outputs": []
    },
    {
      "cell_type": "code",
      "metadata": {
        "id": "ajishjSd_2oQ",
        "colab_type": "code",
        "outputId": "89f6b28b-e700-4aff-a20f-23ad26ce01ed",
        "colab": {
          "base_uri": "https://localhost:8080/",
          "height": 32
        }
      },
      "source": [
        "model_HO.fit(X_train.values, y_train.values)"
      ],
      "execution_count": 0,
      "outputs": [
        {
          "output_type": "execute_result",
          "data": {
            "text/plain": [
              "LinearRegression(copy_X=True, fit_intercept=True, n_jobs=None, normalize=False)"
            ]
          },
          "metadata": {
            "tags": []
          },
          "execution_count": 54
        }
      ]
    },
    {
      "cell_type": "code",
      "metadata": {
        "id": "QsI94sUa_4ar",
        "colab_type": "code",
        "outputId": "58a44e41-0476-4226-86e9-b2f7178a40f4",
        "colab": {
          "base_uri": "https://localhost:8080/",
          "height": 32
        }
      },
      "source": [
        "predict_train = model_HO.predict(X_train.values)\n",
        "mean_squared_error(y_train, predict_train)"
      ],
      "execution_count": 0,
      "outputs": [
        {
          "output_type": "execute_result",
          "data": {
            "text/plain": [
              "198007623274.10977"
            ]
          },
          "metadata": {
            "tags": []
          },
          "execution_count": 55
        }
      ]
    },
    {
      "cell_type": "code",
      "metadata": {
        "id": "fZm3bXTo_6xb",
        "colab_type": "code",
        "outputId": "a3442663-081d-45df-cf87-5f9748a519c3",
        "colab": {
          "base_uri": "https://localhost:8080/",
          "height": 32
        }
      },
      "source": [
        "predict_test = model_HO.predict(X_test.values)\n",
        "mean_squared_error(y_test, predict_test)"
      ],
      "execution_count": 0,
      "outputs": [
        {
          "output_type": "execute_result",
          "data": {
            "text/plain": [
              "187951650405.58542"
            ]
          },
          "metadata": {
            "tags": []
          },
          "execution_count": 56
        }
      ]
    },
    {
      "cell_type": "code",
      "metadata": {
        "id": "BVPobTIdAJ1s",
        "colab_type": "code",
        "outputId": "b49aae12-d38c-4088-fb29-d24834dbc232",
        "colab": {
          "base_uri": "https://localhost:8080/",
          "height": 289
        }
      },
      "source": [
        "import matplotlib.pyplot as plt\n",
        "\n",
        "fig, ax = plt.subplots()\n",
        "ax.scatter(y_test, predict_test)\n",
        "ax.plot([y_test.min(), y_test.max()], [y_test.min(), y_test.max()], 'k--', lw=4)\n",
        "ax.set_xlabel('Measured')\n",
        "ax.set_ylabel('Predicted')\n",
        "plt.show()"
      ],
      "execution_count": 0,
      "outputs": [
        {
          "output_type": "display_data",
          "data": {
            "image/png": "[encoded data removed]",
            "text/plain": [
              "<Figure size 432x288 with 1 Axes>"
            ]
          },
          "metadata": {
            "tags": [],
            "needs_background": "light"
          }
        }
      ]
    },
    {
      "cell_type": "markdown",
      "metadata": {
        "id": "2wKplCwjAUfN",
        "colab_type": "text"
      },
      "source": [
        "**Cross validation**"
      ]
    },
    {
      "cell_type": "code",
      "metadata": {
        "id": "rSvjXI_pANG5",
        "colab_type": "code",
        "colab": {}
      },
      "source": [
        "model_CV = linear_model.LinearRegression()"
      ],
      "execution_count": 0,
      "outputs": []
    },
    {
      "cell_type": "code",
      "metadata": {
        "id": "LdV0k9EHAafH",
        "colab_type": "code",
        "outputId": "6b4b2730-8d33-42de-df2a-d214b16a29e4",
        "colab": {
          "base_uri": "https://localhost:8080/",
          "height": 289
        }
      },
      "source": [
        "y = data_regr.Price\n",
        "X = data_regr.loc[:, data_regr.columns != 'Price']\n",
        "predicted = cross_val_predict(model_CV, X.values, y.values, cv=5)\n",
        "\n",
        "fig, ax = plt.subplots()\n",
        "ax.scatter(y, predicted)\n",
        "ax.plot([y.min(), y.max()], [y.min(), y.max()], 'k--', lw=4)\n",
        "ax.set_xlabel('Measured')\n",
        "ax.set_ylabel('Predicted')\n",
        "plt.show()"
      ],
      "execution_count": 0,
      "outputs": [
        {
          "output_type": "display_data",
          "data": {
            "image/png": "[encoded data removed]",
            "text/plain": [
              "<Figure size 432x288 with 1 Axes>"
            ]
          },
          "metadata": {
            "tags": [],
            "needs_background": "light"
          }
        }
      ]
    },
    {
      "cell_type": "code",
      "metadata": {
        "id": "wqF7oVoMAcNU",
        "colab_type": "code",
        "outputId": "b542ccf2-1f54-49bd-f226-6cc660f522c0",
        "colab": {
          "base_uri": "https://localhost:8080/",
          "height": 32
        }
      },
      "source": [
        "mean_squared_error(y.values, predicted)"
      ],
      "execution_count": 0,
      "outputs": [
        {
          "output_type": "execute_result",
          "data": {
            "text/plain": [
              "198304811842.3468"
            ]
          },
          "metadata": {
            "tags": []
          },
          "execution_count": 61
        }
      ]
    },
    {
      "cell_type": "markdown",
      "metadata": {
        "id": "TGRXXw7HAg0_",
        "colab_type": "text"
      },
      "source": [
        "According to the graph and the high value, this model does not perform well. It is possible that the model is too simple for this problem."
      ]
    },
    {
      "cell_type": "markdown",
      "metadata": {
        "id": "4kx-ZpAyAnVe",
        "colab_type": "text"
      },
      "source": [
        "**Linear Regression with PCA**"
      ]
    },
    {
      "cell_type": "code",
      "metadata": {
        "id": "25bkVnKGAeaq",
        "colab_type": "code",
        "colab": {}
      },
      "source": [
        "from sklearn.decomposition import PCA"
      ],
      "execution_count": 0,
      "outputs": []
    },
    {
      "cell_type": "code",
      "metadata": {
        "id": "5Y9JNrYvAqnr",
        "colab_type": "code",
        "colab": {}
      },
      "source": [
        "pca = PCA(n_components=10)"
      ],
      "execution_count": 0,
      "outputs": []
    },
    {
      "cell_type": "code",
      "metadata": {
        "id": "wDgDL6SwAruS",
        "colab_type": "code",
        "colab": {}
      },
      "source": [
        "X_new = pd.DataFrame(pca.fit_transform(X.values))"
      ],
      "execution_count": 0,
      "outputs": []
    },
    {
      "cell_type": "markdown",
      "metadata": {
        "id": "UikUhQXaAuI2",
        "colab_type": "text"
      },
      "source": [
        "**Hold out**"
      ]
    },
    {
      "cell_type": "code",
      "metadata": {
        "id": "BvUrrhriAs66",
        "colab_type": "code",
        "colab": {}
      },
      "source": [
        "model_HO_PCA = linear_model.LinearRegression()"
      ],
      "execution_count": 0,
      "outputs": []
    },
    {
      "cell_type": "code",
      "metadata": {
        "id": "MiIUAWupAya1",
        "colab_type": "code",
        "colab": {}
      },
      "source": [
        "dataPCA = pd.concat([X_new, y], axis=1)"
      ],
      "execution_count": 0,
      "outputs": []
    },
    {
      "cell_type": "code",
      "metadata": {
        "id": "vWAW0q0pA05V",
        "colab_type": "code",
        "colab": {}
      },
      "source": [
        "train, test = train_test_split(dataPCA, test_size = 0.2, random_state=512)"
      ],
      "execution_count": 0,
      "outputs": []
    },
    {
      "cell_type": "code",
      "metadata": {
        "id": "TknBuNxZA3JQ",
        "colab_type": "code",
        "colab": {}
      },
      "source": [
        "X_train = train.loc[:, train.columns != 'Price']\n",
        "y_train = train.Price\n",
        "\n",
        "X_test = test.loc[:, test.columns != 'Price']\n",
        "y_test = test.Price"
      ],
      "execution_count": 0,
      "outputs": []
    },
    {
      "cell_type": "code",
      "metadata": {
        "id": "PfR-HobfA5fD",
        "colab_type": "code",
        "outputId": "1b9d6789-35c6-4d0e-c4c8-0c6bc65d2719",
        "colab": {
          "base_uri": "https://localhost:8080/",
          "height": 32
        }
      },
      "source": [
        "model_HO_PCA.fit(X_train.values, y_train.values)"
      ],
      "execution_count": 0,
      "outputs": [
        {
          "output_type": "execute_result",
          "data": {
            "text/plain": [
              "LinearRegression(copy_X=True, fit_intercept=True, n_jobs=None, normalize=False)"
            ]
          },
          "metadata": {
            "tags": []
          },
          "execution_count": 69
        }
      ]
    },
    {
      "cell_type": "code",
      "metadata": {
        "id": "zp0KGesGA8tl",
        "colab_type": "code",
        "outputId": "2f3304e9-1ddb-42b0-806f-ec893f799dfb",
        "colab": {
          "base_uri": "https://localhost:8080/",
          "height": 32
        }
      },
      "source": [
        "predict_train = model_HO_PCA.predict(X_train.values)\n",
        "mean_squared_error(y_train, predict_train)"
      ],
      "execution_count": 0,
      "outputs": [
        {
          "output_type": "execute_result",
          "data": {
            "text/plain": [
              "217409671467.66196"
            ]
          },
          "metadata": {
            "tags": []
          },
          "execution_count": 70
        }
      ]
    },
    {
      "cell_type": "code",
      "metadata": {
        "id": "nji2E9cJA-YX",
        "colab_type": "code",
        "outputId": "c31ca161-adca-4a75-e6cd-238549509c49",
        "colab": {
          "base_uri": "https://localhost:8080/",
          "height": 32
        }
      },
      "source": [
        "predict_test = model_HO_PCA.predict(X_test.values)\n",
        "mean_squared_error(y_test, predict_test)"
      ],
      "execution_count": 0,
      "outputs": [
        {
          "output_type": "execute_result",
          "data": {
            "text/plain": [
              "205898510754.77783"
            ]
          },
          "metadata": {
            "tags": []
          },
          "execution_count": 71
        }
      ]
    },
    {
      "cell_type": "code",
      "metadata": {
        "id": "jvNLKRUPBCYk",
        "colab_type": "code",
        "outputId": "c08b095d-1bcb-413b-9ff8-0d833acdf081",
        "colab": {
          "base_uri": "https://localhost:8080/",
          "height": 289
        }
      },
      "source": [
        "fig, ax = plt.subplots()\n",
        "ax.scatter(y_test, predict_test)\n",
        "ax.plot([y_test.min(), y_test.max()], [y_test.min(), y_test.max()], 'k--', lw=4)\n",
        "ax.set_xlabel('Measured')\n",
        "ax.set_ylabel('Predicted')\n",
        "plt.show()"
      ],
      "execution_count": 0,
      "outputs": [
        {
          "output_type": "display_data",
          "data": {
            "image/png": "[encoded data removed]",
            "text/plain": [
              "<Figure size 432x288 with 1 Axes>"
            ]
          },
          "metadata": {
            "tags": [],
            "needs_background": "light"
          }
        }
      ]
    },
    {
      "cell_type": "markdown",
      "metadata": {
        "id": "aObrgiCABLlQ",
        "colab_type": "text"
      },
      "source": [
        "**Cross validation**"
      ]
    },
    {
      "cell_type": "code",
      "metadata": {
        "id": "qYPu6Ao8BE_V",
        "colab_type": "code",
        "colab": {}
      },
      "source": [
        "model_CV_PCA = linear_model.LinearRegression()"
      ],
      "execution_count": 0,
      "outputs": []
    },
    {
      "cell_type": "code",
      "metadata": {
        "id": "Z4QiqMlyBO1h",
        "colab_type": "code",
        "outputId": "1881e279-b2a6-4859-ea1c-ec1b856951ac",
        "colab": {
          "base_uri": "https://localhost:8080/",
          "height": 289
        }
      },
      "source": [
        "y = dataPCA.Price\n",
        "X = dataPCA.loc[:, dataPCA.columns != 'Price']\n",
        "predicted = cross_val_predict(model_CV_PCA, X.values, y.values, cv=5)\n",
        "\n",
        "fig, ax = plt.subplots()\n",
        "ax.scatter(y, predicted)\n",
        "ax.plot([y.min(), y.max()], [y.min(), y.max()], 'k--', lw=4)\n",
        "ax.set_xlabel('Measured')\n",
        "ax.set_ylabel('Predicted')\n",
        "plt.show()"
      ],
      "execution_count": 0,
      "outputs": [
        {
          "output_type": "display_data",
          "data": {
            "image/png": "[encoded data removed]",
            "text/plain": [
              "<Figure size 432x288 with 1 Axes>"
            ]
          },
          "metadata": {
            "tags": [],
            "needs_background": "light"
          }
        }
      ]
    },
    {
      "cell_type": "code",
      "metadata": {
        "id": "WKrem-1fBQHw",
        "colab_type": "code",
        "outputId": "5e0b8db7-2d4a-484a-abe1-a505e79ba4a1",
        "colab": {
          "base_uri": "https://localhost:8080/",
          "height": 32
        }
      },
      "source": [
        "mean_squared_error(y.values, predicted)"
      ],
      "execution_count": 0,
      "outputs": [
        {
          "output_type": "execute_result",
          "data": {
            "text/plain": [
              "216669359941.2629"
            ]
          },
          "metadata": {
            "tags": []
          },
          "execution_count": 75
        }
      ]
    },
    {
      "cell_type": "markdown",
      "metadata": {
        "id": "m0IR3rulBYa2",
        "colab_type": "text"
      },
      "source": [
        "As expected, the original model with all of the data does not perform as very well, the model with PCA couldnt perform better."
      ]
    },
    {
      "cell_type": "code",
      "metadata": {
        "id": "YiUD0-aFBTSq",
        "colab_type": "code",
        "colab": {}
      },
      "source": [
        "X = data_regr.loc[:, data_regr.columns != 'Price']\n",
        "y = data_regr.Price"
      ],
      "execution_count": 0,
      "outputs": []
    },
    {
      "cell_type": "code",
      "metadata": {
        "id": "Q4XgG_GtBgd1",
        "colab_type": "code",
        "colab": {}
      },
      "source": [
        "model = linear_model.LinearRegression()"
      ],
      "execution_count": 0,
      "outputs": []
    },
    {
      "cell_type": "code",
      "metadata": {
        "id": "pfxB-Z51BilZ",
        "colab_type": "code",
        "outputId": "b385bb44-853a-4355-d317-2fbc1e1d6891",
        "colab": {
          "base_uri": "https://localhost:8080/",
          "height": 32
        }
      },
      "source": [
        "model.fit(X.values, y.values)"
      ],
      "execution_count": 0,
      "outputs": [
        {
          "output_type": "execute_result",
          "data": {
            "text/plain": [
              "LinearRegression(copy_X=True, fit_intercept=True, n_jobs=None, normalize=False)"
            ]
          },
          "metadata": {
            "tags": []
          },
          "execution_count": 78
        }
      ]
    },
    {
      "cell_type": "code",
      "metadata": {
        "id": "EwC6F_JkBj0X",
        "colab_type": "code",
        "colab": {}
      },
      "source": [
        "predict = model.predict(X.values)"
      ],
      "execution_count": 0,
      "outputs": []
    },
    {
      "cell_type": "code",
      "metadata": {
        "id": "e3eMfdGHBove",
        "colab_type": "code",
        "outputId": "5d007827-6eac-41e9-dec7-aaa0b74b7056",
        "colab": {
          "base_uri": "https://localhost:8080/",
          "height": 538
        }
      },
      "source": [
        "!pip install seaborn\n",
        "import seaborn as sns\n",
        "\n",
        "sns.residplot(predict, y.values)"
      ],
      "execution_count": 0,
      "outputs": [
        {
          "output_type": "stream",
          "text": [
            "Requirement already satisfied: seaborn in /usr/local/lib/python3.6/dist-packages (0.10.0)\n",
            "Requirement already satisfied: pandas>=0.22.0 in /usr/local/lib/python3.6/dist-packages (from seaborn) (1.0.3)\n",
            "Requirement already satisfied: scipy>=1.0.1 in /usr/local/lib/python3.6/dist-packages (from seaborn) (1.4.1)\n",
            "Requirement already satisfied: numpy>=1.13.3 in /usr/local/lib/python3.6/dist-packages (from seaborn) (1.18.3)\n",
            "Requirement already satisfied: matplotlib>=2.1.2 in /usr/local/lib/python3.6/dist-packages (from seaborn) (3.2.1)\n",
            "Requirement already satisfied: python-dateutil>=2.6.1 in /usr/local/lib/python3.6/dist-packages (from pandas>=0.22.0->seaborn) (2.8.1)\n",
            "Requirement already satisfied: pytz>=2017.2 in /usr/local/lib/python3.6/dist-packages (from pandas>=0.22.0->seaborn) (2018.9)\n",
            "Requirement already satisfied: kiwisolver>=1.0.1 in /usr/local/lib/python3.6/dist-packages (from matplotlib>=2.1.2->seaborn) (1.2.0)\n",
            "Requirement already satisfied: cycler>=0.10 in /usr/local/lib/python3.6/dist-packages (from matplotlib>=2.1.2->seaborn) (0.10.0)\n",
            "Requirement already satisfied: pyparsing!=2.0.4,!=2.1.2,!=2.1.6,>=2.0.1 in /usr/local/lib/python3.6/dist-packages (from matplotlib>=2.1.2->seaborn) (2.4.7)\n",
            "Requirement already satisfied: six>=1.5 in /usr/local/lib/python3.6/dist-packages (from python-dateutil>=2.6.1->pandas>=0.22.0->seaborn) (1.12.0)\n"
          ],
          "name": "stdout"
        },
        {
          "output_type": "stream",
          "text": [
            "/usr/local/lib/python3.6/dist-packages/statsmodels/tools/_testing.py:19: FutureWarning: pandas.util.testing is deprecated. Use the functions in the public API at pandas.testing instead.\n",
            "  import pandas.util.testing as tm\n"
          ],
          "name": "stderr"
        },
        {
          "output_type": "execute_result",
          "data": {
            "text/plain": [
              "<matplotlib.axes._subplots.AxesSubplot at 0x7fa930092160>"
            ]
          },
          "metadata": {
            "tags": []
          },
          "execution_count": 81
        },
        {
          "output_type": "display_data",
          "data": {
            "image/png": "[encoded data removed]",
            "text/plain": [
              "<Figure size 432x288 with 1 Axes>"
            ]
          },
          "metadata": {
            "tags": [],
            "needs_background": "light"
          }
        }
      ]
    },
    {
      "cell_type": "markdown",
      "metadata": {
        "id": "9mjpLbCsB-Ag",
        "colab_type": "text"
      },
      "source": [
        "the Residual Plot shows that this model is not a good fit for the problem."
      ]
    },
    {
      "cell_type": "code",
      "metadata": {
        "id": "04YlkQaHBqyR",
        "colab_type": "code",
        "colab": {}
      },
      "source": [
        "a = (y.values - predict)"
      ],
      "execution_count": 0,
      "outputs": []
    },
    {
      "cell_type": "code",
      "metadata": {
        "id": "N-YR4a8PCArv",
        "colab_type": "code",
        "outputId": "0cfd8937-9d0f-46bf-f0cf-b8dd424a30a2",
        "colab": {
          "base_uri": "https://localhost:8080/",
          "height": 289
        }
      },
      "source": [
        "fig, ax = plt.subplots()\n",
        "ax.scatter(data_regr.Rooms.values, a)\n",
        "ax.set_xlabel('Rooms')\n",
        "ax.set_ylabel('Residual')\n",
        "plt.show()"
      ],
      "execution_count": 0,
      "outputs": [
        {
          "output_type": "display_data",
          "data": {
            "image/png": "[encoded data removed]",
            "text/plain": [
              "<Figure size 432x288 with 1 Axes>"
            ]
          },
          "metadata": {
            "tags": [],
            "needs_background": "light"
          }
        }
      ]
    },
    {
      "cell_type": "code",
      "metadata": {
        "id": "j3EjBprmCC4K",
        "colab_type": "code",
        "outputId": "9cbd98a1-2ab1-4a63-9470-f9e0c19ec350",
        "colab": {
          "base_uri": "https://localhost:8080/",
          "height": 289
        }
      },
      "source": [
        "fig, ax = plt.subplots()\n",
        "ax.scatter(data_regr.Distance.values, a)\n",
        "ax.set_xlabel('Distance')\n",
        "ax.set_ylabel('Residual')\n",
        "plt.show()"
      ],
      "execution_count": 0,
      "outputs": [
        {
          "output_type": "display_data",
          "data": {
            "image/png": "[encoded data removed]",
            "text/plain": [
              "<Figure size 432x288 with 1 Axes>"
            ]
          },
          "metadata": {
            "tags": [],
            "needs_background": "light"
          }
        }
      ]
    },
    {
      "cell_type": "code",
      "metadata": {
        "id": "vERCJrs6CF6V",
        "colab_type": "code",
        "outputId": "764c5e3d-d8ea-4f96-b303-76f96edaa6d4",
        "colab": {
          "base_uri": "https://localhost:8080/",
          "height": 289
        }
      },
      "source": [
        "fig, ax = plt.subplots()\n",
        "ax.scatter(data_regr.Bathroom.values, a)\n",
        "ax.set_xlabel('Bathroom')\n",
        "ax.set_ylabel('Residual')\n",
        "plt.show()"
      ],
      "execution_count": 0,
      "outputs": [
        {
          "output_type": "display_data",
          "data": {
            "image/png": "[encoded data removed]",
            "text/plain": [
              "<Figure size 432x288 with 1 Axes>"
            ]
          },
          "metadata": {
            "tags": [],
            "needs_background": "light"
          }
        }
      ]
    },
    {
      "cell_type": "code",
      "metadata": {
        "id": "mLyjuc1bCIEp",
        "colab_type": "code",
        "outputId": "dc9edd91-53c4-42c8-a599-531d9a9cd7e1",
        "colab": {
          "base_uri": "https://localhost:8080/",
          "height": 289
        }
      },
      "source": [
        "fig, ax = plt.subplots()\n",
        "ax.scatter(data_regr.Car.values, a)\n",
        "ax.set_xlabel('Car')\n",
        "ax.set_ylabel('Residual')\n",
        "plt.show()"
      ],
      "execution_count": 0,
      "outputs": [
        {
          "output_type": "display_data",
          "data": {
            "image/png": "[encoded data removed]",
            "text/plain": [
              "<Figure size 432x288 with 1 Axes>"
            ]
          },
          "metadata": {
            "tags": [],
            "needs_background": "light"
          }
        }
      ]
    },
    {
      "cell_type": "code",
      "metadata": {
        "id": "haaPo6j4CM0f",
        "colab_type": "code",
        "outputId": "54f9f603-4500-40d8-a0f9-3d461548e110",
        "colab": {
          "base_uri": "https://localhost:8080/",
          "height": 289
        }
      },
      "source": [
        "fig, ax = plt.subplots()\n",
        "ax.scatter(data_regr.Landsize.values, a)\n",
        "ax.set_xlabel('Landsize')\n",
        "ax.set_ylabel('Residual')\n",
        "plt.show()"
      ],
      "execution_count": 0,
      "outputs": [
        {
          "output_type": "display_data",
          "data": {
            "image/png": "[encoded data removed]",
            "text/plain": [
              "<Figure size 432x288 with 1 Axes>"
            ]
          },
          "metadata": {
            "tags": [],
            "needs_background": "light"
          }
        }
      ]
    },
    {
      "cell_type": "code",
      "metadata": {
        "id": "sOv64HJBCT45",
        "colab_type": "code",
        "outputId": "5082e94e-46a3-48be-d318-2520e041d265",
        "colab": {
          "base_uri": "https://localhost:8080/",
          "height": 289
        }
      },
      "source": [
        "fig, ax = plt.subplots()\n",
        "ax.scatter(data_regr.BuildingArea.values, a)\n",
        "ax.set_xlabel('BuildingArea')\n",
        "ax.set_ylabel('Residual')\n",
        "plt.show()"
      ],
      "execution_count": 0,
      "outputs": [
        {
          "output_type": "display_data",
          "data": {
            "image/png": "[encoded data removed]",
            "text/plain": [
              "<Figure size 432x288 with 1 Axes>"
            ]
          },
          "metadata": {
            "tags": [],
            "needs_background": "light"
          }
        }
      ]
    },
    {
      "cell_type": "code",
      "metadata": {
        "id": "ePzz0TlwCWVX",
        "colab_type": "code",
        "outputId": "c8358ca8-220e-4c36-d173-68d022ba502f",
        "colab": {
          "base_uri": "https://localhost:8080/",
          "height": 289
        }
      },
      "source": [
        "fig, ax = plt.subplots()\n",
        "ax.scatter(data_regr.Propertycount.values, a)\n",
        "ax.set_xlabel('Propertycount')\n",
        "ax.set_ylabel('Residual')\n",
        "plt.show()"
      ],
      "execution_count": 0,
      "outputs": [
        {
          "output_type": "display_data",
          "data": {
            "image/png": "[encoded data removed]",
            "text/plain": [
              "<Figure size 432x288 with 1 Axes>"
            ]
          },
          "metadata": {
            "tags": [],
            "needs_background": "light"
          }
        }
      ]
    },
    {
      "cell_type": "markdown",
      "metadata": {
        "id": "KxkjroywCevt",
        "colab_type": "text"
      },
      "source": [
        "It shows that the variables have great heteroskedasticity value, especially the BuildingArea and the Landsize. They have many outliers. I want to eliminate all of these outliers and fit the model again to see the result."
      ]
    },
    {
      "cell_type": "code",
      "metadata": {
        "id": "UWHRGRUCCb3F",
        "colab_type": "code",
        "colab": {}
      },
      "source": [
        "data_regr = data_regr[data_regr.BuildingArea < 3000]"
      ],
      "execution_count": 0,
      "outputs": []
    },
    {
      "cell_type": "code",
      "metadata": {
        "id": "lEENqU-yCo3X",
        "colab_type": "code",
        "colab": {}
      },
      "source": [
        "data_regr = data_regr.reset_index()"
      ],
      "execution_count": 0,
      "outputs": []
    },
    {
      "cell_type": "code",
      "metadata": {
        "id": "-SavHHv9CtXM",
        "colab_type": "code",
        "colab": {}
      },
      "source": [
        "data_regr.drop(columns='index', inplace=True)"
      ],
      "execution_count": 0,
      "outputs": []
    },
    {
      "cell_type": "code",
      "metadata": {
        "id": "aBzeZUGJCt2W",
        "colab_type": "code",
        "outputId": "9d88b010-f918-4607-b3d5-d87103ee6d20",
        "colab": {
          "base_uri": "https://localhost:8080/",
          "height": 1000
        }
      },
      "source": [
        "data_regr.describe().T"
      ],
      "execution_count": 0,
      "outputs": [
        {
          "output_type": "execute_result",
          "data": {
            "text/html": [
              "<div>\n",
              "<style scoped>\n",
              "    .dataframe tbody tr th:only-of-type {\n",
              "        vertical-align: middle;\n",
              "    }\n",
              "\n",
              "    .dataframe tbody tr th {\n",
              "        vertical-align: top;\n",
              "    }\n",
              "\n",
              "    .dataframe thead th {\n",
              "        text-align: right;\n",
              "    }\n",
              "</style>\n",
              "<table border=\"1\" class=\"dataframe\">\n",
              "  <thead>\n",
              "    <tr style=\"text-align: right;\">\n",
              "      <th></th>\n",
              "      <th>count</th>\n",
              "      <th>mean</th>\n",
              "      <th>std</th>\n",
              "      <th>min</th>\n",
              "      <th>25%</th>\n",
              "      <th>50%</th>\n",
              "      <th>75%</th>\n",
              "      <th>max</th>\n",
              "    </tr>\n",
              "  </thead>\n",
              "  <tbody>\n",
              "    <tr>\n",
              "      <th>Rooms</th>\n",
              "      <td>34851.0</td>\n",
              "      <td>3.030874e+00</td>\n",
              "      <td>0.969858</td>\n",
              "      <td>1.00000</td>\n",
              "      <td>2.0000</td>\n",
              "      <td>3.0000</td>\n",
              "      <td>4.000000e+00</td>\n",
              "      <td>1.600000e+01</td>\n",
              "    </tr>\n",
              "    <tr>\n",
              "      <th>Price</th>\n",
              "      <td>34851.0</td>\n",
              "      <td>1.010790e+06</td>\n",
              "      <td>571980.710175</td>\n",
              "      <td>85000.00000</td>\n",
              "      <td>695000.0000</td>\n",
              "      <td>870000.0000</td>\n",
              "      <td>1.150000e+06</td>\n",
              "      <td>1.120000e+07</td>\n",
              "    </tr>\n",
              "    <tr>\n",
              "      <th>Distance</th>\n",
              "      <td>34851.0</td>\n",
              "      <td>1.118420e+01</td>\n",
              "      <td>6.787633</td>\n",
              "      <td>0.00000</td>\n",
              "      <td>6.4000</td>\n",
              "      <td>10.3000</td>\n",
              "      <td>1.400000e+01</td>\n",
              "      <td>4.810000e+01</td>\n",
              "    </tr>\n",
              "    <tr>\n",
              "      <th>Bathroom</th>\n",
              "      <td>34851.0</td>\n",
              "      <td>1.477146e+00</td>\n",
              "      <td>0.686048</td>\n",
              "      <td>0.00000</td>\n",
              "      <td>1.0000</td>\n",
              "      <td>1.0000</td>\n",
              "      <td>2.000000e+00</td>\n",
              "      <td>1.200000e+01</td>\n",
              "    </tr>\n",
              "    <tr>\n",
              "      <th>Car</th>\n",
              "      <td>34851.0</td>\n",
              "      <td>1.796620e+00</td>\n",
              "      <td>0.882745</td>\n",
              "      <td>0.00000</td>\n",
              "      <td>1.0000</td>\n",
              "      <td>2.0000</td>\n",
              "      <td>2.000000e+00</td>\n",
              "      <td>2.600000e+01</td>\n",
              "    </tr>\n",
              "    <tr>\n",
              "      <th>Landsize</th>\n",
              "      <td>34851.0</td>\n",
              "      <td>5.688360e+02</td>\n",
              "      <td>2764.071727</td>\n",
              "      <td>0.00000</td>\n",
              "      <td>357.0000</td>\n",
              "      <td>521.0000</td>\n",
              "      <td>5.980000e+02</td>\n",
              "      <td>4.330140e+05</td>\n",
              "    </tr>\n",
              "    <tr>\n",
              "      <th>BuildingArea</th>\n",
              "      <td>34851.0</td>\n",
              "      <td>1.435219e+02</td>\n",
              "      <td>57.495397</td>\n",
              "      <td>0.00000</td>\n",
              "      <td>136.0000</td>\n",
              "      <td>136.0000</td>\n",
              "      <td>1.360000e+02</td>\n",
              "      <td>2.002000e+03</td>\n",
              "    </tr>\n",
              "    <tr>\n",
              "      <th>YearBuilt</th>\n",
              "      <td>34851.0</td>\n",
              "      <td>1.967897e+03</td>\n",
              "      <td>25.033216</td>\n",
              "      <td>1196.00000</td>\n",
              "      <td>1970.0000</td>\n",
              "      <td>1970.0000</td>\n",
              "      <td>1.970000e+03</td>\n",
              "      <td>2.018000e+03</td>\n",
              "    </tr>\n",
              "    <tr>\n",
              "      <th>Lattitude</th>\n",
              "      <td>34851.0</td>\n",
              "      <td>-3.780992e+01</td>\n",
              "      <td>0.079267</td>\n",
              "      <td>-38.19043</td>\n",
              "      <td>-37.8469</td>\n",
              "      <td>-37.8076</td>\n",
              "      <td>-3.777089e+01</td>\n",
              "      <td>-3.739020e+01</td>\n",
              "    </tr>\n",
              "    <tr>\n",
              "      <th>Longtitude</th>\n",
              "      <td>34851.0</td>\n",
              "      <td>1.450032e+02</td>\n",
              "      <td>0.105559</td>\n",
              "      <td>144.42379</td>\n",
              "      <td>144.9644</td>\n",
              "      <td>145.0078</td>\n",
              "      <td>1.450517e+02</td>\n",
              "      <td>1.455264e+02</td>\n",
              "    </tr>\n",
              "    <tr>\n",
              "      <th>Propertycount</th>\n",
              "      <td>34851.0</td>\n",
              "      <td>7.574116e+03</td>\n",
              "      <td>4429.881276</td>\n",
              "      <td>83.00000</td>\n",
              "      <td>4385.0000</td>\n",
              "      <td>6763.0000</td>\n",
              "      <td>1.041200e+04</td>\n",
              "      <td>2.165000e+04</td>\n",
              "    </tr>\n",
              "    <tr>\n",
              "      <th>t</th>\n",
              "      <td>34851.0</td>\n",
              "      <td>1.026656e-01</td>\n",
              "      <td>0.303526</td>\n",
              "      <td>0.00000</td>\n",
              "      <td>0.0000</td>\n",
              "      <td>0.0000</td>\n",
              "      <td>0.000000e+00</td>\n",
              "      <td>1.000000e+00</td>\n",
              "    </tr>\n",
              "    <tr>\n",
              "      <th>u</th>\n",
              "      <td>34851.0</td>\n",
              "      <td>2.093771e-01</td>\n",
              "      <td>0.406870</td>\n",
              "      <td>0.00000</td>\n",
              "      <td>0.0000</td>\n",
              "      <td>0.0000</td>\n",
              "      <td>0.000000e+00</td>\n",
              "      <td>1.000000e+00</td>\n",
              "    </tr>\n",
              "    <tr>\n",
              "      <th>PN</th>\n",
              "      <td>34851.0</td>\n",
              "      <td>8.837623e-03</td>\n",
              "      <td>0.093594</td>\n",
              "      <td>0.00000</td>\n",
              "      <td>0.0000</td>\n",
              "      <td>0.0000</td>\n",
              "      <td>0.000000e+00</td>\n",
              "      <td>1.000000e+00</td>\n",
              "    </tr>\n",
              "    <tr>\n",
              "      <th>S</th>\n",
              "      <td>34851.0</td>\n",
              "      <td>5.664400e-01</td>\n",
              "      <td>0.495573</td>\n",
              "      <td>0.00000</td>\n",
              "      <td>0.0000</td>\n",
              "      <td>1.0000</td>\n",
              "      <td>1.000000e+00</td>\n",
              "      <td>1.000000e+00</td>\n",
              "    </tr>\n",
              "    <tr>\n",
              "      <th>SA</th>\n",
              "      <td>34851.0</td>\n",
              "      <td>6.484749e-03</td>\n",
              "      <td>0.080268</td>\n",
              "      <td>0.00000</td>\n",
              "      <td>0.0000</td>\n",
              "      <td>0.0000</td>\n",
              "      <td>0.000000e+00</td>\n",
              "      <td>1.000000e+00</td>\n",
              "    </tr>\n",
              "    <tr>\n",
              "      <th>SN</th>\n",
              "      <td>34851.0</td>\n",
              "      <td>3.778945e-02</td>\n",
              "      <td>0.190689</td>\n",
              "      <td>0.00000</td>\n",
              "      <td>0.0000</td>\n",
              "      <td>0.0000</td>\n",
              "      <td>0.000000e+00</td>\n",
              "      <td>1.000000e+00</td>\n",
              "    </tr>\n",
              "    <tr>\n",
              "      <th>SP</th>\n",
              "      <td>34851.0</td>\n",
              "      <td>1.461651e-01</td>\n",
              "      <td>0.353277</td>\n",
              "      <td>0.00000</td>\n",
              "      <td>0.0000</td>\n",
              "      <td>0.0000</td>\n",
              "      <td>0.000000e+00</td>\n",
              "      <td>1.000000e+00</td>\n",
              "    </tr>\n",
              "    <tr>\n",
              "      <th>SS</th>\n",
              "      <td>34851.0</td>\n",
              "      <td>1.032969e-03</td>\n",
              "      <td>0.032124</td>\n",
              "      <td>0.00000</td>\n",
              "      <td>0.0000</td>\n",
              "      <td>0.0000</td>\n",
              "      <td>0.000000e+00</td>\n",
              "      <td>1.000000e+00</td>\n",
              "    </tr>\n",
              "    <tr>\n",
              "      <th>VB</th>\n",
              "      <td>34851.0</td>\n",
              "      <td>8.917965e-02</td>\n",
              "      <td>0.285007</td>\n",
              "      <td>0.00000</td>\n",
              "      <td>0.0000</td>\n",
              "      <td>0.0000</td>\n",
              "      <td>0.000000e+00</td>\n",
              "      <td>1.000000e+00</td>\n",
              "    </tr>\n",
              "    <tr>\n",
              "      <th>W</th>\n",
              "      <td>34851.0</td>\n",
              "      <td>4.963990e-03</td>\n",
              "      <td>0.070282</td>\n",
              "      <td>0.00000</td>\n",
              "      <td>0.0000</td>\n",
              "      <td>0.0000</td>\n",
              "      <td>0.000000e+00</td>\n",
              "      <td>1.000000e+00</td>\n",
              "    </tr>\n",
              "    <tr>\n",
              "      <th>200 - 500</th>\n",
              "      <td>34851.0</td>\n",
              "      <td>1.633813e-01</td>\n",
              "      <td>0.369718</td>\n",
              "      <td>0.00000</td>\n",
              "      <td>0.0000</td>\n",
              "      <td>0.0000</td>\n",
              "      <td>0.000000e+00</td>\n",
              "      <td>1.000000e+00</td>\n",
              "    </tr>\n",
              "    <tr>\n",
              "      <th>500 - 1000</th>\n",
              "      <td>34851.0</td>\n",
              "      <td>1.530229e-01</td>\n",
              "      <td>0.360015</td>\n",
              "      <td>0.00000</td>\n",
              "      <td>0.0000</td>\n",
              "      <td>0.0000</td>\n",
              "      <td>0.000000e+00</td>\n",
              "      <td>1.000000e+00</td>\n",
              "    </tr>\n",
              "    <tr>\n",
              "      <th>less than 100</th>\n",
              "      <td>34851.0</td>\n",
              "      <td>1.025796e-01</td>\n",
              "      <td>0.303413</td>\n",
              "      <td>0.00000</td>\n",
              "      <td>0.0000</td>\n",
              "      <td>0.0000</td>\n",
              "      <td>0.000000e+00</td>\n",
              "      <td>1.000000e+00</td>\n",
              "    </tr>\n",
              "    <tr>\n",
              "      <th>over 1000</th>\n",
              "      <td>34851.0</td>\n",
              "      <td>5.248917e-01</td>\n",
              "      <td>0.499387</td>\n",
              "      <td>0.00000</td>\n",
              "      <td>0.0000</td>\n",
              "      <td>1.0000</td>\n",
              "      <td>1.000000e+00</td>\n",
              "      <td>1.000000e+00</td>\n",
              "    </tr>\n",
              "    <tr>\n",
              "      <th>Eastern Victoria</th>\n",
              "      <td>34851.0</td>\n",
              "      <td>6.542137e-03</td>\n",
              "      <td>0.080620</td>\n",
              "      <td>0.00000</td>\n",
              "      <td>0.0000</td>\n",
              "      <td>0.0000</td>\n",
              "      <td>0.000000e+00</td>\n",
              "      <td>1.000000e+00</td>\n",
              "    </tr>\n",
              "    <tr>\n",
              "      <th>Northern Metropolitan</th>\n",
              "      <td>34851.0</td>\n",
              "      <td>2.741959e-01</td>\n",
              "      <td>0.446115</td>\n",
              "      <td>0.00000</td>\n",
              "      <td>0.0000</td>\n",
              "      <td>0.0000</td>\n",
              "      <td>1.000000e+00</td>\n",
              "      <td>1.000000e+00</td>\n",
              "    </tr>\n",
              "    <tr>\n",
              "      <th>Northern Victoria</th>\n",
              "      <td>34851.0</td>\n",
              "      <td>5.824797e-03</td>\n",
              "      <td>0.076099</td>\n",
              "      <td>0.00000</td>\n",
              "      <td>0.0000</td>\n",
              "      <td>0.0000</td>\n",
              "      <td>0.000000e+00</td>\n",
              "      <td>1.000000e+00</td>\n",
              "    </tr>\n",
              "    <tr>\n",
              "      <th>South-Eastern Metropolitan</th>\n",
              "      <td>34851.0</td>\n",
              "      <td>4.986944e-02</td>\n",
              "      <td>0.217678</td>\n",
              "      <td>0.00000</td>\n",
              "      <td>0.0000</td>\n",
              "      <td>0.0000</td>\n",
              "      <td>0.000000e+00</td>\n",
              "      <td>1.000000e+00</td>\n",
              "    </tr>\n",
              "    <tr>\n",
              "      <th>Southern Metropolitan</th>\n",
              "      <td>34851.0</td>\n",
              "      <td>3.396459e-01</td>\n",
              "      <td>0.473596</td>\n",
              "      <td>0.00000</td>\n",
              "      <td>0.0000</td>\n",
              "      <td>0.0000</td>\n",
              "      <td>1.000000e+00</td>\n",
              "      <td>1.000000e+00</td>\n",
              "    </tr>\n",
              "    <tr>\n",
              "      <th>Western Metropolitan</th>\n",
              "      <td>34851.0</td>\n",
              "      <td>1.950877e-01</td>\n",
              "      <td>0.396274</td>\n",
              "      <td>0.00000</td>\n",
              "      <td>0.0000</td>\n",
              "      <td>0.0000</td>\n",
              "      <td>0.000000e+00</td>\n",
              "      <td>1.000000e+00</td>\n",
              "    </tr>\n",
              "    <tr>\n",
              "      <th>Western Victoria</th>\n",
              "      <td>34851.0</td>\n",
              "      <td>3.299762e-03</td>\n",
              "      <td>0.057350</td>\n",
              "      <td>0.00000</td>\n",
              "      <td>0.0000</td>\n",
              "      <td>0.0000</td>\n",
              "      <td>0.000000e+00</td>\n",
              "      <td>1.000000e+00</td>\n",
              "    </tr>\n",
              "    <tr>\n",
              "      <th>2017</th>\n",
              "      <td>34851.0</td>\n",
              "      <td>5.695389e-01</td>\n",
              "      <td>0.495148</td>\n",
              "      <td>0.00000</td>\n",
              "      <td>0.0000</td>\n",
              "      <td>1.0000</td>\n",
              "      <td>1.000000e+00</td>\n",
              "      <td>1.000000e+00</td>\n",
              "    </tr>\n",
              "    <tr>\n",
              "      <th>2018</th>\n",
              "      <td>34851.0</td>\n",
              "      <td>1.352042e-01</td>\n",
              "      <td>0.341946</td>\n",
              "      <td>0.00000</td>\n",
              "      <td>0.0000</td>\n",
              "      <td>0.0000</td>\n",
              "      <td>0.000000e+00</td>\n",
              "      <td>1.000000e+00</td>\n",
              "    </tr>\n",
              "  </tbody>\n",
              "</table>\n",
              "</div>"
            ],
            "text/plain": [
              "                              count          mean  ...           75%           max\n",
              "Rooms                       34851.0  3.030874e+00  ...  4.000000e+00  1.600000e+01\n",
              "Price                       34851.0  1.010790e+06  ...  1.150000e+06  1.120000e+07\n",
              "Distance                    34851.0  1.118420e+01  ...  1.400000e+01  4.810000e+01\n",
              "Bathroom                    34851.0  1.477146e+00  ...  2.000000e+00  1.200000e+01\n",
              "Car                         34851.0  1.796620e+00  ...  2.000000e+00  2.600000e+01\n",
              "Landsize                    34851.0  5.688360e+02  ...  5.980000e+02  4.330140e+05\n",
              "BuildingArea                34851.0  1.435219e+02  ...  1.360000e+02  2.002000e+03\n",
              "YearBuilt                   34851.0  1.967897e+03  ...  1.970000e+03  2.018000e+03\n",
              "Lattitude                   34851.0 -3.780992e+01  ... -3.777089e+01 -3.739020e+01\n",
              "Longtitude                  34851.0  1.450032e+02  ...  1.450517e+02  1.455264e+02\n",
              "Propertycount               34851.0  7.574116e+03  ...  1.041200e+04  2.165000e+04\n",
              "t                           34851.0  1.026656e-01  ...  0.000000e+00  1.000000e+00\n",
              "u                           34851.0  2.093771e-01  ...  0.000000e+00  1.000000e+00\n",
              "PN                          34851.0  8.837623e-03  ...  0.000000e+00  1.000000e+00\n",
              "S                           34851.0  5.664400e-01  ...  1.000000e+00  1.000000e+00\n",
              "SA                          34851.0  6.484749e-03  ...  0.000000e+00  1.000000e+00\n",
              "SN                          34851.0  3.778945e-02  ...  0.000000e+00  1.000000e+00\n",
              "SP                          34851.0  1.461651e-01  ...  0.000000e+00  1.000000e+00\n",
              "SS                          34851.0  1.032969e-03  ...  0.000000e+00  1.000000e+00\n",
              "VB                          34851.0  8.917965e-02  ...  0.000000e+00  1.000000e+00\n",
              "W                           34851.0  4.963990e-03  ...  0.000000e+00  1.000000e+00\n",
              "200 - 500                   34851.0  1.633813e-01  ...  0.000000e+00  1.000000e+00\n",
              "500 - 1000                  34851.0  1.530229e-01  ...  0.000000e+00  1.000000e+00\n",
              "less than 100               34851.0  1.025796e-01  ...  0.000000e+00  1.000000e+00\n",
              "over 1000                   34851.0  5.248917e-01  ...  1.000000e+00  1.000000e+00\n",
              "Eastern Victoria            34851.0  6.542137e-03  ...  0.000000e+00  1.000000e+00\n",
              "Northern Metropolitan       34851.0  2.741959e-01  ...  1.000000e+00  1.000000e+00\n",
              "Northern Victoria           34851.0  5.824797e-03  ...  0.000000e+00  1.000000e+00\n",
              "South-Eastern Metropolitan  34851.0  4.986944e-02  ...  0.000000e+00  1.000000e+00\n",
              "Southern Metropolitan       34851.0  3.396459e-01  ...  1.000000e+00  1.000000e+00\n",
              "Western Metropolitan        34851.0  1.950877e-01  ...  0.000000e+00  1.000000e+00\n",
              "Western Victoria            34851.0  3.299762e-03  ...  0.000000e+00  1.000000e+00\n",
              "2017                        34851.0  5.695389e-01  ...  1.000000e+00  1.000000e+00\n",
              "2018                        34851.0  1.352042e-01  ...  0.000000e+00  1.000000e+00\n",
              "\n",
              "[34 rows x 8 columns]"
            ]
          },
          "metadata": {
            "tags": []
          },
          "execution_count": 95
        }
      ]
    },
    {
      "cell_type": "code",
      "metadata": {
        "id": "6P9fIlQeCvGe",
        "colab_type": "code",
        "colab": {}
      },
      "source": [
        "data_regr = data_regr[data_regr.Landsize < 3000]\n",
        "data_regr = data_regr.reset_index()\n",
        "data_regr.drop(columns='index', inplace=True)"
      ],
      "execution_count": 0,
      "outputs": []
    },
    {
      "cell_type": "code",
      "metadata": {
        "id": "CHX4ffWVC1eS",
        "colab_type": "code",
        "outputId": "2a4b32ec-d88f-4c9f-ba25-dbe4adfce10d",
        "colab": {
          "base_uri": "https://localhost:8080/",
          "height": 32
        }
      },
      "source": [
        "X = data_regr.loc[:, data_regr.columns != 'Price']\n",
        "y = data_regr.Price\n",
        "model = linear_model.LinearRegression()\n",
        "model.fit(X.values, y.values)\n",
        "predict = model.predict(X.values)\n",
        "mean_squared_error(y.values, predict)"
      ],
      "execution_count": 0,
      "outputs": [
        {
          "output_type": "execute_result",
          "data": {
            "text/plain": [
              "193869370874.81165"
            ]
          },
          "metadata": {
            "tags": []
          },
          "execution_count": 97
        }
      ]
    },
    {
      "cell_type": "code",
      "metadata": {
        "id": "T9fDd8giC4xa",
        "colab_type": "code",
        "outputId": "3860edd4-a2e7-4dd4-bf99-205b76c44f3c",
        "colab": {
          "base_uri": "https://localhost:8080/",
          "height": 289
        }
      },
      "source": [
        "fig, ax = plt.subplots()\n",
        "ax.scatter(y, predict)\n",
        "ax.plot([y.min(), y.max()], [y.min(), y.max()], 'k--', lw=4)\n",
        "ax.set_xlabel('Measured')\n",
        "ax.set_ylabel('Predicted')\n",
        "plt.show()"
      ],
      "execution_count": 0,
      "outputs": [
        {
          "output_type": "display_data",
          "data": {
            "image/png": "[encoded data removed]",
            "text/plain": [
              "<Figure size 432x288 with 1 Axes>"
            ]
          },
          "metadata": {
            "tags": [],
            "needs_background": "light"
          }
        }
      ]
    },
    {
      "cell_type": "markdown",
      "metadata": {
        "id": "2_VM0KJoDBq9",
        "colab_type": "text"
      },
      "source": [
        "The model still does not perform really good. We might need a non-linear model for this problem."
      ]
    }
  ]
}